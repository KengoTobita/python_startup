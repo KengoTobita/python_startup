{
  "nbformat": 4,
  "nbformat_minor": 0,
  "metadata": {
    "colab": {
      "name": "StartupPython_HelloWorld.ipynb",
      "version": "0.3.2",
      "provenance": [],
      "collapsed_sections": [
        "C_WS9AaelKMM"
      ],
      "include_colab_link": true
    },
    "kernelspec": {
      "name": "python3",
      "display_name": "Python 3"
    }
  },
  "cells": [
    {
      "cell_type": "markdown",
      "metadata": {
        "id": "view-in-github",
        "colab_type": "text"
      },
      "source": [
        "<a href=\"https://colab.research.google.com/github/KengoTobita/python_startup/blob/master/StartupPython_HelloWorld.ipynb\" target=\"_parent\"><img src=\"https://colab.research.google.com/assets/colab-badge.svg\" alt=\"Open In Colab\"/></a>"
      ]
    },
    {
      "metadata": {
        "id": "C_WS9AaelKMM",
        "colab_type": "text"
      },
      "cell_type": "markdown",
      "source": [
        "# 第１章　Pythonの基本\n",
        "\n",
        "本性で行う内容\n",
        "* 基本的な演算\n",
        "* データ型\n",
        "* 変数\n",
        "* コメント\n",
        "* print関数\n",
        "* input関数\n",
        "* len関数\n",
        "* データ型の変更\n"
      ]
    },
    {
      "metadata": {
        "id": "_wGD-y_4u2sJ",
        "colab_type": "text"
      },
      "cell_type": "markdown",
      "source": [
        "***\n",
        "# Pythonを電卓として使おう！      \n",
        "    \n",
        "複雑な計算もPythonを使用すれば、簡単に分かりやすく計算することができます！    \n",
        "もちろん、これらの演算子は機械学習でも多用する重要な技術です。     \n",
        "ぜひマスターしてください！\n",
        "\n",
        "\n",
        "| 演算子 | 使用例 | 使用例の結果 | 解説 |\n",
        "| :----: | :----: | :----------: | ------------------------------ |\n",
        "| x + y  | 2 + 3  |      5       | 普通の足し算                   |\n",
        "| x - y  | 3 - 2  |      1       | 普通の引き算                   |\n",
        "| x * y  | 4 * 3  |      12      | 普通の掛け算                   |\n",
        "| x / y  | 5 / 2  |     2.5      | 割り算<span style=\"font-size: 10%\">（小数点以下の表示<b>あり</b>）</span> |\n",
        "| x // y | 5 // 2 |      2       | 割り算<span style=\"font-size: 10%\">（少数点以下の表示<b>なし</b>）</span> |\n",
        "| x ** y | 2 ** 4 |      16      | 累乗                           |\n",
        "\n",
        "これらの演算子を使用して簡単な計算をしてみましょう！\n"
      ]
    },
    {
      "metadata": {
        "id": "Dq1dUtLM8Jhs",
        "colab_type": "text"
      },
      "cell_type": "markdown",
      "source": [
        "# データ型\n",
        "Pythonで書いた構文の各要素には「データ型」と言われる分類があります。<br>\n",
        "文字ならば文字型……<br>\n",
        "整数ならば整数型……<br>\n",
        "それぞれの要素にはそれぞれのデータ型が設定されています。<br>\n",
        "  \n",
        "それらについて難しいことは一切ありませんが、Pythonを使用するにあたって知っておく必要があります。<br>\n",
        "ここで覚えてしまいましょう。\n",
        "\n",
        "| 名前       | 表記  | 使用例        |\n",
        "| ---------- | ----- | ------------- |\n",
        "| 文字型     | str   | \"Hello\"       |\n",
        "| 整数型     | int   | 10            |\n",
        "| 浮動小数型 | froat | 3.24          |\n",
        "\n",
        "データ型の確認には**type関数**を使用します。<br>\n",
        "使用方法は`type()`の括弧の中に、データ型を確かめたい要素を入れるだけです"
      ]
    },
    {
      "metadata": {
        "id": "RQK1XI8sBUV2",
        "colab_type": "code",
        "outputId": "0b7b156c-cd4c-464e-eb16-69bfaf61c962",
        "colab": {
          "base_uri": "https://localhost:8080/",
          "height": 68
        }
      },
      "cell_type": "code",
      "source": [
        "print(type(100))\n",
        "print(type(\"百\"))\n",
        "print(type(100.0))"
      ],
      "execution_count": 0,
      "outputs": [
        {
          "output_type": "stream",
          "text": [
            "<class 'int'>\n",
            "<class 'str'>\n",
            "<class 'float'>\n"
          ],
          "name": "stdout"
        }
      ]
    },
    {
      "metadata": {
        "id": "4ogK_EabCo4F",
        "colab_type": "text"
      },
      "cell_type": "markdown",
      "source": [
        "\n",
        "## 文字型 (str)\n",
        "文字列型は名前の通り文字を扱うデータ型です。<br>\n",
        "type関数では`str`と表示されます。<br>\n",
        "また、文字型のみ表現する場合は`'`(シングルクォート)か、`\"`（ダブルクォート）で囲む必要があります。<br>\n",
        "<font color = \"#cccccc\">私はダブルクォートを多用する癖がありますが、皆さんはシングルクォートでも構いません</font>\n",
        "  \n",
        "具体例として[ISO基準の国名コード](https://ja.wikipedia.org/wiki/ISO_3166-1)を変数として、値に国名を入れてみましょう。<br>\n"
      ]
    },
    {
      "metadata": {
        "id": "vrl_ORWpC0V5",
        "colab_type": "code",
        "outputId": "93b5317e-d0b0-4f8b-bf28-0a169d8c8796",
        "colab": {
          "base_uri": "https://localhost:8080/",
          "height": 51
        }
      },
      "cell_type": "code",
      "source": [
        "#シングルクウォートでも、ダブルクォートでも大丈夫です！\n",
        "USA = \"アメリカ\"\n",
        "RUS = 'ロシア'\n",
        "\n",
        "print(USA)\n",
        "print(type(RUS))"
      ],
      "execution_count": 0,
      "outputs": [
        {
          "output_type": "stream",
          "text": [
            "アメリカ\n",
            "<class 'str'>\n"
          ],
          "name": "stdout"
        }
      ]
    },
    {
      "metadata": {
        "id": "XRh0A3wBC88x",
        "colab_type": "code",
        "outputId": "327ab7d8-e986-4d09-99d0-c7bb807fa2f9",
        "colab": {
          "base_uri": "https://localhost:8080/",
          "height": 168
        }
      },
      "cell_type": "code",
      "source": [
        "#しかし、クォーテーションがない場合はErrorが表示されます！\n",
        "JPN = 日本"
      ],
      "execution_count": 0,
      "outputs": [
        {
          "output_type": "error",
          "ename": "NameError",
          "evalue": "ignored",
          "traceback": [
            "\u001b[0;31m---------------------------------------------------------------------------\u001b[0m",
            "\u001b[0;31mNameError\u001b[0m                                 Traceback (most recent call last)",
            "\u001b[0;32m<ipython-input-19-e2114f342c4b>\u001b[0m in \u001b[0;36m<module>\u001b[0;34m()\u001b[0m\n\u001b[0;32m----> 1\u001b[0;31m \u001b[0mJPN\u001b[0m \u001b[0;34m=\u001b[0m \u001b[0m日本\u001b[0m\u001b[0;34m\u001b[0m\u001b[0;34m\u001b[0m\u001b[0m\n\u001b[0m",
            "\u001b[0;31mNameError\u001b[0m: name '日本' is not defined"
          ]
        }
      ]
    },
    {
      "metadata": {
        "id": "fJK1Xm9KDJKp",
        "colab_type": "text"
      },
      "cell_type": "markdown",
      "source": [
        "また、複数の文字型を繋げたり、複製して表示することも可能です。<br>\n",
        "文字型のデータを繋げる時は`+`を使用し、<br>\n",
        "文字型の要素を複製する時は、複製したい要素の後に`*`を打ち、複製したい数をint型で打ってください。"
      ]
    },
    {
      "metadata": {
        "id": "VyBp0nRRDKLI",
        "colab_type": "code",
        "outputId": "004a1798-f8b4-4ecf-c630-2cca2719d7b1",
        "colab": {
          "base_uri": "https://localhost:8080/",
          "height": 68
        }
      },
      "cell_type": "code",
      "source": [
        "# 文字型の結合は下記のように、「+」を使用します。\n",
        "print(\"こんな感じで\"+\"文字型の要素を\"+\"プラスを使って \"+\"繋げられます。\")\n",
        "\n",
        "# 同じ文字を複数結合させたい時は、「*」を打ち、繰り返し表示する回数を打ちます。\n",
        "print(\"-\" * 100)\n",
        "\n",
        "print(\"便利でしょ？   \" + \"ね？ \"*10)"
      ],
      "execution_count": 0,
      "outputs": [
        {
          "output_type": "stream",
          "text": [
            "こんな感じで文字型の要素をプラスを使って 繋げられます。\n",
            "----------------------------------------------------------------------------------------------------\n",
            "便利でしょ？   ね？ ね？ ね？ ね？ ね？ ね？ ね？ ね？ ね？ ね？ \n"
          ],
          "name": "stdout"
        }
      ]
    },
    {
      "metadata": {
        "id": "NZY04PRSFyP6",
        "colab_type": "text"
      },
      "cell_type": "markdown",
      "source": [
        "\n",
        "# コメント\n",
        "さらっと使いましたが、コードの中にコメントを書く機能があります。    "
      ]
    },
    {
      "metadata": {
        "id": "4flv1d5MGFJj",
        "colab_type": "code",
        "colab": {}
      },
      "cell_type": "code",
      "source": [
        " この機能です！　\n",
        "#  このシャープが付いて、色が変わっている行が「コメントです」"
      ],
      "execution_count": 0,
      "outputs": []
    },
    {
      "metadata": {
        "id": "xf0CKjHcGKj4",
        "colab_type": "text"
      },
      "cell_type": "markdown",
      "source": [
        "コメントはプログラムとして実行されませんが、コードのなかにメモ書きを残すことができます。    \n",
        "行のはじめに`＃`をつけると、その行はコメントと見なされます。    \n",
        "少し、いじってみましょう。"
      ]
    },
    {
      "metadata": {
        "id": "2ElxOkOZGOcA",
        "colab_type": "code",
        "outputId": "6c9864f0-1fbc-47f1-c4a0-327376f2dff0",
        "colab": {
          "base_uri": "https://localhost:8080/",
          "height": 34
        }
      },
      "cell_type": "code",
      "source": [
        "print(\"＃　が付いていないので出力されます！\")\n",
        "#　print(\"#　がついているので出力されません……\")"
      ],
      "execution_count": 0,
      "outputs": [
        {
          "output_type": "stream",
          "text": [
            "＃　が付いていないので出力されます！\n"
          ],
          "name": "stdout"
        }
      ]
    },
    {
      "metadata": {
        "id": "OB71EfpZOAIa",
        "colab_type": "text"
      },
      "cell_type": "markdown",
      "source": [
        "また、複数行に渡りコメントを書きたい時は、<br>\n",
        "`シングルクォーテーション`か`’ダブルクォーテーション`を３回打ったもので囲むことで可能になります。"
      ]
    },
    {
      "metadata": {
        "id": "hQ8xfNtIPIdC",
        "colab_type": "code",
        "outputId": "23381a51-7219-4a9a-b79a-ff1cad170ece",
        "colab": {
          "base_uri": "https://localhost:8080/",
          "height": 34
        }
      },
      "cell_type": "code",
      "source": [
        "nano = \"\"\"kakaka\"\"\"\n",
        "type(nano)"
      ],
      "execution_count": 0,
      "outputs": [
        {
          "output_type": "execute_result",
          "data": {
            "text/plain": [
              "str"
            ]
          },
          "metadata": {
            "tags": []
          },
          "execution_count": 33
        }
      ]
    },
    {
      "metadata": {
        "id": "PaEoIMo8OjRt",
        "colab_type": "code",
        "outputId": "67fe7ad7-bf4a-43d1-c9d2-5e8922545802",
        "colab": {
          "base_uri": "https://localhost:8080/",
          "height": 71
        }
      },
      "cell_type": "code",
      "source": [
        "\"\"\"\n",
        "このように長いコメントを記述する際は\n",
        "シングルクォーテーションかダブルクォーテーションを\n",
        "３回打ち込み、囲むことで書くことができます！\n",
        "\"\"\"\n",
        "print(\"nyan-nyan\")\n",
        "\n",
        "'''\n",
        "しかしこの方法は欠点があります。\n",
        "#の場合とは違い、Pythonの処理上では「コメント」として\n",
        "処理が行われていません。\n",
        "\n",
        "type()でご確認していただけるとわかるのですが、\n",
        "文字型として扱っています。\n",
        "\n",
        "今後、classや制御構文ではインテンドの扱いが重要になります。\n",
        "この方法はそのインテンドに影響する\n",
        "可能性があるので少し気をつけてください\n",
        "'''"
      ],
      "execution_count": 0,
      "outputs": [
        {
          "output_type": "stream",
          "text": [
            "nyan-nyan\n"
          ],
          "name": "stdout"
        },
        {
          "output_type": "execute_result",
          "data": {
            "text/plain": [
              "'\\nしかしこの方法は欠点があります。\\n#の場合とは違い、Pythonの処理上では「コメント」として\\n処理が行われていません。\\n\\ntype()でご確認していただけるとわかるのですが、\\n文字型として扱っています。\\n\\n今後、classや制御構文ではインテンドの扱いが重要になります。\\nこの方法はそのインテンドに影響する\\n可能性があるので少し気をつけてください\\n'"
            ]
          },
          "metadata": {
            "tags": []
          },
          "execution_count": 34
        }
      ]
    },
    {
      "metadata": {
        "id": "H0QCtiogyTRD",
        "colab_type": "text"
      },
      "cell_type": "markdown",
      "source": [
        "# 変数を使用する\n",
        "\n",
        "上記の演算子だけでも計算はできますが、複雑になるにつれ表記が煩雑になってしまいます。    \n",
        "しかし、変数を使用することでコードを書きやすく、理解しやすくすることができます。    \n",
        "    \n",
        "変数とはデータを一時的に記憶する領域のことです。    \n",
        "`name = data`  のように、<br>\n",
        "変数名を左に、記憶するデータを右に記入します。<br>\n",
        "  \n",
        "    \n",
        "      \n",
        "   \n",
        "実際に使用してみましょう。<br>\n",
        "下記のコードでは商品の値段を、商品名の変数に格納しています。"
      ]
    },
    {
      "metadata": {
        "id": "nj9YxzD51t11",
        "colab_type": "code",
        "outputId": "93884cfd-a1d1-4a83-ea00-825e6bff3944",
        "colab": {
          "base_uri": "https://localhost:8080/",
          "height": 34
        }
      },
      "cell_type": "code",
      "source": [
        "apple = 200\n",
        "orange = 100\n",
        "banana = 150\n",
        "\n",
        "print(apple * 3 + banana * 6)"
      ],
      "execution_count": 0,
      "outputs": [
        {
          "output_type": "stream",
          "text": [
            "1500\n"
          ],
          "name": "stdout"
        }
      ]
    },
    {
      "metadata": {
        "id": "G3B-tMQmDyCS",
        "colab_type": "text"
      },
      "cell_type": "markdown",
      "source": [
        "下記の例のように、変数名として使用不可である文字があるので注意してください。\n",
        "\n",
        "| 正しくない変数名 | 理由                       |\n",
        "| ---------------- | -------------------------- |\n",
        "| Current-balance  | ハイフンは使用不可         |\n",
        "| Current barance  | スペースは使用不可         |\n",
        "| 4account         | 数字からスタートはできない |\n",
        "| 42               | 同上                       |\n",
        "| ©urrent         | $などの特殊文字は使用不可  |\n",
        "| \"Hello\"          | ' や ”は使用不可           |"
      ]
    },
    {
      "metadata": {
        "id": "0brPR5UnyXN3",
        "colab_type": "text"
      },
      "cell_type": "markdown",
      "source": [
        "\n",
        "# 自動応答プログラム\n"
      ]
    },
    {
      "metadata": {
        "id": "D3aaXuzzvgIt",
        "colab_type": "code",
        "outputId": "fd32a577-4aa1-4686-fffe-b7e2b23f5836",
        "colab": {
          "base_uri": "https://localhost:8080/",
          "height": 102
        }
      },
      "cell_type": "code",
      "source": [
        "print(\"いらっしゃいませ。\")\n",
        "customer_name = input(\"お名前をお伺いしてもよろしいでしょうか？\")\n",
        "print(customer_name + \"様ですね。\\nご来店ありがとうございます。\")\n",
        "print(\"{name}って{mojisuu}文字ですね。\".format(name=customer_name , mojisuu=len(customer_name)))"
      ],
      "execution_count": 34,
      "outputs": [
        {
          "output_type": "stream",
          "text": [
            "いらっしゃいませ。\n",
            "お名前をお伺いしてもよろしいでしょうか？easy_tobita\n",
            "easy_tobita様ですね。\n",
            "ご来店ありがとうございます。\n",
            "easy_tobitaって11文字ですね。\n"
          ],
          "name": "stdout"
        }
      ]
    },
    {
      "metadata": {
        "id": "Ptra39PfmLB9",
        "colab_type": "text"
      },
      "cell_type": "markdown",
      "source": [
        "# Print関数\n",
        "print関数は編集者が出力したい内容を出力する関数です。<br>\n",
        "変数を入力した場合は変数に格納されたデータが、<br>\n",
        "データを入力した場合は入力したデータが出力されます。<br>\n",
        " <br>\n",
        "`print(出力したい内容)`\n",
        "\n"
      ]
    },
    {
      "metadata": {
        "id": "Xprt5mZ2mKK8",
        "colab_type": "code",
        "outputId": "c1cbfc77-5620-410e-9032-6447b6544429",
        "colab": {
          "base_uri": "https://localhost:8080/",
          "height": 51
        }
      },
      "cell_type": "code",
      "source": [
        "wish = \"ステーキ食べたい\"\n",
        "\n",
        "print(\"焼肉食べたい\")\n",
        "print(wish)"
      ],
      "execution_count": 24,
      "outputs": [
        {
          "output_type": "stream",
          "text": [
            "焼肉食べたい\n",
            "ステーキ食べたい\n"
          ],
          "name": "stdout"
        }
      ]
    },
    {
      "metadata": {
        "id": "67EOTD6n45Mf",
        "colab_type": "text"
      },
      "cell_type": "markdown",
      "source": [
        "変数以外にも、何かしらのデータを特定するものを入力することで、<br>\n",
        "指定したデータを出力することが可能です。<br>\n",
        "<br>\n",
        "下記のコードはリスト型（あとでやる）の中からデータを指定しています。"
      ]
    },
    {
      "metadata": {
        "id": "8Nbp9mbWxJZK",
        "colab_type": "code",
        "colab": {
          "base_uri": "https://localhost:8080/",
          "height": 34
        },
        "outputId": "830b17fc-2807-430a-edf7-6a14cc60e5d5"
      },
      "cell_type": "code",
      "source": [
        "list = [\"壱\",\"弐\",\"参\"]\n",
        "\n",
        "print(list[2])"
      ],
      "execution_count": 28,
      "outputs": [
        {
          "output_type": "stream",
          "text": [
            "参\n"
          ],
          "name": "stdout"
        }
      ]
    },
    {
      "metadata": {
        "id": "HoRHcOWn5jNg",
        "colab_type": "text"
      },
      "cell_type": "markdown",
      "source": [
        "計算式など処理を行うものは処理をして出力をしています。"
      ]
    },
    {
      "metadata": {
        "id": "0V6ngDnfxwJm",
        "colab_type": "code",
        "colab": {
          "base_uri": "https://localhost:8080/",
          "height": 34
        },
        "outputId": "80f4b212-cb1b-4955-8b1f-86d4ebe274c7"
      },
      "cell_type": "code",
      "source": [
        "print(60*60*24*365*100)"
      ],
      "execution_count": 29,
      "outputs": [
        {
          "output_type": "stream",
          "text": [
            "3153600000\n"
          ],
          "name": "stdout"
        }
      ]
    },
    {
      "metadata": {
        "id": "k_1esd9257Nr",
        "colab_type": "text"
      },
      "cell_type": "markdown",
      "source": [
        "出力を行う際に特殊文字を使用することで改行が可能です。"
      ]
    },
    {
      "metadata": {
        "id": "XWQxdTlKtPZX",
        "colab_type": "code",
        "colab": {
          "base_uri": "https://localhost:8080/",
          "height": 68
        },
        "outputId": "4436a8e6-d188-4e76-b505-d2ab7eab8da7"
      },
      "cell_type": "code",
      "source": [
        "print(\"すべての人間は死ぬ \\nソクラテスは人間である\\nソクラテスは死ぬ\")"
      ],
      "execution_count": 26,
      "outputs": [
        {
          "output_type": "stream",
          "text": [
            "すべての人間は死ぬ \n",
            "ソクラテスは人間である\n",
            "ソクラテスは死ぬ\n"
          ],
          "name": "stdout"
        }
      ]
    },
    {
      "metadata": {
        "id": "8bnwSo4t6LHG",
        "colab_type": "code",
        "colab": {}
      },
      "cell_type": "code",
      "source": [
        "カンマで区切ることで複数のデータを出力することが可能です"
      ],
      "execution_count": 0,
      "outputs": []
    },
    {
      "metadata": {
        "id": "nG90y4gMxEKQ",
        "colab_type": "code",
        "colab": {
          "base_uri": "https://localhost:8080/",
          "height": 34
        },
        "outputId": "f6efe7c1-1b08-4efb-e79a-8d481f14a1bb"
      },
      "cell_type": "code",
      "source": [
        "print(\"初めに言があった\",\"言は神と共にあった\",\"言は神であった。\",sep=\"…\" )"
      ],
      "execution_count": 4,
      "outputs": [
        {
          "output_type": "stream",
          "text": [
            "初めに言があった…言は神と共にあった…言は神であった。\n"
          ],
          "name": "stdout"
        }
      ]
    },
    {
      "metadata": {
        "id": "M3NEldOUr7Ro",
        "colab_type": "text"
      },
      "cell_type": "markdown",
      "source": [
        "# Input関数\n",
        "input関数は実行者が入力したデータを変数として受け取る関数です。<br> \n",
        "変数 = input(\"表示する質問\")"
      ]
    },
    {
      "metadata": {
        "id": "DCPNp3YgmKNa",
        "colab_type": "code",
        "outputId": "978238ef-046f-463a-f520-1c66c1c9562f",
        "colab": {
          "base_uri": "https://localhost:8080/",
          "height": 51
        }
      },
      "cell_type": "code",
      "source": [
        "food = input(\"好きな食べ物はなんですか？\")\n",
        "print(\"わかった！今から\" + food + \"を食べに行こう！\")"
      ],
      "execution_count": 0,
      "outputs": [
        {
          "output_type": "stream",
          "text": [
            "好きな食べ物はなんですか？焼肉\n",
            "わかった！今から焼肉を食べに行こう！\n"
          ],
          "name": "stdout"
        }
      ]
    },
    {
      "metadata": {
        "id": "G43w8rmCtpHg",
        "colab_type": "text"
      },
      "cell_type": "markdown",
      "source": [
        "# len関数\n",
        "len関数は文字型の長さやシーケンスの長さなどを整数で返してくれる関数です。<br>\n",
        "`len(長さを測りたいsomething)` で使用することができます。"
      ]
    },
    {
      "metadata": {
        "id": "1Ln_rJHNKPU3",
        "colab_type": "code",
        "outputId": "55990865-4d40-4dac-ddf5-c3b1606ba936",
        "colab": {
          "base_uri": "https://localhost:8080/",
          "height": 68
        }
      },
      "cell_type": "code",
      "source": [
        "print(len(\"hello\"))\n",
        "print(len(\"always fair in love and war\"))\n",
        "print(len( [i  for i in range(1,101)]))"
      ],
      "execution_count": 36,
      "outputs": [
        {
          "output_type": "stream",
          "text": [
            "5\n",
            "27\n",
            "100\n"
          ],
          "name": "stdout"
        }
      ]
    },
    {
      "metadata": {
        "id": "yMjHa81lK9oa",
        "colab_type": "text"
      },
      "cell_type": "markdown",
      "source": [
        "\n",
        "# データ型を扱う際の注意   ~str(),int(),float()の使用について~\n",
        "Pythonを使用していると、異なるデータ型をまとめて使用する状況が多くあります。<br>\n",
        "その場合は異なるデータ型を扱うにあたり、準備が必要になります。<br>\n",
        "  \n",
        "具体的な例をあげます。<br>\n",
        "今回はPrint関数を使用して、自身の戦闘力を宣言してみましょう。"
      ]
    },
    {
      "metadata": {
        "id": "Tb3_zeWiKU-x",
        "colab_type": "code",
        "outputId": "ecb7f61a-e79b-4758-edea-842eed35ec59",
        "colab": {
          "base_uri": "https://localhost:8080/",
          "height": 185
        }
      },
      "cell_type": "code",
      "source": [
        "power = 530000\n",
        "print(\"私の戦闘力は\" + power + \"です。\")"
      ],
      "execution_count": 0,
      "outputs": [
        {
          "output_type": "error",
          "ename": "TypeError",
          "evalue": "ignored",
          "traceback": [
            "\u001b[0;31m---------------------------------------------------------------------------\u001b[0m",
            "\u001b[0;31mTypeError\u001b[0m                                 Traceback (most recent call last)",
            "\u001b[0;32m<ipython-input-30-a1cdde410f91>\u001b[0m in \u001b[0;36m<module>\u001b[0;34m()\u001b[0m\n\u001b[1;32m      1\u001b[0m \u001b[0mpower\u001b[0m \u001b[0;34m=\u001b[0m \u001b[0;36m530000\u001b[0m\u001b[0;34m\u001b[0m\u001b[0;34m\u001b[0m\u001b[0m\n\u001b[0;32m----> 2\u001b[0;31m \u001b[0mprint\u001b[0m\u001b[0;34m(\u001b[0m\u001b[0;34m\"私の戦闘力は\"\u001b[0m \u001b[0;34m+\u001b[0m \u001b[0mpower\u001b[0m \u001b[0;34m+\u001b[0m \u001b[0;34m\"です。\"\u001b[0m\u001b[0;34m)\u001b[0m\u001b[0;34m\u001b[0m\u001b[0;34m\u001b[0m\u001b[0m\n\u001b[0m",
            "\u001b[0;31mTypeError\u001b[0m: must be str, not int"
          ]
        }
      ]
    },
    {
      "metadata": {
        "id": "3cf4Dm2xLeoG",
        "colab_type": "text"
      },
      "cell_type": "markdown",
      "source": [
        " あらら……Errorが出力されました。<br>\n",
        " Errorが発生すると、どのような理由でErrorが発生したのか理由を出力してくれます。<br>\n",
        "  \n",
        "今回の場合は`TypeError: must be str, not int`と出力されています。<br>\n",
        "print関数などで複数のデータ型からなる要素を一つにまとめる時は、<br>\n",
        "単一のデータ型に揃える必要があります。　<br>\n",
        "  \n",
        "今回は文字型の中に一つだけ紛れ込んだ整数型を修正します。<br>\n",
        "文字型への修正は**str関数**を使用します。<br>\n",
        "使用方法は修正したい要素を`str()`の括弧のなかに入れるだけです。"
      ]
    },
    {
      "metadata": {
        "id": "F0eiPhR_KU7y",
        "colab_type": "code",
        "outputId": "8f4145db-dc3d-413c-f38d-bdbba224ba39",
        "colab": {
          "base_uri": "https://localhost:8080/",
          "height": 34
        }
      },
      "cell_type": "code",
      "source": [
        "#修正版\n",
        "print(\"私の戦闘力は\"+ str(power) + \"です。\")"
      ],
      "execution_count": 0,
      "outputs": [
        {
          "output_type": "stream",
          "text": [
            "私の戦闘力は530000です。\n"
          ],
          "name": "stdout"
        }
      ]
    },
    {
      "metadata": {
        "id": "WNsJDpSsNX_8",
        "colab_type": "text"
      },
      "cell_type": "markdown",
      "source": [
        "やりました！これで自身の戦闘力を宣言することができました。<br>\n",
        "このようにprint関数など、一つの要素として異なるデータ型をまとめる場合は、<br>\n",
        "事前に一つのデータ型でまとめる必要があります。<br>\n",
        "今回は文字型で出力するために`str()`を使用しましたが、<br>\n",
        "文字型を数字に戻す`int()`や`froat()`があるので、<br>\n",
        "出力の調整以外でもデータ型の変換が必要である場合、臨機応変に使用してください。<br>\n",
        "<br>\n"
      ]
    },
    {
      "metadata": {
        "id": "IfF-7gDSLmgb",
        "colab_type": "text"
      },
      "cell_type": "markdown",
      "source": [
        "  上記の例では、少数のデータ型のものを変更することで対応しましたが、<br>\n",
        "**format関数**を使用することで、文字列の中に値をまとめて埋め込むことも可能です。<br>\n",
        "同じ文で試してみましょう。\n",
        "\n",
        "format関数は文字列の中に`{key_name}`を埋め込み、その文字列の後に`.format(　key_name = \"値\")`を入力します。<br>\n",
        "今回の例文の場合では……"
      ]
    },
    {
      "metadata": {
        "id": "LbYw9CjTL0S3",
        "colab_type": "code",
        "outputId": "cb714288-b885-47f8-a43b-5b6864ab99d0",
        "colab": {
          "base_uri": "https://localhost:8080/",
          "height": 34
        }
      },
      "cell_type": "code",
      "source": [
        "print(\"私の戦闘力は{combat_power}です\".format(combat_power = 530000 , ))"
      ],
      "execution_count": 0,
      "outputs": [
        {
          "output_type": "stream",
          "text": [
            "私の戦闘力は530000です\n"
          ],
          "name": "stdout"
        }
      ]
    },
    {
      "metadata": {
        "id": "4zNyjBzeL6l-",
        "colab_type": "text"
      },
      "cell_type": "markdown",
      "source": [
        "文字列内に埋め込んだキーとして`{combat_power}`を入力し、<br>\n",
        "`.format( combat_power = \"53000)\"`で整数型の `530000 `を文字型に変換しています。<br>"
      ]
    }
  ]
}