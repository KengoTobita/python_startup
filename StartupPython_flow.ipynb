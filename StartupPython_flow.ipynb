{
  "nbformat": 4,
  "nbformat_minor": 0,
  "metadata": {
    "colab": {
      "name": "StartupPython_flow.ipynb",
      "version": "0.3.2",
      "provenance": [],
      "collapsed_sections": [],
      "include_colab_link": true
    },
    "kernelspec": {
      "name": "python3",
      "display_name": "Python 3"
    }
  },
  "cells": [
    {
      "cell_type": "markdown",
      "metadata": {
        "id": "view-in-github",
        "colab_type": "text"
      },
      "source": [
        "<a href=\"https://colab.research.google.com/github/KengoTobita/python_startup/blob/master/StartupPython_flow.ipynb\" target=\"_parent\"><img src=\"https://colab.research.google.com/assets/colab-badge.svg\" alt=\"Open In Colab\"/></a>"
      ]
    },
    {
      "metadata": {
        "id": "5dA4v7fe7NU0",
        "colab_type": "text"
      },
      "cell_type": "markdown",
      "source": [
        "# 第２章　制御フロー\n",
        "本章で行う内容\n",
        "* 比較演算子\n",
        "* if文\n",
        "* while文\n",
        "* for文\n",
        "\n"
      ]
    },
    {
      "metadata": {
        "id": "n8vpuBJhzV0I",
        "colab_type": "code",
        "colab": {
          "base_uri": "https://localhost:8080/",
          "height": 34
        },
        "outputId": "6eec53cf-7087-4dd2-fd4e-baa0a25f29a4"
      },
      "cell_type": "code",
      "source": [
        "age = input(\"年齢を教えてください\")\n",
        "\n"
      ],
      "execution_count": 1,
      "outputs": [
        {
          "output_type": "stream",
          "text": [
            "年齢を教えてくださいrwr\n"
          ],
          "name": "stdout"
        }
      ]
    },
    {
      "metadata": {
        "id": "eKUFS92USEKO",
        "colab_type": "text"
      },
      "cell_type": "markdown",
      "source": [
        "# 比較演算子\n",
        "### ブーリアン型 (bool)\n",
        "ブーリアンはブール演算子で作られた条件式が合っているか（True）、間違っているか（false）を判定するデータ型です。<br>\n",
        "今回勉強する制御構文で多く使用します。<br>\n",
        "簡単な例をあげましょう。"
      ]
    },
    {
      "metadata": {
        "id": "_NpdjEkZca-Z",
        "colab_type": "code",
        "outputId": "0560a3b0-df0b-4a20-9558-f1a49d6cfaa6",
        "colab": {
          "base_uri": "https://localhost:8080/",
          "height": 34
        }
      },
      "cell_type": "code",
      "source": [
        "\"hello world\" == \"hello \" + \"world\""
      ],
      "execution_count": 0,
      "outputs": [
        {
          "output_type": "execute_result",
          "data": {
            "text/plain": [
              "True"
            ]
          },
          "metadata": {
            "tags": []
          },
          "execution_count": 5
        }
      ]
    },
    {
      "metadata": {
        "id": "jnr4864KcsPS",
        "colab_type": "text"
      },
      "cell_type": "markdown",
      "source": [
        "上記の例で使用したブール演算子は「==」です。<br>\n",
        "これは左右の項が等しいことをさす演算子です。<br>\n",
        "\n",
        "今回の例は`\"hello world\"`と` \"hello \" + \"world\"`が等しいので、Trueと表示されます。<br>\n",
        "異なる場合はFalseと表示されます。\n",
        "\n",
        "今回使用した`==`以外の演算子を紹介します。 \n",
        "\n",
        "| 演算子 | 意味       |\n",
        "| ------ | ---------- |\n",
        "| ==     | 等しい     |\n",
        "| !=     | 等しくない |\n",
        "| <      | より大きい |\n",
        "| >      | より小さい |\n",
        "| <=     | 以上       |\n",
        "| >=    | 以下       |\n",
        "\n",
        "\n"
      ]
    },
    {
      "metadata": {
        "id": "4RVMKyJamwFy",
        "colab_type": "code",
        "outputId": "bb60bb0d-016d-4a58-d008-bfc2d9b6b3ad",
        "colab": {
          "base_uri": "https://localhost:8080/",
          "height": 34
        }
      },
      "cell_type": "code",
      "source": [
        "3+7 != 11"
      ],
      "execution_count": 0,
      "outputs": [
        {
          "output_type": "execute_result",
          "data": {
            "text/plain": [
              "True"
            ]
          },
          "metadata": {
            "tags": []
          },
          "execution_count": 7
        }
      ]
    },
    {
      "metadata": {
        "id": "X6kUyQFgmwgI",
        "colab_type": "code",
        "outputId": "e380228e-8110-4c8a-895c-20d33c1eaf67",
        "colab": {
          "base_uri": "https://localhost:8080/",
          "height": 34
        }
      },
      "cell_type": "code",
      "source": [
        "100 > 10"
      ],
      "execution_count": 0,
      "outputs": [
        {
          "output_type": "execute_result",
          "data": {
            "text/plain": [
              "True"
            ]
          },
          "metadata": {
            "tags": []
          },
          "execution_count": 8
        }
      ]
    },
    {
      "metadata": {
        "id": "zvmMmyVUmwKR",
        "colab_type": "code",
        "outputId": "527cc4b1-d723-4634-ffe9-18fc54772cd5",
        "colab": {
          "base_uri": "https://localhost:8080/",
          "height": 34
        }
      },
      "cell_type": "code",
      "source": [
        "100 >= 100"
      ],
      "execution_count": 0,
      "outputs": [
        {
          "output_type": "execute_result",
          "data": {
            "text/plain": [
              "True"
            ]
          },
          "metadata": {
            "tags": []
          },
          "execution_count": 9
        }
      ]
    },
    {
      "metadata": {
        "id": "NhwXMazPmkvO",
        "colab_type": "text"
      },
      "cell_type": "markdown",
      "source": [
        "### 二項演算子\n",
        "また２項以上のブーリアン型を扱う２項ブール演算子があります。<br>\n",
        "これは複数条件で比較を行う場合に使用します。\n",
        "\n",
        "| 演算子         | 意味                                                         |\n",
        "| -------------- | ------------------------------------------------------------ |\n",
        "| a <b>and</b> b | aとbが両方TrueならばTrue<br>aとbが両方TrueでなければFalse    |\n",
        "| a <b>or</b> b  | aとbが片方でもTrueであればTrue<br>aとbが片方でもTrueでなければFalse |"
      ]
    },
    {
      "metadata": {
        "id": "O3yDi1O7nLE0",
        "colab_type": "code",
        "outputId": "0301558f-5564-44a4-a9da-5a527d1b5300",
        "colab": {
          "base_uri": "https://localhost:8080/",
          "height": 34
        }
      },
      "cell_type": "code",
      "source": [
        "10*10 == 10**2 and 1000 < 10"
      ],
      "execution_count": 0,
      "outputs": [
        {
          "output_type": "execute_result",
          "data": {
            "text/plain": [
              "True"
            ]
          },
          "metadata": {
            "tags": []
          },
          "execution_count": 11
        }
      ]
    },
    {
      "metadata": {
        "id": "xf57OGpNnLCv",
        "colab_type": "code",
        "outputId": "6e1d3f21-f9b9-41bb-d1dd-679783518988",
        "colab": {
          "base_uri": "https://localhost:8080/",
          "height": 34
        }
      },
      "cell_type": "code",
      "source": [
        "10*10 == 10*2 or 1000 <10 "
      ],
      "execution_count": 0,
      "outputs": [
        {
          "output_type": "execute_result",
          "data": {
            "text/plain": [
              "False"
            ]
          },
          "metadata": {
            "tags": []
          },
          "execution_count": 12
        }
      ]
    },
    {
      "metadata": {
        "id": "dwLlrodembuX",
        "colab_type": "text"
      },
      "cell_type": "markdown",
      "source": [
        "### not演算子\n",
        "さらに、ブーリアン型の値を反転させるnot演算子があります。<br>"
      ]
    },
    {
      "metadata": {
        "id": "kvcAC-ubo49s",
        "colab_type": "code",
        "outputId": "d7d6b168-32a3-4065-e511-8f410c6d2446",
        "colab": {
          "base_uri": "https://localhost:8080/",
          "height": 34
        }
      },
      "cell_type": "code",
      "source": [
        "not 10**2 == 10*10"
      ],
      "execution_count": 0,
      "outputs": [
        {
          "output_type": "execute_result",
          "data": {
            "text/plain": [
              "False"
            ]
          },
          "metadata": {
            "tags": []
          },
          "execution_count": 13
        }
      ]
    },
    {
      "metadata": {
        "id": "FCHy27cfo5h7",
        "colab_type": "code",
        "outputId": "b7de5cfc-80be-4630-d01f-94950ea63525",
        "colab": {
          "base_uri": "https://localhost:8080/",
          "height": 34
        }
      },
      "cell_type": "code",
      "source": [
        "not not 10**2 == 10*10"
      ],
      "execution_count": 0,
      "outputs": [
        {
          "output_type": "execute_result",
          "data": {
            "text/plain": [
              "True"
            ]
          },
          "metadata": {
            "tags": []
          },
          "execution_count": 14
        }
      ]
    },
    {
      "metadata": {
        "id": "FcqPWgeUTp1H",
        "colab_type": "text"
      },
      "cell_type": "markdown",
      "source": [
        "# if文\n",
        "\n",
        "IF文とは特定の条件に当てはまるか否かで、処理を変える構文です。<br>\n",
        "基本的な書き方は下記の通りです。  \n",
        "\n",
        "\n",
        "\n",
        "\n",
        "```\n",
        "if 何らかの論理式 :\n",
        "  True時に実行される処理\n",
        "elif 何らかの処理:\n",
        "  True時に実行される処理\n",
        "else:\n",
        "  何らかの処理\n",
        "\n",
        "```\n",
        "\n",
        "\n",
        "\n",
        "\n",
        "これでは分かりづらいので、具体例を用意して説明しようと思います  \n",
        "\n",
        "私の通う大学ではテストや出席などを加味した授業得点が算出され、その得点で単位が出るか否かが決まります。  \n",
        "授業得点が６０点未満の場合は単位の修得は不可能です。<br>\n",
        "60点以上でC判定となり、単位の修得ができます。  <br>\n",
        "そして９０点以上をとった成績優秀者は、誉れ高いS判定を得ることができます。<br>\n",
        " <br>\n",
        "この条件を簡単に表すと以下の通りです。\n",
        "\n",
        "| 条件                   | 結果                          |\n",
        "| ---------------------- | ----------------------------- |\n",
        "| 点数が<b>６０未満</b>         |   単位修得ならず                |\n",
        "| 点数が<b>６０以上９０未満</b> |   単位修得                      |\n",
        "| 点数が<b>９０以上</b>         |   最高評価での単位修得（S評価） |\n",
        "\n",
        "この条件をPythonで表すと、どのような表現になるのでしょうか？　　"
      ]
    },
    {
      "metadata": {
        "id": "xX8qwQmfy8CI",
        "colab_type": "code",
        "outputId": "8f8e16bd-0584-4fb4-eb32-4c7e438a9dd7",
        "colab": {
          "base_uri": "https://localhost:8080/",
          "height": 34
        }
      },
      "cell_type": "code",
      "source": [
        "# ここで授業得点を決めます。数字を変えると出力も変わるので、遊んでみてください！\n",
        "point = 60\n",
        "\n",
        "if  point < 60 :\n",
        "    print(\"やったね！単位は出ないけど、また授業が受けられるよ！\")\n",
        "elif point >= 90:\n",
        "    print(\"素晴らしい！最高評価のSをゲットだぜ！\")\n",
        "else:\n",
        "    print(\"流石だね！単位修得おめでとう！\")"
      ],
      "execution_count": 0,
      "outputs": [
        {
          "output_type": "stream",
          "text": [
            "流石だね！単位修得おめでとう！\n"
          ],
          "name": "stdout"
        }
      ]
    },
    {
      "metadata": {
        "id": "fBhB7jQLzZdH",
        "colab_type": "text"
      },
      "cell_type": "markdown",
      "source": [
        "上記のIF文について詳しい解説を行います。  \n",
        "<br>  </br>\n",
        "### <b>ifの後の条件式</b> `point < 60`\n",
        " 始めの条件分岐である<b>IFの後</b>では「<b>point < 60 </b>」と記述しています。  \n",
        "これはポイントが６０未満の場合をさしています。  \n",
        "そして、条件式の通り６０点未満の場合は「<b>やったね！単位は出ないけど、また授業が受けられるよ！</b>」と出力されます。\n",
        "<font color = #cccccc >再履修ですね。</font>\n",
        " <br><br/> \n",
        "    \n",
        "### <b>elifの条件式</b> `point > 90`\n",
        "<b>elif</b>のところを見てみましょう。\n",
        "elifは上の条件がTRUEでない時に、さらに条件分岐をする時に書く文です。  \n",
        "今回書いている条件は「<b>point >= 90</b>」です。  \n",
        "「>=」は以上や以下を表す記号ですので「<b>pointが90以上の場合</b>」という条件を表していることになります。  \n",
        "単位履修条件ではS判定となる成績優秀者を表しています。  \n",
        "そして、この文がTRUEである時は「<b>素晴らしい！最高評価のSをゲットだぜ！</b>」という文が出力されます。  \n",
        "<br><br/>\n",
        "### <b>elseの条件式</b>　`else`  \n",
        "最後に<b>else</b>を見ていきましょう。  \n",
        "elseは<b>何の条件にも当てはまらなかった場合</b>の処理を表します。  \n",
        "そのため条件式は必要ありません。  \n",
        "今回の単位履修条件ではpointが６０未満でもなく、９０以上でもない、無難に単位修得した方々をさします。  \n",
        "そのためelseのより前に提示された条件式で引っかからなかった場合のみ、「<b>流石だね！単位修得おめでとう！</b>」と出力されます。  \n",
        "  \n",
        "見事、単位習得条件の通り振り分け、表示するべきコメントを出力することができました！  \n",
        "このようにIF文を使用すれば状況によって、適した処理を使い分けることができるのです！"
      ]
    },
    {
      "metadata": {
        "id": "qm8jG2pBTpwR",
        "colab_type": "text"
      },
      "cell_type": "markdown",
      "source": [
        "# for文\n",
        "for文はシーケンスと呼ばれる連続した要素を、順番に取り出してforブロックの中で使用する制御構文です。<br>\n",
        "\n",
        "\n",
        "\n",
        "```\n",
        "for 変数　in シーケンス : \n",
        "  何らかの処理\n",
        "```\n",
        "\n",
        "\n",
        "\n",
        "  \n",
        "下記のコードをご覧ください。"
      ]
    },
    {
      "metadata": {
        "id": "_WHnvFKTxDVQ",
        "colab_type": "code",
        "outputId": "47eddb30-a158-4611-9463-de7521df9b9c",
        "colab": {
          "base_uri": "https://localhost:8080/",
          "height": 68
        }
      },
      "cell_type": "code",
      "source": [
        "#　listを使用した場合\n",
        "for i in [\"壱\",\"弐\",\"参\"]:\n",
        "  print(i)"
      ],
      "execution_count": 0,
      "outputs": [
        {
          "output_type": "stream",
          "text": [
            "壱\n",
            "弐\n",
            "参\n"
          ],
          "name": "stdout"
        }
      ]
    },
    {
      "metadata": {
        "id": "R1ynYqAy252p",
        "colab_type": "code",
        "outputId": "594a3d94-0f1a-4b15-bfe8-159a79cf8559",
        "colab": {
          "base_uri": "https://localhost:8080/",
          "height": 68
        }
      },
      "cell_type": "code",
      "source": [
        "# 文字型を使用した場合\n",
        "for i in \"いろは\":\n",
        "  print(i)"
      ],
      "execution_count": 0,
      "outputs": [
        {
          "output_type": "stream",
          "text": [
            "い\n",
            "ろ\n",
            "は\n"
          ],
          "name": "stdout"
        }
      ]
    },
    {
      "metadata": {
        "id": "k4s2aw5l8GGT",
        "colab_type": "text"
      },
      "cell_type": "markdown",
      "source": [
        "## range関数\n",
        "上記の例では文字型のデータやlist型のデータを使用してfor文を回しました。<br>\n",
        "実際のプログラミングでは、それらのシーケンスを使用することなく回数を指定したい時があります。<br>\n",
        "その時に役立つのが<b>range関数</b>です。<br>\n",
        "<br>\n",
        "range関数は数列のオブジェクトを作り出す関数です\n",
        "\n",
        "\n",
        "\n",
        "```\n",
        "range（開始地点,終了地点,増減）\n",
        "```\n",
        "\n",
        "\n",
        "\n",
        "実際に動かしてみましょう。"
      ]
    },
    {
      "metadata": {
        "id": "rs9k52SO1Ebw",
        "colab_type": "code",
        "outputId": "29b1b8ce-48cd-40c2-a91d-767fd3d9e8b0",
        "colab": {
          "base_uri": "https://localhost:8080/",
          "height": 187
        }
      },
      "cell_type": "code",
      "source": [
        "# range関数を使用\n",
        "for i in range(10):\n",
        "    print(i)"
      ],
      "execution_count": 0,
      "outputs": [
        {
          "output_type": "stream",
          "text": [
            "0\n",
            "1\n",
            "2\n",
            "3\n",
            "4\n",
            "5\n",
            "6\n",
            "7\n",
            "8\n",
            "9\n"
          ],
          "name": "stdout"
        }
      ]
    },
    {
      "metadata": {
        "id": "kXnIiIijSeAs",
        "colab_type": "text"
      },
      "cell_type": "markdown",
      "source": [
        "このrange関数は引数に10を指定しています。<br>\n",
        "引数が一つの場合は、0から指定した値までの連番を作成します。<br>\n",
        "今回は10を指定しているので0~9までの連続したオブジェクトを生成してくれます。<br>\n",
        "<br>\n",
        "またrange関数は複数の引数を用意すること連続値の範囲やスキップすることが可能です。"
      ]
    },
    {
      "metadata": {
        "id": "yrtkeCChAbzl",
        "colab_type": "code",
        "outputId": "374db657-cd07-4558-b5e7-932fb8b7f024",
        "colab": {
          "base_uri": "https://localhost:8080/",
          "height": 153
        }
      },
      "cell_type": "code",
      "source": [
        "# 第３引数を使用すると、等差数列を作ることが可能です\n",
        "for i in range(20,100,10):\n",
        "  print(i)"
      ],
      "execution_count": 0,
      "outputs": [
        {
          "output_type": "stream",
          "text": [
            "20\n",
            "30\n",
            "40\n",
            "50\n",
            "60\n",
            "70\n",
            "80\n",
            "90\n"
          ],
          "name": "stdout"
        }
      ]
    },
    {
      "metadata": {
        "id": "XY_J6dzY5sNR",
        "colab_type": "text"
      },
      "cell_type": "markdown",
      "source": [
        "この関数はrange(20,100,10)を初めから順番に取り出しているので20から100までの範囲で、+10づつ増えるで数列を作っています。"
      ]
    },
    {
      "metadata": {
        "id": "sO4R-TmtVFUa",
        "colab_type": "text"
      },
      "cell_type": "markdown",
      "source": [
        "#ループ関数の中で使用する構文\n",
        "forやwhileなどのループ関数を扱うに当たって使用される構文を紹介します。<br>\n",
        "continueとpassとbreakです。<br>\n",
        "\n",
        "| 構文     | 内容               |\n",
        "| -------- | ------------------ |\n",
        "| continue | ループの先頭に戻る |\n",
        "| pass     | なにもしない       |\n",
        "| break    | ループを終了する   |\n",
        "\n",
        "## continue\n",
        "continueがループ関数の中で使用されると、<br>\n",
        "残りの処理をスキップして、ループ関数の先頭に戻ります。<br>"
      ]
    },
    {
      "metadata": {
        "id": "gMQdNf9hVJd1",
        "colab_type": "code",
        "outputId": "b9237e7c-5718-4080-dc6e-a9d5bb90f525",
        "colab": {
          "base_uri": "https://localhost:8080/",
          "height": 102
        }
      },
      "cell_type": "code",
      "source": [
        "# 「%」は商の余りを返してくれる演算子です。\n",
        "for i in range(0,10):\n",
        "  if i % 2== 0:\n",
        "    print(i)\n",
        "    \n",
        "  else:\n",
        "    continue\n",
        "    print(i)"
      ],
      "execution_count": 5,
      "outputs": [
        {
          "output_type": "stream",
          "text": [
            "0\n",
            "2\n",
            "4\n",
            "6\n",
            "8\n"
          ],
          "name": "stdout"
        }
      ]
    },
    {
      "metadata": {
        "id": "YH3Uz9j5e4-W",
        "colab_type": "text"
      },
      "cell_type": "markdown",
      "source": [
        "上記の関数をご覧ください。<br>\n",
        "この関数はforループで1~10を順番に出力し、<br>\n",
        "偶数の場合(if以下) は出力を行い、<br>\n",
        "奇数の場合(else以下) はcontinueを通した上で出力を行う関数です。<br>\n",
        "<br>\n",
        "else以下のコードをご覧ください。<br>\n",
        "偶数と違い、printf関数の前にcontinueが来ています。<br>\n",
        "ループ関数の中でcontinueが実行されると、強制的にループ文の一番上に戻されます。<br>\n",
        "そのため偶数の場合はprint関数が実行されていないのです。<br>"
      ]
    },
    {
      "metadata": {
        "id": "Cx3OH0PrVhm9",
        "colab_type": "text"
      },
      "cell_type": "markdown",
      "source": [
        "## pass \n",
        "passはループ関数の中で使用されると、<br>\n",
        "とくに何も起きません。<br>\n",
        "\n",
        "意図的に何も処理をしない場合に使います。"
      ]
    },
    {
      "metadata": {
        "id": "tZAjyrAgVlDI",
        "colab_type": "code",
        "outputId": "b3140d97-f6ed-4f1a-ec6f-43f5010f327a",
        "colab": {
          "base_uri": "https://localhost:8080/",
          "height": 187
        }
      },
      "cell_type": "code",
      "source": [
        "for i in range(0,10):\n",
        "  if i % 2== 0:\n",
        "    print(i)\n",
        "    \n",
        "  else:\n",
        "    pass\n",
        "    print(i)"
      ],
      "execution_count": 4,
      "outputs": [
        {
          "output_type": "stream",
          "text": [
            "0\n",
            "1\n",
            "2\n",
            "3\n",
            "4\n",
            "5\n",
            "6\n",
            "7\n",
            "8\n",
            "9\n"
          ],
          "name": "stdout"
        }
      ]
    },
    {
      "metadata": {
        "id": "zWPtRtno03pz",
        "colab_type": "text"
      },
      "cell_type": "markdown",
      "source": [
        "上記のコードをご覧ください。<br>\n",
        "先ほどのcontinue文とほぼ同じコードです。<br>\n",
        "continueのところがpassに変更されています。<br>\n",
        "<br>\n",
        "passの場合は何も起きません。<br>\n",
        "そのためpassの後のprint関数も実行されます。"
      ]
    },
    {
      "metadata": {
        "id": "IQDcC_ObVKoA",
        "colab_type": "text"
      },
      "cell_type": "markdown",
      "source": [
        "## break\n",
        "breakがループ関数の中で使用されると、<br>\n",
        "ループ関数が強制終了されます。<br>"
      ]
    },
    {
      "metadata": {
        "id": "wvHyHMr-VEBm",
        "colab_type": "code",
        "colab": {
          "base_uri": "https://localhost:8080/",
          "height": 34
        },
        "outputId": "90f5b80d-9ff5-4f14-f202-a661b16be96a"
      },
      "cell_type": "code",
      "source": [
        "for i in range(0,10):\n",
        "  if i % 2== 0:\n",
        "    print(i)\n",
        "    \n",
        "  else:\n",
        "    break\n",
        "    print(i)"
      ],
      "execution_count": 3,
      "outputs": [
        {
          "output_type": "stream",
          "text": [
            "0\n"
          ],
          "name": "stdout"
        }
      ]
    },
    {
      "metadata": {
        "id": "ZEcy-jORVfMK",
        "colab_type": "text"
      },
      "cell_type": "markdown",
      "source": [
        "上記のコードをご覧ください。<br>\n",
        "これも先ほどのコードのpassをbreakに変更したものです。<br>\n",
        "<br>\n",
        "今回もelse以下の制御構文を見ていきましょう。<br>\n",
        "breakはループ関数を強制終了する関数です。<br>\n",
        "そのためelse以下で処理を行う1が来た際に<br>\n",
        "breakが使用されループ関数が強制終了されています。<br>\n",
        "<br>\n",
        "そのため最初の0のみが出力されています。<br>"
      ]
    },
    {
      "metadata": {
        "id": "uTJeitE1T-CR",
        "colab_type": "text"
      },
      "cell_type": "markdown",
      "source": [
        "# while文\n",
        "while文は条件式がTrueである限り、while以下の処理が繰り返される制御構文です。<br>\n",
        "\n",
        "\n",
        "kokodezuwo\n",
        "\n",
        "それでは具体的な例をあげて解説をします。<br>\n",
        "今回は「I'm highway star」という出力を３回繰り返すwhile文を作成します。\n"
      ]
    },
    {
      "metadata": {
        "id": "ZZMuPLRCz1q5",
        "colab_type": "code",
        "outputId": "9e2dd6d2-a039-453e-fa71-0f7f27e3f856",
        "colab": {
          "base_uri": "https://localhost:8080/",
          "height": 68
        }
      },
      "cell_type": "code",
      "source": [
        "# numberは繰り返す回数をさします\n",
        "number = 3\n",
        "\n",
        "while number >=1:\n",
        "    print(\"I'm highway star\")\n",
        "    number -= 1"
      ],
      "execution_count": 3,
      "outputs": [
        {
          "output_type": "stream",
          "text": [
            "I'm highway star\n",
            "I'm highway star\n",
            "I'm highway star\n"
          ],
          "name": "stdout"
        }
      ]
    },
    {
      "metadata": {
        "id": "uo-4ac3D0EJa",
        "colab_type": "text"
      },
      "cell_type": "markdown",
      "source": [
        "はい、できました。<br>\n",
        "それではこの関数について、ご説明させていただきます。<br>\n",
        " <br>\n",
        " <br>\n",
        "まずはじめに`number`という変数を準備しました。<br>\n",
        "while文には変数が必須である訳ではありませんが、今回は見やすいので準備しました。<br>\n",
        "今回はこの変数で繰り返す回数を設定をします。<br>\n",
        "<br>\n",
        "<br>\n",
        "次に`while number >= 1`を見ていきましょう。<br>\n",
        "while文は設定した論理式(今回は`number >= 1`)がTRUEで有る限り繰り返す制御構文です。<br>\n",
        "すでに変数`number`の値は３と設定済みです。<br>\n",
        "`number >= 1`の論理式に対し`3`はTRUEなのでwhile文の下の処理が実行されます。<br>\n",
        "<br>  \n",
        " <br> \n",
        "そして`print(\"I'm highway star\")`が実行されます。<br>\n",
        "print関数は()の中に書いてあることを出力する関数なので、<br>\n",
        "I'm highway starと出力されます。<br>\n",
        "<br>\n",
        "<br>\n",
        "最後は`number -= 1`についてです。<br>\n",
        "`-=`は変数の値を引き算することができる演算子です。<br>\n",
        "今回は`number -= 1`と入力しているので、変数`number`から１が引かれることになります。<br>\n",
        " <br>\n",
        "そしてもう一度、while文の上から処理を行います。<br>\n",
        "これを「number >= 1」という条件式に対してTrueで有る限り繰り返すことになります。<br>"
      ]
    },
    {
      "metadata": {
        "id": "ZAfCDmJqEf88",
        "colab_type": "text"
      },
      "cell_type": "markdown",
      "source": [
        "# 複数の制御構文を使用する\n",
        "\n",
        "制御構文は単体で使用する場合もありますが、<br>\n",
        "複数の制御構文を組み合わせて使用する場合も多くあります。\n"
      ]
    },
    {
      "metadata": {
        "id": "jfhB9JNTEfNg",
        "colab_type": "code",
        "colab": {}
      },
      "cell_type": "code",
      "source": [
        "def quis():\n",
        "  answer = input(\"朝は４本足、昼は２本足、夜は３本足。　これはなに？\")\n",
        "  if answer == \"人間\":\n",
        "    print(\"うわぁぁあ！正解！\")\n",
        "  else:\n",
        "    print(\"残念！ 食べちゃうぞ！\")"
      ],
      "execution_count": 0,
      "outputs": []
    },
    {
      "metadata": {
        "id": "H2TABVK3CMZk",
        "colab_type": "code",
        "colab": {
          "base_uri": "https://localhost:8080/",
          "height": 51
        },
        "outputId": "095c0914-ba48-4c09-bda5-3ca52277dd10"
      },
      "cell_type": "code",
      "source": [
        "quis()"
      ],
      "execution_count": 6,
      "outputs": [
        {
          "output_type": "stream",
          "text": [
            "朝は４本足、昼は２本足、夜は３本足。　これはなに？人間\n",
            "うわぁぁあ！正解！\n"
          ],
          "name": "stdout"
        }
      ]
    },
    {
      "metadata": {
        "id": "kPqUs--wCWt7",
        "colab_type": "text"
      },
      "cell_type": "markdown",
      "source": [
        "上記のコードではクイズを出題する関数が設定されています。<br>\n",
        "ここで注目していただきたいのはインデントです。<br>\n",
        "インテンドはプログラミングで使用される空白のことです。<br>\n",
        "<br>\n",
        "Pythonではインデントにも意味があります。<br>\n",
        "今回の場合は、関数を作成するdefのところで半角２文字。<br>\n",
        "正解か否か判定するif文に半角２文字です。<br>\n",
        "各制御構文ごとにブロックのようになっている所がポイントです。<br>\n",
        "<br>\n",
        "制御構文を作成する際はインデントに気をつけてください。<br>"
      ]
    }
  ]
}