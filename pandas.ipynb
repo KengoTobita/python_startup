{
  "nbformat": 4,
  "nbformat_minor": 0,
  "metadata": {
    "colab": {
      "name": "pandas.ipynb",
      "version": "0.3.2",
      "provenance": [],
      "include_colab_link": true
    },
    "kernelspec": {
      "name": "python3",
      "display_name": "Python 3"
    }
  },
  "cells": [
    {
      "cell_type": "markdown",
      "metadata": {
        "id": "view-in-github",
        "colab_type": "text"
      },
      "source": [
        "<a href=\"https://colab.research.google.com/github/KengoTobita/python_startup/blob/master/pandas.ipynb\" target=\"_parent\"><img src=\"https://colab.research.google.com/assets/colab-badge.svg\" alt=\"Open In Colab\"/></a>"
      ]
    },
    {
      "metadata": {
        "id": "v4psOyI6BU00",
        "colab_type": "text"
      },
      "cell_type": "markdown",
      "source": [
        "# <b>Python入門</b>\n",
        "***\n",
        "## 目標\n",
        "* 簡単なPythonプログラムがわかる\n",
        "* PandasでExcelファイルをデータフレームにすることができる\n",
        "* データフレームの基本的な使用方法が理解できる\n",
        "\n",
        "## Agenda \n",
        "* 基礎的なPython文法\n",
        "* pandsを利用したデータフレームの作成\n",
        "* matplotlibによるデータの可視化"
      ]
    },
    {
      "metadata": {
        "id": "UrehTkXrB1fW",
        "colab_type": "text"
      },
      "cell_type": "markdown",
      "source": [
        "# Pandasを利用したデータフレームの作成"
      ]
    },
    {
      "metadata": {
        "id": "lmCuVpVn9R-j",
        "colab_type": "code",
        "colab": {}
      },
      "cell_type": "code",
      "source": [
        "import pandas \n",
        "from sklearn.datasets import load_iris\n",
        "\n",
        "iris = load_iris()\n",
        "\n",
        "df = pandas.DataFrame(iris.data, columns=iris.feature_names)"
      ],
      "execution_count": 0,
      "outputs": []
    },
    {
      "metadata": {
        "id": "UYNe8FKh9ZdU",
        "colab_type": "code",
        "colab": {
          "base_uri": "https://localhost:8080/",
          "height": 1969
        },
        "outputId": "3b80949a-cb21-4815-88d7-96128207d57f"
      },
      "cell_type": "code",
      "source": [
        "df"
      ],
      "execution_count": 127,
      "outputs": [
        {
          "output_type": "execute_result",
          "data": {
            "text/html": [
              "<div>\n",
              "<style scoped>\n",
              "    .dataframe tbody tr th:only-of-type {\n",
              "        vertical-align: middle;\n",
              "    }\n",
              "\n",
              "    .dataframe tbody tr th {\n",
              "        vertical-align: top;\n",
              "    }\n",
              "\n",
              "    .dataframe thead th {\n",
              "        text-align: right;\n",
              "    }\n",
              "</style>\n",
              "<table border=\"1\" class=\"dataframe\">\n",
              "  <thead>\n",
              "    <tr style=\"text-align: right;\">\n",
              "      <th></th>\n",
              "      <th>sepal length (cm)</th>\n",
              "      <th>sepal width (cm)</th>\n",
              "      <th>petal length (cm)</th>\n",
              "      <th>petal width (cm)</th>\n",
              "    </tr>\n",
              "  </thead>\n",
              "  <tbody>\n",
              "    <tr>\n",
              "      <th>0</th>\n",
              "      <td>5.1</td>\n",
              "      <td>3.5</td>\n",
              "      <td>1.4</td>\n",
              "      <td>0.2</td>\n",
              "    </tr>\n",
              "    <tr>\n",
              "      <th>1</th>\n",
              "      <td>4.9</td>\n",
              "      <td>3.0</td>\n",
              "      <td>1.4</td>\n",
              "      <td>0.2</td>\n",
              "    </tr>\n",
              "    <tr>\n",
              "      <th>2</th>\n",
              "      <td>4.7</td>\n",
              "      <td>3.2</td>\n",
              "      <td>1.3</td>\n",
              "      <td>0.2</td>\n",
              "    </tr>\n",
              "    <tr>\n",
              "      <th>3</th>\n",
              "      <td>4.6</td>\n",
              "      <td>3.1</td>\n",
              "      <td>1.5</td>\n",
              "      <td>0.2</td>\n",
              "    </tr>\n",
              "    <tr>\n",
              "      <th>4</th>\n",
              "      <td>5.0</td>\n",
              "      <td>3.6</td>\n",
              "      <td>1.4</td>\n",
              "      <td>0.2</td>\n",
              "    </tr>\n",
              "    <tr>\n",
              "      <th>5</th>\n",
              "      <td>5.4</td>\n",
              "      <td>3.9</td>\n",
              "      <td>1.7</td>\n",
              "      <td>0.4</td>\n",
              "    </tr>\n",
              "    <tr>\n",
              "      <th>6</th>\n",
              "      <td>4.6</td>\n",
              "      <td>3.4</td>\n",
              "      <td>1.4</td>\n",
              "      <td>0.3</td>\n",
              "    </tr>\n",
              "    <tr>\n",
              "      <th>7</th>\n",
              "      <td>5.0</td>\n",
              "      <td>3.4</td>\n",
              "      <td>1.5</td>\n",
              "      <td>0.2</td>\n",
              "    </tr>\n",
              "    <tr>\n",
              "      <th>8</th>\n",
              "      <td>4.4</td>\n",
              "      <td>2.9</td>\n",
              "      <td>1.4</td>\n",
              "      <td>0.2</td>\n",
              "    </tr>\n",
              "    <tr>\n",
              "      <th>9</th>\n",
              "      <td>4.9</td>\n",
              "      <td>3.1</td>\n",
              "      <td>1.5</td>\n",
              "      <td>0.1</td>\n",
              "    </tr>\n",
              "    <tr>\n",
              "      <th>10</th>\n",
              "      <td>5.4</td>\n",
              "      <td>3.7</td>\n",
              "      <td>1.5</td>\n",
              "      <td>0.2</td>\n",
              "    </tr>\n",
              "    <tr>\n",
              "      <th>11</th>\n",
              "      <td>4.8</td>\n",
              "      <td>3.4</td>\n",
              "      <td>1.6</td>\n",
              "      <td>0.2</td>\n",
              "    </tr>\n",
              "    <tr>\n",
              "      <th>12</th>\n",
              "      <td>4.8</td>\n",
              "      <td>3.0</td>\n",
              "      <td>1.4</td>\n",
              "      <td>0.1</td>\n",
              "    </tr>\n",
              "    <tr>\n",
              "      <th>13</th>\n",
              "      <td>4.3</td>\n",
              "      <td>3.0</td>\n",
              "      <td>1.1</td>\n",
              "      <td>0.1</td>\n",
              "    </tr>\n",
              "    <tr>\n",
              "      <th>14</th>\n",
              "      <td>5.8</td>\n",
              "      <td>4.0</td>\n",
              "      <td>1.2</td>\n",
              "      <td>0.2</td>\n",
              "    </tr>\n",
              "    <tr>\n",
              "      <th>15</th>\n",
              "      <td>5.7</td>\n",
              "      <td>4.4</td>\n",
              "      <td>1.5</td>\n",
              "      <td>0.4</td>\n",
              "    </tr>\n",
              "    <tr>\n",
              "      <th>16</th>\n",
              "      <td>5.4</td>\n",
              "      <td>3.9</td>\n",
              "      <td>1.3</td>\n",
              "      <td>0.4</td>\n",
              "    </tr>\n",
              "    <tr>\n",
              "      <th>17</th>\n",
              "      <td>5.1</td>\n",
              "      <td>3.5</td>\n",
              "      <td>1.4</td>\n",
              "      <td>0.3</td>\n",
              "    </tr>\n",
              "    <tr>\n",
              "      <th>18</th>\n",
              "      <td>5.7</td>\n",
              "      <td>3.8</td>\n",
              "      <td>1.7</td>\n",
              "      <td>0.3</td>\n",
              "    </tr>\n",
              "    <tr>\n",
              "      <th>19</th>\n",
              "      <td>5.1</td>\n",
              "      <td>3.8</td>\n",
              "      <td>1.5</td>\n",
              "      <td>0.3</td>\n",
              "    </tr>\n",
              "    <tr>\n",
              "      <th>20</th>\n",
              "      <td>5.4</td>\n",
              "      <td>3.4</td>\n",
              "      <td>1.7</td>\n",
              "      <td>0.2</td>\n",
              "    </tr>\n",
              "    <tr>\n",
              "      <th>21</th>\n",
              "      <td>5.1</td>\n",
              "      <td>3.7</td>\n",
              "      <td>1.5</td>\n",
              "      <td>0.4</td>\n",
              "    </tr>\n",
              "    <tr>\n",
              "      <th>22</th>\n",
              "      <td>4.6</td>\n",
              "      <td>3.6</td>\n",
              "      <td>1.0</td>\n",
              "      <td>0.2</td>\n",
              "    </tr>\n",
              "    <tr>\n",
              "      <th>23</th>\n",
              "      <td>5.1</td>\n",
              "      <td>3.3</td>\n",
              "      <td>1.7</td>\n",
              "      <td>0.5</td>\n",
              "    </tr>\n",
              "    <tr>\n",
              "      <th>24</th>\n",
              "      <td>4.8</td>\n",
              "      <td>3.4</td>\n",
              "      <td>1.9</td>\n",
              "      <td>0.2</td>\n",
              "    </tr>\n",
              "    <tr>\n",
              "      <th>25</th>\n",
              "      <td>5.0</td>\n",
              "      <td>3.0</td>\n",
              "      <td>1.6</td>\n",
              "      <td>0.2</td>\n",
              "    </tr>\n",
              "    <tr>\n",
              "      <th>26</th>\n",
              "      <td>5.0</td>\n",
              "      <td>3.4</td>\n",
              "      <td>1.6</td>\n",
              "      <td>0.4</td>\n",
              "    </tr>\n",
              "    <tr>\n",
              "      <th>27</th>\n",
              "      <td>5.2</td>\n",
              "      <td>3.5</td>\n",
              "      <td>1.5</td>\n",
              "      <td>0.2</td>\n",
              "    </tr>\n",
              "    <tr>\n",
              "      <th>28</th>\n",
              "      <td>5.2</td>\n",
              "      <td>3.4</td>\n",
              "      <td>1.4</td>\n",
              "      <td>0.2</td>\n",
              "    </tr>\n",
              "    <tr>\n",
              "      <th>29</th>\n",
              "      <td>4.7</td>\n",
              "      <td>3.2</td>\n",
              "      <td>1.6</td>\n",
              "      <td>0.2</td>\n",
              "    </tr>\n",
              "    <tr>\n",
              "      <th>...</th>\n",
              "      <td>...</td>\n",
              "      <td>...</td>\n",
              "      <td>...</td>\n",
              "      <td>...</td>\n",
              "    </tr>\n",
              "    <tr>\n",
              "      <th>120</th>\n",
              "      <td>6.9</td>\n",
              "      <td>3.2</td>\n",
              "      <td>5.7</td>\n",
              "      <td>2.3</td>\n",
              "    </tr>\n",
              "    <tr>\n",
              "      <th>121</th>\n",
              "      <td>5.6</td>\n",
              "      <td>2.8</td>\n",
              "      <td>4.9</td>\n",
              "      <td>2.0</td>\n",
              "    </tr>\n",
              "    <tr>\n",
              "      <th>122</th>\n",
              "      <td>7.7</td>\n",
              "      <td>2.8</td>\n",
              "      <td>6.7</td>\n",
              "      <td>2.0</td>\n",
              "    </tr>\n",
              "    <tr>\n",
              "      <th>123</th>\n",
              "      <td>6.3</td>\n",
              "      <td>2.7</td>\n",
              "      <td>4.9</td>\n",
              "      <td>1.8</td>\n",
              "    </tr>\n",
              "    <tr>\n",
              "      <th>124</th>\n",
              "      <td>6.7</td>\n",
              "      <td>3.3</td>\n",
              "      <td>5.7</td>\n",
              "      <td>2.1</td>\n",
              "    </tr>\n",
              "    <tr>\n",
              "      <th>125</th>\n",
              "      <td>7.2</td>\n",
              "      <td>3.2</td>\n",
              "      <td>6.0</td>\n",
              "      <td>1.8</td>\n",
              "    </tr>\n",
              "    <tr>\n",
              "      <th>126</th>\n",
              "      <td>6.2</td>\n",
              "      <td>2.8</td>\n",
              "      <td>4.8</td>\n",
              "      <td>1.8</td>\n",
              "    </tr>\n",
              "    <tr>\n",
              "      <th>127</th>\n",
              "      <td>6.1</td>\n",
              "      <td>3.0</td>\n",
              "      <td>4.9</td>\n",
              "      <td>1.8</td>\n",
              "    </tr>\n",
              "    <tr>\n",
              "      <th>128</th>\n",
              "      <td>6.4</td>\n",
              "      <td>2.8</td>\n",
              "      <td>5.6</td>\n",
              "      <td>2.1</td>\n",
              "    </tr>\n",
              "    <tr>\n",
              "      <th>129</th>\n",
              "      <td>7.2</td>\n",
              "      <td>3.0</td>\n",
              "      <td>5.8</td>\n",
              "      <td>1.6</td>\n",
              "    </tr>\n",
              "    <tr>\n",
              "      <th>130</th>\n",
              "      <td>7.4</td>\n",
              "      <td>2.8</td>\n",
              "      <td>6.1</td>\n",
              "      <td>1.9</td>\n",
              "    </tr>\n",
              "    <tr>\n",
              "      <th>131</th>\n",
              "      <td>7.9</td>\n",
              "      <td>3.8</td>\n",
              "      <td>6.4</td>\n",
              "      <td>2.0</td>\n",
              "    </tr>\n",
              "    <tr>\n",
              "      <th>132</th>\n",
              "      <td>6.4</td>\n",
              "      <td>2.8</td>\n",
              "      <td>5.6</td>\n",
              "      <td>2.2</td>\n",
              "    </tr>\n",
              "    <tr>\n",
              "      <th>133</th>\n",
              "      <td>6.3</td>\n",
              "      <td>2.8</td>\n",
              "      <td>5.1</td>\n",
              "      <td>1.5</td>\n",
              "    </tr>\n",
              "    <tr>\n",
              "      <th>134</th>\n",
              "      <td>6.1</td>\n",
              "      <td>2.6</td>\n",
              "      <td>5.6</td>\n",
              "      <td>1.4</td>\n",
              "    </tr>\n",
              "    <tr>\n",
              "      <th>135</th>\n",
              "      <td>7.7</td>\n",
              "      <td>3.0</td>\n",
              "      <td>6.1</td>\n",
              "      <td>2.3</td>\n",
              "    </tr>\n",
              "    <tr>\n",
              "      <th>136</th>\n",
              "      <td>6.3</td>\n",
              "      <td>3.4</td>\n",
              "      <td>5.6</td>\n",
              "      <td>2.4</td>\n",
              "    </tr>\n",
              "    <tr>\n",
              "      <th>137</th>\n",
              "      <td>6.4</td>\n",
              "      <td>3.1</td>\n",
              "      <td>5.5</td>\n",
              "      <td>1.8</td>\n",
              "    </tr>\n",
              "    <tr>\n",
              "      <th>138</th>\n",
              "      <td>6.0</td>\n",
              "      <td>3.0</td>\n",
              "      <td>4.8</td>\n",
              "      <td>1.8</td>\n",
              "    </tr>\n",
              "    <tr>\n",
              "      <th>139</th>\n",
              "      <td>6.9</td>\n",
              "      <td>3.1</td>\n",
              "      <td>5.4</td>\n",
              "      <td>2.1</td>\n",
              "    </tr>\n",
              "    <tr>\n",
              "      <th>140</th>\n",
              "      <td>6.7</td>\n",
              "      <td>3.1</td>\n",
              "      <td>5.6</td>\n",
              "      <td>2.4</td>\n",
              "    </tr>\n",
              "    <tr>\n",
              "      <th>141</th>\n",
              "      <td>6.9</td>\n",
              "      <td>3.1</td>\n",
              "      <td>5.1</td>\n",
              "      <td>2.3</td>\n",
              "    </tr>\n",
              "    <tr>\n",
              "      <th>142</th>\n",
              "      <td>5.8</td>\n",
              "      <td>2.7</td>\n",
              "      <td>5.1</td>\n",
              "      <td>1.9</td>\n",
              "    </tr>\n",
              "    <tr>\n",
              "      <th>143</th>\n",
              "      <td>6.8</td>\n",
              "      <td>3.2</td>\n",
              "      <td>5.9</td>\n",
              "      <td>2.3</td>\n",
              "    </tr>\n",
              "    <tr>\n",
              "      <th>144</th>\n",
              "      <td>6.7</td>\n",
              "      <td>3.3</td>\n",
              "      <td>5.7</td>\n",
              "      <td>2.5</td>\n",
              "    </tr>\n",
              "    <tr>\n",
              "      <th>145</th>\n",
              "      <td>6.7</td>\n",
              "      <td>3.0</td>\n",
              "      <td>5.2</td>\n",
              "      <td>2.3</td>\n",
              "    </tr>\n",
              "    <tr>\n",
              "      <th>146</th>\n",
              "      <td>6.3</td>\n",
              "      <td>2.5</td>\n",
              "      <td>5.0</td>\n",
              "      <td>1.9</td>\n",
              "    </tr>\n",
              "    <tr>\n",
              "      <th>147</th>\n",
              "      <td>6.5</td>\n",
              "      <td>3.0</td>\n",
              "      <td>5.2</td>\n",
              "      <td>2.0</td>\n",
              "    </tr>\n",
              "    <tr>\n",
              "      <th>148</th>\n",
              "      <td>6.2</td>\n",
              "      <td>3.4</td>\n",
              "      <td>5.4</td>\n",
              "      <td>2.3</td>\n",
              "    </tr>\n",
              "    <tr>\n",
              "      <th>149</th>\n",
              "      <td>5.9</td>\n",
              "      <td>3.0</td>\n",
              "      <td>5.1</td>\n",
              "      <td>1.8</td>\n",
              "    </tr>\n",
              "  </tbody>\n",
              "</table>\n",
              "<p>150 rows × 4 columns</p>\n",
              "</div>"
            ],
            "text/plain": [
              "     sepal length (cm)  sepal width (cm)  petal length (cm)  petal width (cm)\n",
              "0                  5.1               3.5                1.4               0.2\n",
              "1                  4.9               3.0                1.4               0.2\n",
              "2                  4.7               3.2                1.3               0.2\n",
              "3                  4.6               3.1                1.5               0.2\n",
              "4                  5.0               3.6                1.4               0.2\n",
              "5                  5.4               3.9                1.7               0.4\n",
              "6                  4.6               3.4                1.4               0.3\n",
              "7                  5.0               3.4                1.5               0.2\n",
              "8                  4.4               2.9                1.4               0.2\n",
              "9                  4.9               3.1                1.5               0.1\n",
              "10                 5.4               3.7                1.5               0.2\n",
              "11                 4.8               3.4                1.6               0.2\n",
              "12                 4.8               3.0                1.4               0.1\n",
              "13                 4.3               3.0                1.1               0.1\n",
              "14                 5.8               4.0                1.2               0.2\n",
              "15                 5.7               4.4                1.5               0.4\n",
              "16                 5.4               3.9                1.3               0.4\n",
              "17                 5.1               3.5                1.4               0.3\n",
              "18                 5.7               3.8                1.7               0.3\n",
              "19                 5.1               3.8                1.5               0.3\n",
              "20                 5.4               3.4                1.7               0.2\n",
              "21                 5.1               3.7                1.5               0.4\n",
              "22                 4.6               3.6                1.0               0.2\n",
              "23                 5.1               3.3                1.7               0.5\n",
              "24                 4.8               3.4                1.9               0.2\n",
              "25                 5.0               3.0                1.6               0.2\n",
              "26                 5.0               3.4                1.6               0.4\n",
              "27                 5.2               3.5                1.5               0.2\n",
              "28                 5.2               3.4                1.4               0.2\n",
              "29                 4.7               3.2                1.6               0.2\n",
              "..                 ...               ...                ...               ...\n",
              "120                6.9               3.2                5.7               2.3\n",
              "121                5.6               2.8                4.9               2.0\n",
              "122                7.7               2.8                6.7               2.0\n",
              "123                6.3               2.7                4.9               1.8\n",
              "124                6.7               3.3                5.7               2.1\n",
              "125                7.2               3.2                6.0               1.8\n",
              "126                6.2               2.8                4.8               1.8\n",
              "127                6.1               3.0                4.9               1.8\n",
              "128                6.4               2.8                5.6               2.1\n",
              "129                7.2               3.0                5.8               1.6\n",
              "130                7.4               2.8                6.1               1.9\n",
              "131                7.9               3.8                6.4               2.0\n",
              "132                6.4               2.8                5.6               2.2\n",
              "133                6.3               2.8                5.1               1.5\n",
              "134                6.1               2.6                5.6               1.4\n",
              "135                7.7               3.0                6.1               2.3\n",
              "136                6.3               3.4                5.6               2.4\n",
              "137                6.4               3.1                5.5               1.8\n",
              "138                6.0               3.0                4.8               1.8\n",
              "139                6.9               3.1                5.4               2.1\n",
              "140                6.7               3.1                5.6               2.4\n",
              "141                6.9               3.1                5.1               2.3\n",
              "142                5.8               2.7                5.1               1.9\n",
              "143                6.8               3.2                5.9               2.3\n",
              "144                6.7               3.3                5.7               2.5\n",
              "145                6.7               3.0                5.2               2.3\n",
              "146                6.3               2.5                5.0               1.9\n",
              "147                6.5               3.0                5.2               2.0\n",
              "148                6.2               3.4                5.4               2.3\n",
              "149                5.9               3.0                5.1               1.8\n",
              "\n",
              "[150 rows x 4 columns]"
            ]
          },
          "metadata": {
            "tags": []
          },
          "execution_count": 127
        }
      ]
    },
    {
      "metadata": {
        "id": "BRfgpCpKCBZ6",
        "colab_type": "text"
      },
      "cell_type": "markdown",
      "source": [
        "Pandasを利用することで下記の情報を簡単に出すことが可能です！\n",
        "\n",
        "| コマンド             | 内容                 |\n",
        "| -------------------- | -------------------- |\n",
        "|describe|統計情報をざっと|\n",
        "| mean , mode , median | 平均、最頻値、中央値 |\n",
        "| min , max            | 最小値、最大値       |\n",
        "| unique               | ユニークな値を返す   |\n",
        "| hist                 | ヒストグラム         |\n",
        "|shape|データの大きさ|\n"
      ]
    },
    {
      "metadata": {
        "id": "-wwtqa-zCxpe",
        "colab_type": "code",
        "colab": {
          "base_uri": "https://localhost:8080/",
          "height": 359
        },
        "outputId": "7c056107-641f-4446-c711-0b29bd391895"
      },
      "cell_type": "code",
      "source": [
        "df.head(10)"
      ],
      "execution_count": 128,
      "outputs": [
        {
          "output_type": "execute_result",
          "data": {
            "text/html": [
              "<div>\n",
              "<style scoped>\n",
              "    .dataframe tbody tr th:only-of-type {\n",
              "        vertical-align: middle;\n",
              "    }\n",
              "\n",
              "    .dataframe tbody tr th {\n",
              "        vertical-align: top;\n",
              "    }\n",
              "\n",
              "    .dataframe thead th {\n",
              "        text-align: right;\n",
              "    }\n",
              "</style>\n",
              "<table border=\"1\" class=\"dataframe\">\n",
              "  <thead>\n",
              "    <tr style=\"text-align: right;\">\n",
              "      <th></th>\n",
              "      <th>sepal length (cm)</th>\n",
              "      <th>sepal width (cm)</th>\n",
              "      <th>petal length (cm)</th>\n",
              "      <th>petal width (cm)</th>\n",
              "    </tr>\n",
              "  </thead>\n",
              "  <tbody>\n",
              "    <tr>\n",
              "      <th>0</th>\n",
              "      <td>5.1</td>\n",
              "      <td>3.5</td>\n",
              "      <td>1.4</td>\n",
              "      <td>0.2</td>\n",
              "    </tr>\n",
              "    <tr>\n",
              "      <th>1</th>\n",
              "      <td>4.9</td>\n",
              "      <td>3.0</td>\n",
              "      <td>1.4</td>\n",
              "      <td>0.2</td>\n",
              "    </tr>\n",
              "    <tr>\n",
              "      <th>2</th>\n",
              "      <td>4.7</td>\n",
              "      <td>3.2</td>\n",
              "      <td>1.3</td>\n",
              "      <td>0.2</td>\n",
              "    </tr>\n",
              "    <tr>\n",
              "      <th>3</th>\n",
              "      <td>4.6</td>\n",
              "      <td>3.1</td>\n",
              "      <td>1.5</td>\n",
              "      <td>0.2</td>\n",
              "    </tr>\n",
              "    <tr>\n",
              "      <th>4</th>\n",
              "      <td>5.0</td>\n",
              "      <td>3.6</td>\n",
              "      <td>1.4</td>\n",
              "      <td>0.2</td>\n",
              "    </tr>\n",
              "    <tr>\n",
              "      <th>5</th>\n",
              "      <td>5.4</td>\n",
              "      <td>3.9</td>\n",
              "      <td>1.7</td>\n",
              "      <td>0.4</td>\n",
              "    </tr>\n",
              "    <tr>\n",
              "      <th>6</th>\n",
              "      <td>4.6</td>\n",
              "      <td>3.4</td>\n",
              "      <td>1.4</td>\n",
              "      <td>0.3</td>\n",
              "    </tr>\n",
              "    <tr>\n",
              "      <th>7</th>\n",
              "      <td>5.0</td>\n",
              "      <td>3.4</td>\n",
              "      <td>1.5</td>\n",
              "      <td>0.2</td>\n",
              "    </tr>\n",
              "    <tr>\n",
              "      <th>8</th>\n",
              "      <td>4.4</td>\n",
              "      <td>2.9</td>\n",
              "      <td>1.4</td>\n",
              "      <td>0.2</td>\n",
              "    </tr>\n",
              "    <tr>\n",
              "      <th>9</th>\n",
              "      <td>4.9</td>\n",
              "      <td>3.1</td>\n",
              "      <td>1.5</td>\n",
              "      <td>0.1</td>\n",
              "    </tr>\n",
              "  </tbody>\n",
              "</table>\n",
              "</div>"
            ],
            "text/plain": [
              "   sepal length (cm)  sepal width (cm)  petal length (cm)  petal width (cm)\n",
              "0                5.1               3.5                1.4               0.2\n",
              "1                4.9               3.0                1.4               0.2\n",
              "2                4.7               3.2                1.3               0.2\n",
              "3                4.6               3.1                1.5               0.2\n",
              "4                5.0               3.6                1.4               0.2\n",
              "5                5.4               3.9                1.7               0.4\n",
              "6                4.6               3.4                1.4               0.3\n",
              "7                5.0               3.4                1.5               0.2\n",
              "8                4.4               2.9                1.4               0.2\n",
              "9                4.9               3.1                1.5               0.1"
            ]
          },
          "metadata": {
            "tags": []
          },
          "execution_count": 128
        }
      ]
    },
    {
      "metadata": {
        "id": "zMVsvH3Y9Zaa",
        "colab_type": "code",
        "colab": {
          "base_uri": "https://localhost:8080/",
          "height": 34
        },
        "outputId": "e1024e35-35e8-4886-d3d8-d49ace84ffa6"
      },
      "cell_type": "code",
      "source": [
        "df.shape"
      ],
      "execution_count": 129,
      "outputs": [
        {
          "output_type": "execute_result",
          "data": {
            "text/plain": [
              "(150, 4)"
            ]
          },
          "metadata": {
            "tags": []
          },
          "execution_count": 129
        }
      ]
    },
    {
      "metadata": {
        "id": "qP-ZIDSBCRk-",
        "colab_type": "code",
        "colab": {
          "base_uri": "https://localhost:8080/",
          "height": 297
        },
        "outputId": "82be9cbd-d5eb-488a-b849-448d85341fac"
      },
      "cell_type": "code",
      "source": [
        "df.describe()"
      ],
      "execution_count": 130,
      "outputs": [
        {
          "output_type": "execute_result",
          "data": {
            "text/html": [
              "<div>\n",
              "<style scoped>\n",
              "    .dataframe tbody tr th:only-of-type {\n",
              "        vertical-align: middle;\n",
              "    }\n",
              "\n",
              "    .dataframe tbody tr th {\n",
              "        vertical-align: top;\n",
              "    }\n",
              "\n",
              "    .dataframe thead th {\n",
              "        text-align: right;\n",
              "    }\n",
              "</style>\n",
              "<table border=\"1\" class=\"dataframe\">\n",
              "  <thead>\n",
              "    <tr style=\"text-align: right;\">\n",
              "      <th></th>\n",
              "      <th>sepal length (cm)</th>\n",
              "      <th>sepal width (cm)</th>\n",
              "      <th>petal length (cm)</th>\n",
              "      <th>petal width (cm)</th>\n",
              "    </tr>\n",
              "  </thead>\n",
              "  <tbody>\n",
              "    <tr>\n",
              "      <th>count</th>\n",
              "      <td>150.000000</td>\n",
              "      <td>150.000000</td>\n",
              "      <td>150.000000</td>\n",
              "      <td>150.000000</td>\n",
              "    </tr>\n",
              "    <tr>\n",
              "      <th>mean</th>\n",
              "      <td>5.843333</td>\n",
              "      <td>3.057333</td>\n",
              "      <td>3.758000</td>\n",
              "      <td>1.199333</td>\n",
              "    </tr>\n",
              "    <tr>\n",
              "      <th>std</th>\n",
              "      <td>0.828066</td>\n",
              "      <td>0.435866</td>\n",
              "      <td>1.765298</td>\n",
              "      <td>0.762238</td>\n",
              "    </tr>\n",
              "    <tr>\n",
              "      <th>min</th>\n",
              "      <td>4.300000</td>\n",
              "      <td>2.000000</td>\n",
              "      <td>1.000000</td>\n",
              "      <td>0.100000</td>\n",
              "    </tr>\n",
              "    <tr>\n",
              "      <th>25%</th>\n",
              "      <td>5.100000</td>\n",
              "      <td>2.800000</td>\n",
              "      <td>1.600000</td>\n",
              "      <td>0.300000</td>\n",
              "    </tr>\n",
              "    <tr>\n",
              "      <th>50%</th>\n",
              "      <td>5.800000</td>\n",
              "      <td>3.000000</td>\n",
              "      <td>4.350000</td>\n",
              "      <td>1.300000</td>\n",
              "    </tr>\n",
              "    <tr>\n",
              "      <th>75%</th>\n",
              "      <td>6.400000</td>\n",
              "      <td>3.300000</td>\n",
              "      <td>5.100000</td>\n",
              "      <td>1.800000</td>\n",
              "    </tr>\n",
              "    <tr>\n",
              "      <th>max</th>\n",
              "      <td>7.900000</td>\n",
              "      <td>4.400000</td>\n",
              "      <td>6.900000</td>\n",
              "      <td>2.500000</td>\n",
              "    </tr>\n",
              "  </tbody>\n",
              "</table>\n",
              "</div>"
            ],
            "text/plain": [
              "       sepal length (cm)  sepal width (cm)  petal length (cm)  \\\n",
              "count         150.000000        150.000000         150.000000   \n",
              "mean            5.843333          3.057333           3.758000   \n",
              "std             0.828066          0.435866           1.765298   \n",
              "min             4.300000          2.000000           1.000000   \n",
              "25%             5.100000          2.800000           1.600000   \n",
              "50%             5.800000          3.000000           4.350000   \n",
              "75%             6.400000          3.300000           5.100000   \n",
              "max             7.900000          4.400000           6.900000   \n",
              "\n",
              "       petal width (cm)  \n",
              "count        150.000000  \n",
              "mean           1.199333  \n",
              "std            0.762238  \n",
              "min            0.100000  \n",
              "25%            0.300000  \n",
              "50%            1.300000  \n",
              "75%            1.800000  \n",
              "max            2.500000  "
            ]
          },
          "metadata": {
            "tags": []
          },
          "execution_count": 130
        }
      ]
    },
    {
      "metadata": {
        "id": "ylDI6clTCRf3",
        "colab_type": "code",
        "colab": {
          "base_uri": "https://localhost:8080/",
          "height": 102
        },
        "outputId": "183856cc-bd24-48d7-b985-f2a075c16668"
      },
      "cell_type": "code",
      "source": [
        "df.mean()"
      ],
      "execution_count": 131,
      "outputs": [
        {
          "output_type": "execute_result",
          "data": {
            "text/plain": [
              "sepal length (cm)    5.843333\n",
              "sepal width (cm)     3.057333\n",
              "petal length (cm)    3.758000\n",
              "petal width (cm)     1.199333\n",
              "dtype: float64"
            ]
          },
          "metadata": {
            "tags": []
          },
          "execution_count": 131
        }
      ]
    },
    {
      "metadata": {
        "id": "ocZAmW5xCY2l",
        "colab_type": "code",
        "colab": {
          "base_uri": "https://localhost:8080/",
          "height": 447
        },
        "outputId": "c77ec9ae-3c6d-4a47-a21b-b3f9a0524439"
      },
      "cell_type": "code",
      "source": [
        "df.hist()"
      ],
      "execution_count": 132,
      "outputs": [
        {
          "output_type": "execute_result",
          "data": {
            "text/plain": [
              "array([[<matplotlib.axes._subplots.AxesSubplot object at 0x7fa4ccfcd518>,\n",
              "        <matplotlib.axes._subplots.AxesSubplot object at 0x7fa4ccf67b00>],\n",
              "       [<matplotlib.axes._subplots.AxesSubplot object at 0x7fa4ccf96198>,\n",
              "        <matplotlib.axes._subplots.AxesSubplot object at 0x7fa4ccf3b7f0>]],\n",
              "      dtype=object)"
            ]
          },
          "metadata": {
            "tags": []
          },
          "execution_count": 132
        },
        {
          "output_type": "display_data",
          "data": {
            "image/png": "[encoded data removed]",
            "text/plain": [
              "<Figure size 576x396 with 4 Axes>"
            ]
          },
          "metadata": {
            "tags": []
          }
        }
      ]
    },
    {
      "metadata": {
        "id": "BI1I5ID_CiE6",
        "colab_type": "text"
      },
      "cell_type": "markdown",
      "source": [
        "## データフレームの範囲指定\n",
        "上記のプログラムでは範囲を指定していませんが、これからは範囲を指定して作業をしていきます。\n",
        "\n",
        "| 範囲指定方法 | 内容                             |\n",
        "| ------------ | -------------------------------- |\n",
        "| loc          | カラムやインデックスの名前で指定(数字) |\n",
        "| iloc         | 順番で指定 (名前)                      |\n",
        "\n",
        "\n",
        "df.iloc[ indexの始まり : indexの終わり　, columnsの始まり:columnsの終わり     ]"
      ]
    },
    {
      "metadata": {
        "id": "ZEDP45fBCYwQ",
        "colab_type": "code",
        "colab": {
          "base_uri": "https://localhost:8080/",
          "height": 901
        },
        "outputId": "9de4635a-0cf6-4ce9-eaec-07160b84614f"
      },
      "cell_type": "code",
      "source": [
        " df.iloc[:51,0]"
      ],
      "execution_count": 17,
      "outputs": [
        {
          "output_type": "execute_result",
          "data": {
            "text/plain": [
              "0     5.1\n",
              "1     4.9\n",
              "2     4.7\n",
              "3     4.6\n",
              "4     5.0\n",
              "5     5.4\n",
              "6     4.6\n",
              "7     5.0\n",
              "8     4.4\n",
              "9     4.9\n",
              "10    5.4\n",
              "11    4.8\n",
              "12    4.8\n",
              "13    4.3\n",
              "14    5.8\n",
              "15    5.7\n",
              "16    5.4\n",
              "17    5.1\n",
              "18    5.7\n",
              "19    5.1\n",
              "20    5.4\n",
              "21    5.1\n",
              "22    4.6\n",
              "23    5.1\n",
              "24    4.8\n",
              "25    5.0\n",
              "26    5.0\n",
              "27    5.2\n",
              "28    5.2\n",
              "29    4.7\n",
              "30    4.8\n",
              "31    5.4\n",
              "32    5.2\n",
              "33    5.5\n",
              "34    4.9\n",
              "35    5.0\n",
              "36    5.5\n",
              "37    4.9\n",
              "38    4.4\n",
              "39    5.1\n",
              "40    5.0\n",
              "41    4.5\n",
              "42    4.4\n",
              "43    5.0\n",
              "44    5.1\n",
              "45    4.8\n",
              "46    5.1\n",
              "47    4.6\n",
              "48    5.3\n",
              "49    5.0\n",
              "50    7.0\n",
              "Name: sepal length (cm), dtype: float64"
            ]
          },
          "metadata": {
            "tags": []
          },
          "execution_count": 17
        }
      ]
    },
    {
      "metadata": {
        "id": "9xbX99Oh9ZKq",
        "colab_type": "code",
        "colab": {
          "base_uri": "https://localhost:8080/",
          "height": 364
        },
        "outputId": "a005ed7d-b1da-4f10-ef59-d6f0d7733bb1"
      },
      "cell_type": "code",
      "source": [
        " df.iloc[51:101,0].hist()"
      ],
      "execution_count": 133,
      "outputs": [
        {
          "output_type": "execute_result",
          "data": {
            "text/plain": [
              "<matplotlib.axes._subplots.AxesSubplot at 0x7fa4ccec3908>"
            ]
          },
          "metadata": {
            "tags": []
          },
          "execution_count": 133
        },
        {
          "output_type": "display_data",
          "data": {
            "image/png": "[encoded data removed]",
            "text/plain": [
              "<Figure size 576x396 with 1 Axes>"
            ]
          },
          "metadata": {
            "tags": []
          }
        }
      ]
    },
    {
      "metadata": {
        "id": "CbMeOsOHDqVw",
        "colab_type": "text"
      },
      "cell_type": "markdown",
      "source": [
        "locを使用した場合"
      ]
    },
    {
      "metadata": {
        "id": "txz-KYoTDmtu",
        "colab_type": "code",
        "colab": {
          "base_uri": "https://localhost:8080/",
          "height": 68
        },
        "outputId": "43e38104-d9b7-4dd6-fcdd-9e8ebe95e13d"
      },
      "cell_type": "code",
      "source": [
        "df.columns"
      ],
      "execution_count": 134,
      "outputs": [
        {
          "output_type": "execute_result",
          "data": {
            "text/plain": [
              "Index(['sepal length (cm)', 'sepal width (cm)', 'petal length (cm)',\n",
              "       'petal width (cm)'],\n",
              "      dtype='object')"
            ]
          },
          "metadata": {
            "tags": []
          },
          "execution_count": 134
        }
      ]
    },
    {
      "metadata": {
        "id": "n86S9oP8NUQa",
        "colab_type": "code",
        "colab": {
          "base_uri": "https://localhost:8080/",
          "height": 918
        },
        "outputId": "33223e90-d08d-49dd-9f5c-3c6678bef168"
      },
      "cell_type": "code",
      "source": [
        "df.loc[0:51,'sepal width (cm)']"
      ],
      "execution_count": 135,
      "outputs": [
        {
          "output_type": "execute_result",
          "data": {
            "text/plain": [
              "0     3.5\n",
              "1     3.0\n",
              "2     3.2\n",
              "3     3.1\n",
              "4     3.6\n",
              "5     3.9\n",
              "6     3.4\n",
              "7     3.4\n",
              "8     2.9\n",
              "9     3.1\n",
              "10    3.7\n",
              "11    3.4\n",
              "12    3.0\n",
              "13    3.0\n",
              "14    4.0\n",
              "15    4.4\n",
              "16    3.9\n",
              "17    3.5\n",
              "18    3.8\n",
              "19    3.8\n",
              "20    3.4\n",
              "21    3.7\n",
              "22    3.6\n",
              "23    3.3\n",
              "24    3.4\n",
              "25    3.0\n",
              "26    3.4\n",
              "27    3.5\n",
              "28    3.4\n",
              "29    3.2\n",
              "30    3.1\n",
              "31    3.4\n",
              "32    4.1\n",
              "33    4.2\n",
              "34    3.1\n",
              "35    3.2\n",
              "36    3.5\n",
              "37    3.6\n",
              "38    3.0\n",
              "39    3.4\n",
              "40    3.5\n",
              "41    2.3\n",
              "42    3.2\n",
              "43    3.5\n",
              "44    3.8\n",
              "45    3.0\n",
              "46    3.8\n",
              "47    3.2\n",
              "48    3.7\n",
              "49    3.3\n",
              "50    3.2\n",
              "51    3.2\n",
              "Name: sepal width (cm), dtype: float64"
            ]
          },
          "metadata": {
            "tags": []
          },
          "execution_count": 135
        }
      ]
    },
    {
      "metadata": {
        "id": "dKzRWYwyBynq",
        "colab_type": "code",
        "colab": {
          "base_uri": "https://localhost:8080/",
          "height": 364
        },
        "outputId": "10834fb0-da42-4be7-d6e9-6304a88546a0"
      },
      "cell_type": "code",
      "source": [
        "df.loc[51:101,\"petal length (cm)\"].hist()"
      ],
      "execution_count": 136,
      "outputs": [
        {
          "output_type": "execute_result",
          "data": {
            "text/plain": [
              "<matplotlib.axes._subplots.AxesSubplot at 0x7fa4ccdaca58>"
            ]
          },
          "metadata": {
            "tags": []
          },
          "execution_count": 136
        },
        {
          "output_type": "display_data",
          "data": {
            "image/png": "[encoded data removed]",
            "text/plain": [
              "<Figure size 576x396 with 1 Axes>"
            ]
          },
          "metadata": {
            "tags": []
          }
        }
      ]
    },
    {
      "metadata": {
        "id": "GeAax9vH_46e",
        "colab_type": "code",
        "colab": {
          "base_uri": "https://localhost:8080/",
          "height": 738
        },
        "outputId": "6fb4dd29-3cf9-44de-ebc2-5d97bb7ae9d5"
      },
      "cell_type": "code",
      "source": [
        "import seaborn as sns\n",
        "\n",
        "sns.pairplot(df)"
      ],
      "execution_count": 141,
      "outputs": [
        {
          "output_type": "execute_result",
          "data": {
            "text/plain": [
              "<seaborn.axisgrid.PairGrid at 0x7fa4cb4ebeb8>"
            ]
          },
          "metadata": {
            "tags": []
          },
          "execution_count": 141
        },
        {
          "output_type": "display_data",
          "data": {
            "image/png": "[encoded data removed]",
            "text/plain": [
              "<Figure size 720x720 with 20 Axes>"
            ]
          },
          "metadata": {
            "tags": []
          }
        }
      ]
    },
    {
      "metadata": {
        "id": "fU8tt7Jfh9mC",
        "colab_type": "text"
      },
      "cell_type": "markdown",
      "source": [
        "***\n",
        "# こんな感じでexcelファイルも読み込めます\n",
        "\n",
        "\n"
      ]
    },
    {
      "metadata": {
        "id": "Yt5DSGmCF8Zy",
        "colab_type": "text"
      },
      "cell_type": "markdown",
      "source": [
        "google colabでのファイルの読み込みはライブラリの使用が必要です"
      ]
    },
    {
      "metadata": {
        "id": "DHONGP-Jh-UV",
        "colab_type": "code",
        "colab": {
          "resources": {
            "http://localhost:8080/nbextensions/google.colab/files.js": {
              "data": "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",
              "ok": true,
              "headers": [
                [
                  "content-type",
                  "application/javascript"
                ]
              ],
              "status": 200,
              "status_text": ""
            }
          },
          "base_uri": "https://localhost:8080/",
          "height": 88
        },
        "outputId": "28547ff1-afcf-41a5-cce4-d32d8c1f6471"
      },
      "cell_type": "code",
      "source": [
        "from google.colab import files\n",
        "uploaded = files.upload()"
      ],
      "execution_count": 75,
      "outputs": [
        {
          "output_type": "display_data",
          "data": {
            "text/html": [
              "\n",
              "     <input type=\"file\" id=\"files-e9d9504e-fb0b-4b73-bbce-43aa75ec3209\" name=\"files[]\" multiple disabled />\n",
              "     <output id=\"result-e9d9504e-fb0b-4b73-bbce-43aa75ec3209\">\n",
              "      Upload widget is only available when the cell has been executed in the\n",
              "      current browser session. Please rerun this cell to enable.\n",
              "      </output>\n",
              "      <script src=\"/nbextensions/google.colab/files.js\"></script> "
            ],
            "text/plain": [
              "<IPython.core.display.HTML object>"
            ]
          },
          "metadata": {
            "tags": []
          }
        },
        {
          "output_type": "stream",
          "text": [
            "Saving FEI_PREF_190321095205.xlsx to FEI_PREF_190321095205.xlsx\n"
          ],
          "name": "stdout"
        }
      ]
    },
    {
      "metadata": {
        "id": "5NwVJdC1iMkh",
        "colab_type": "code",
        "colab": {
          "base_uri": "https://localhost:8080/",
          "height": 34
        },
        "outputId": "10528e28-3be9-446f-9fba-2a824b92fb34"
      },
      "cell_type": "code",
      "source": [
        "! ls"
      ],
      "execution_count": 79,
      "outputs": [
        {
          "output_type": "stream",
          "text": [
            "FEI_PREF_190321095205.xlsx  Python入門.xlsx  sample_data\n"
          ],
          "name": "stdout"
        }
      ]
    },
    {
      "metadata": {
        "id": "20VUDd_6iMd_",
        "colab_type": "code",
        "colab": {
          "base_uri": "https://localhost:8080/",
          "height": 1186
        },
        "outputId": "aa9e0b86-8ca6-4075-d30a-ee4478d0d946"
      },
      "cell_type": "code",
      "source": [
        "import pandas as pd\n",
        "\n",
        "money = pd.read_excel(\"Python入門.xlsx\")\n",
        "money"
      ],
      "execution_count": 81,
      "outputs": [
        {
          "output_type": "execute_result",
          "data": {
            "text/html": [
              "<div>\n",
              "<style scoped>\n",
              "    .dataframe tbody tr th:only-of-type {\n",
              "        vertical-align: middle;\n",
              "    }\n",
              "\n",
              "    .dataframe tbody tr th {\n",
              "        vertical-align: top;\n",
              "    }\n",
              "\n",
              "    .dataframe thead th {\n",
              "        text-align: right;\n",
              "    }\n",
              "</style>\n",
              "<table border=\"1\" class=\"dataframe\">\n",
              "  <thead>\n",
              "    <tr style=\"text-align: right;\">\n",
              "      <th></th>\n",
              "      <th>00_総数</th>\n",
              "      <th>01_Ａ農業，林業</th>\n",
              "      <th>02_Ｂ漁業</th>\n",
              "      <th>03_Ｃ鉱業，採石業，砂利採取業</th>\n",
              "      <th>04_Ｄ建設業</th>\n",
              "      <th>05_Ｅ製造業</th>\n",
              "      <th>06_Ｆ電気・ガス・熱供給・水道業</th>\n",
              "      <th>07_Ｇ情報通信業</th>\n",
              "      <th>08_Ｈ運輸業，郵便業</th>\n",
              "      <th>09_Ｉ卸売業，小売業</th>\n",
              "      <th>...</th>\n",
              "      <th>11_Ｋ不動産業，物品賃貸業</th>\n",
              "      <th>12_Ｌ学術研究，専門・技術サービス業</th>\n",
              "      <th>13_Ｍ宿泊業，飲食サービス業</th>\n",
              "      <th>14_Ｎ生活関連サービス業，娯楽業</th>\n",
              "      <th>15_Ｏ教育，学習支援業</th>\n",
              "      <th>16_Ｐ医療，福祉</th>\n",
              "      <th>17_Ｑ複合サービス事業</th>\n",
              "      <th>18_Ｒサービス業（他に分類されないもの）</th>\n",
              "      <th>19_Ｓ公務（他に分類されるものを除く）</th>\n",
              "      <th>20_Ｔ分類不能の産業</th>\n",
              "    </tr>\n",
              "  </thead>\n",
              "  <tbody>\n",
              "    <tr>\n",
              "      <th>00_総数</th>\n",
              "      <td>66213000</td>\n",
              "      <td>2030500</td>\n",
              "      <td>162900</td>\n",
              "      <td>24800</td>\n",
              "      <td>4899800</td>\n",
              "      <td>10530900</td>\n",
              "      <td>374200</td>\n",
              "      <td>2233600</td>\n",
              "      <td>3434300</td>\n",
              "      <td>10120100</td>\n",
              "      <td>...</td>\n",
              "      <td>1427600</td>\n",
              "      <td>2457100</td>\n",
              "      <td>3728600</td>\n",
              "      <td>2356000</td>\n",
              "      <td>3198500</td>\n",
              "      <td>8159300</td>\n",
              "      <td>547500</td>\n",
              "      <td>4423000</td>\n",
              "      <td>2348500</td>\n",
              "      <td>2122700</td>\n",
              "    </tr>\n",
              "    <tr>\n",
              "      <th>01_50万円未満</th>\n",
              "      <td>3765600</td>\n",
              "      <td>326400</td>\n",
              "      <td>11900</td>\n",
              "      <td>400</td>\n",
              "      <td>104100</td>\n",
              "      <td>280100</td>\n",
              "      <td>3400</td>\n",
              "      <td>47300</td>\n",
              "      <td>70500</td>\n",
              "      <td>636200</td>\n",
              "      <td>...</td>\n",
              "      <td>57500</td>\n",
              "      <td>114900</td>\n",
              "      <td>546800</td>\n",
              "      <td>241200</td>\n",
              "      <td>333300</td>\n",
              "      <td>336500</td>\n",
              "      <td>8400</td>\n",
              "      <td>422100</td>\n",
              "      <td>39200</td>\n",
              "      <td>170700</td>\n",
              "    </tr>\n",
              "    <tr>\n",
              "      <th>02_50～99万円</th>\n",
              "      <td>7318500</td>\n",
              "      <td>286400</td>\n",
              "      <td>15700</td>\n",
              "      <td>900</td>\n",
              "      <td>243800</td>\n",
              "      <td>562900</td>\n",
              "      <td>7900</td>\n",
              "      <td>66100</td>\n",
              "      <td>212900</td>\n",
              "      <td>1717800</td>\n",
              "      <td>...</td>\n",
              "      <td>160200</td>\n",
              "      <td>149000</td>\n",
              "      <td>1078900</td>\n",
              "      <td>443800</td>\n",
              "      <td>347800</td>\n",
              "      <td>906500</td>\n",
              "      <td>25700</td>\n",
              "      <td>690600</td>\n",
              "      <td>65600</td>\n",
              "      <td>256500</td>\n",
              "    </tr>\n",
              "    <tr>\n",
              "      <th>03_100～149万円</th>\n",
              "      <td>6653000</td>\n",
              "      <td>229000</td>\n",
              "      <td>15700</td>\n",
              "      <td>900</td>\n",
              "      <td>304500</td>\n",
              "      <td>859700</td>\n",
              "      <td>9600</td>\n",
              "      <td>67300</td>\n",
              "      <td>289200</td>\n",
              "      <td>1397400</td>\n",
              "      <td>...</td>\n",
              "      <td>142200</td>\n",
              "      <td>165800</td>\n",
              "      <td>587200</td>\n",
              "      <td>359000</td>\n",
              "      <td>259300</td>\n",
              "      <td>933900</td>\n",
              "      <td>54500</td>\n",
              "      <td>525700</td>\n",
              "      <td>101800</td>\n",
              "      <td>234900</td>\n",
              "    </tr>\n",
              "    <tr>\n",
              "      <th>04_150～199万円</th>\n",
              "      <td>4823700</td>\n",
              "      <td>142300</td>\n",
              "      <td>11400</td>\n",
              "      <td>1100</td>\n",
              "      <td>323200</td>\n",
              "      <td>746900</td>\n",
              "      <td>14000</td>\n",
              "      <td>80900</td>\n",
              "      <td>241400</td>\n",
              "      <td>835800</td>\n",
              "      <td>...</td>\n",
              "      <td>106000</td>\n",
              "      <td>129300</td>\n",
              "      <td>290900</td>\n",
              "      <td>255500</td>\n",
              "      <td>164200</td>\n",
              "      <td>696500</td>\n",
              "      <td>50800</td>\n",
              "      <td>385800</td>\n",
              "      <td>97400</td>\n",
              "      <td>161500</td>\n",
              "    </tr>\n",
              "    <tr>\n",
              "      <th>05_200～249万円</th>\n",
              "      <td>6863300</td>\n",
              "      <td>153700</td>\n",
              "      <td>13700</td>\n",
              "      <td>2500</td>\n",
              "      <td>560400</td>\n",
              "      <td>1139600</td>\n",
              "      <td>24200</td>\n",
              "      <td>176000</td>\n",
              "      <td>405100</td>\n",
              "      <td>974100</td>\n",
              "      <td>...</td>\n",
              "      <td>131400</td>\n",
              "      <td>201400</td>\n",
              "      <td>325900</td>\n",
              "      <td>299900</td>\n",
              "      <td>226200</td>\n",
              "      <td>1140300</td>\n",
              "      <td>67400</td>\n",
              "      <td>511000</td>\n",
              "      <td>136900</td>\n",
              "      <td>208100</td>\n",
              "    </tr>\n",
              "    <tr>\n",
              "      <th>06_250～299万円</th>\n",
              "      <td>5123400</td>\n",
              "      <td>90700</td>\n",
              "      <td>11500</td>\n",
              "      <td>1700</td>\n",
              "      <td>490100</td>\n",
              "      <td>849900</td>\n",
              "      <td>17800</td>\n",
              "      <td>161200</td>\n",
              "      <td>338700</td>\n",
              "      <td>681200</td>\n",
              "      <td>...</td>\n",
              "      <td>102100</td>\n",
              "      <td>163600</td>\n",
              "      <td>194300</td>\n",
              "      <td>178400</td>\n",
              "      <td>182100</td>\n",
              "      <td>859200</td>\n",
              "      <td>45700</td>\n",
              "      <td>361500</td>\n",
              "      <td>114100</td>\n",
              "      <td>140400</td>\n",
              "    </tr>\n",
              "    <tr>\n",
              "      <th>07_300～399万円</th>\n",
              "      <td>8885600</td>\n",
              "      <td>135000</td>\n",
              "      <td>15600</td>\n",
              "      <td>6400</td>\n",
              "      <td>929600</td>\n",
              "      <td>1588400</td>\n",
              "      <td>47100</td>\n",
              "      <td>360400</td>\n",
              "      <td>670100</td>\n",
              "      <td>1139300</td>\n",
              "      <td>...</td>\n",
              "      <td>188300</td>\n",
              "      <td>349400</td>\n",
              "      <td>260000</td>\n",
              "      <td>200000</td>\n",
              "      <td>342500</td>\n",
              "      <td>1318200</td>\n",
              "      <td>78400</td>\n",
              "      <td>546500</td>\n",
              "      <td>289800</td>\n",
              "      <td>192000</td>\n",
              "    </tr>\n",
              "    <tr>\n",
              "      <th>08_400～499万円</th>\n",
              "      <td>6410100</td>\n",
              "      <td>72500</td>\n",
              "      <td>9900</td>\n",
              "      <td>3800</td>\n",
              "      <td>626600</td>\n",
              "      <td>1283700</td>\n",
              "      <td>46500</td>\n",
              "      <td>318200</td>\n",
              "      <td>485400</td>\n",
              "      <td>828800</td>\n",
              "      <td>...</td>\n",
              "      <td>131000</td>\n",
              "      <td>271500</td>\n",
              "      <td>132600</td>\n",
              "      <td>115400</td>\n",
              "      <td>318900</td>\n",
              "      <td>750200</td>\n",
              "      <td>63700</td>\n",
              "      <td>352900</td>\n",
              "      <td>299300</td>\n",
              "      <td>117700</td>\n",
              "    </tr>\n",
              "    <tr>\n",
              "      <th>10_500～599万円</th>\n",
              "      <td>4473900</td>\n",
              "      <td>44000</td>\n",
              "      <td>6800</td>\n",
              "      <td>1800</td>\n",
              "      <td>378000</td>\n",
              "      <td>935500</td>\n",
              "      <td>43000</td>\n",
              "      <td>262500</td>\n",
              "      <td>279800</td>\n",
              "      <td>564500</td>\n",
              "      <td>...</td>\n",
              "      <td>93300</td>\n",
              "      <td>216900</td>\n",
              "      <td>64200</td>\n",
              "      <td>61800</td>\n",
              "      <td>274500</td>\n",
              "      <td>413300</td>\n",
              "      <td>62200</td>\n",
              "      <td>221800</td>\n",
              "      <td>353600</td>\n",
              "      <td>70500</td>\n",
              "    </tr>\n",
              "    <tr>\n",
              "      <th>11_600～699万円</th>\n",
              "      <td>3052800</td>\n",
              "      <td>24000</td>\n",
              "      <td>4800</td>\n",
              "      <td>1000</td>\n",
              "      <td>251000</td>\n",
              "      <td>650000</td>\n",
              "      <td>41900</td>\n",
              "      <td>209500</td>\n",
              "      <td>158100</td>\n",
              "      <td>357800</td>\n",
              "      <td>...</td>\n",
              "      <td>68600</td>\n",
              "      <td>170300</td>\n",
              "      <td>40300</td>\n",
              "      <td>32500</td>\n",
              "      <td>232100</td>\n",
              "      <td>205300</td>\n",
              "      <td>41300</td>\n",
              "      <td>127100</td>\n",
              "      <td>307000</td>\n",
              "      <td>40200</td>\n",
              "    </tr>\n",
              "    <tr>\n",
              "      <th>12_700～799万円</th>\n",
              "      <td>2257100</td>\n",
              "      <td>17100</td>\n",
              "      <td>2800</td>\n",
              "      <td>400</td>\n",
              "      <td>168500</td>\n",
              "      <td>466300</td>\n",
              "      <td>39100</td>\n",
              "      <td>153200</td>\n",
              "      <td>93900</td>\n",
              "      <td>242900</td>\n",
              "      <td>...</td>\n",
              "      <td>41700</td>\n",
              "      <td>131900</td>\n",
              "      <td>18300</td>\n",
              "      <td>23900</td>\n",
              "      <td>237300</td>\n",
              "      <td>127500</td>\n",
              "      <td>25500</td>\n",
              "      <td>83400</td>\n",
              "      <td>273300</td>\n",
              "      <td>32100</td>\n",
              "    </tr>\n",
              "    <tr>\n",
              "      <th>13_800～899万円</th>\n",
              "      <td>1404900</td>\n",
              "      <td>12100</td>\n",
              "      <td>1800</td>\n",
              "      <td>500</td>\n",
              "      <td>107700</td>\n",
              "      <td>331200</td>\n",
              "      <td>30300</td>\n",
              "      <td>100600</td>\n",
              "      <td>48200</td>\n",
              "      <td>137100</td>\n",
              "      <td>...</td>\n",
              "      <td>37700</td>\n",
              "      <td>89700</td>\n",
              "      <td>8200</td>\n",
              "      <td>13500</td>\n",
              "      <td>124300</td>\n",
              "      <td>59500</td>\n",
              "      <td>14500</td>\n",
              "      <td>43200</td>\n",
              "      <td>145800</td>\n",
              "      <td>22800</td>\n",
              "    </tr>\n",
              "    <tr>\n",
              "      <th>14_900～999万円</th>\n",
              "      <td>877800</td>\n",
              "      <td>8400</td>\n",
              "      <td>2100</td>\n",
              "      <td>700</td>\n",
              "      <td>75100</td>\n",
              "      <td>217900</td>\n",
              "      <td>16600</td>\n",
              "      <td>65000</td>\n",
              "      <td>34900</td>\n",
              "      <td>87800</td>\n",
              "      <td>...</td>\n",
              "      <td>29100</td>\n",
              "      <td>64000</td>\n",
              "      <td>8000</td>\n",
              "      <td>10800</td>\n",
              "      <td>47400</td>\n",
              "      <td>39100</td>\n",
              "      <td>3700</td>\n",
              "      <td>26600</td>\n",
              "      <td>71800</td>\n",
              "      <td>14400</td>\n",
              "    </tr>\n",
              "    <tr>\n",
              "      <th>15_1000～1249万円</th>\n",
              "      <td>1260100</td>\n",
              "      <td>15000</td>\n",
              "      <td>3000</td>\n",
              "      <td>1700</td>\n",
              "      <td>111900</td>\n",
              "      <td>305500</td>\n",
              "      <td>24200</td>\n",
              "      <td>98600</td>\n",
              "      <td>39000</td>\n",
              "      <td>141300</td>\n",
              "      <td>...</td>\n",
              "      <td>47700</td>\n",
              "      <td>93900</td>\n",
              "      <td>8500</td>\n",
              "      <td>12400</td>\n",
              "      <td>61600</td>\n",
              "      <td>82600</td>\n",
              "      <td>4200</td>\n",
              "      <td>36600</td>\n",
              "      <td>41400</td>\n",
              "      <td>19100</td>\n",
              "    </tr>\n",
              "    <tr>\n",
              "      <th>16_1250～1499万円</th>\n",
              "      <td>343900</td>\n",
              "      <td>4400</td>\n",
              "      <td>1200</td>\n",
              "      <td>100</td>\n",
              "      <td>23600</td>\n",
              "      <td>77900</td>\n",
              "      <td>4100</td>\n",
              "      <td>25300</td>\n",
              "      <td>11200</td>\n",
              "      <td>39700</td>\n",
              "      <td>...</td>\n",
              "      <td>13000</td>\n",
              "      <td>32100</td>\n",
              "      <td>1600</td>\n",
              "      <td>3500</td>\n",
              "      <td>15000</td>\n",
              "      <td>43100</td>\n",
              "      <td>400</td>\n",
              "      <td>6800</td>\n",
              "      <td>3800</td>\n",
              "      <td>3800</td>\n",
              "    </tr>\n",
              "    <tr>\n",
              "      <th>17_1500万円以上</th>\n",
              "      <td>570200</td>\n",
              "      <td>12900</td>\n",
              "      <td>2900</td>\n",
              "      <td>400</td>\n",
              "      <td>37800</td>\n",
              "      <td>76000</td>\n",
              "      <td>3700</td>\n",
              "      <td>30600</td>\n",
              "      <td>18000</td>\n",
              "      <td>71400</td>\n",
              "      <td>...</td>\n",
              "      <td>33700</td>\n",
              "      <td>53000</td>\n",
              "      <td>7600</td>\n",
              "      <td>5500</td>\n",
              "      <td>9600</td>\n",
              "      <td>140900</td>\n",
              "      <td>0</td>\n",
              "      <td>12500</td>\n",
              "      <td>3200</td>\n",
              "      <td>9600</td>\n",
              "    </tr>\n",
              "  </tbody>\n",
              "</table>\n",
              "<p>17 rows × 21 columns</p>\n",
              "</div>"
            ],
            "text/plain": [
              "                   00_総数  01_Ａ農業，林業  02_Ｂ漁業  03_Ｃ鉱業，採石業，砂利採取業  04_Ｄ建設業  \\\n",
              "00_総数           66213000    2030500  162900             24800  4899800   \n",
              "01_50万円未満        3765600     326400   11900               400   104100   \n",
              "02_50～99万円       7318500     286400   15700               900   243800   \n",
              "03_100～149万円     6653000     229000   15700               900   304500   \n",
              "04_150～199万円     4823700     142300   11400              1100   323200   \n",
              "05_200～249万円     6863300     153700   13700              2500   560400   \n",
              "06_250～299万円     5123400      90700   11500              1700   490100   \n",
              "07_300～399万円     8885600     135000   15600              6400   929600   \n",
              "08_400～499万円     6410100      72500    9900              3800   626600   \n",
              "10_500～599万円     4473900      44000    6800              1800   378000   \n",
              "11_600～699万円     3052800      24000    4800              1000   251000   \n",
              "12_700～799万円     2257100      17100    2800               400   168500   \n",
              "13_800～899万円     1404900      12100    1800               500   107700   \n",
              "14_900～999万円      877800       8400    2100               700    75100   \n",
              "15_1000～1249万円   1260100      15000    3000              1700   111900   \n",
              "16_1250～1499万円    343900       4400    1200               100    23600   \n",
              "17_1500万円以上       570200      12900    2900               400    37800   \n",
              "\n",
              "                 05_Ｅ製造業  06_Ｆ電気・ガス・熱供給・水道業  07_Ｇ情報通信業  08_Ｈ運輸業，郵便業  \\\n",
              "00_総数           10530900             374200    2233600      3434300   \n",
              "01_50万円未満         280100               3400      47300        70500   \n",
              "02_50～99万円        562900               7900      66100       212900   \n",
              "03_100～149万円      859700               9600      67300       289200   \n",
              "04_150～199万円      746900              14000      80900       241400   \n",
              "05_200～249万円     1139600              24200     176000       405100   \n",
              "06_250～299万円      849900              17800     161200       338700   \n",
              "07_300～399万円     1588400              47100     360400       670100   \n",
              "08_400～499万円     1283700              46500     318200       485400   \n",
              "10_500～599万円      935500              43000     262500       279800   \n",
              "11_600～699万円      650000              41900     209500       158100   \n",
              "12_700～799万円      466300              39100     153200        93900   \n",
              "13_800～899万円      331200              30300     100600        48200   \n",
              "14_900～999万円      217900              16600      65000        34900   \n",
              "15_1000～1249万円    305500              24200      98600        39000   \n",
              "16_1250～1499万円     77900               4100      25300        11200   \n",
              "17_1500万円以上        76000               3700      30600        18000   \n",
              "\n",
              "                09_Ｉ卸売業，小売業     ...       11_Ｋ不動産業，物品賃貸業  12_Ｌ学術研究，専門・技術サービス業  \\\n",
              "00_総数              10120100     ...              1427600              2457100   \n",
              "01_50万円未満            636200     ...                57500               114900   \n",
              "02_50～99万円          1717800     ...               160200               149000   \n",
              "03_100～149万円        1397400     ...               142200               165800   \n",
              "04_150～199万円         835800     ...               106000               129300   \n",
              "05_200～249万円         974100     ...               131400               201400   \n",
              "06_250～299万円         681200     ...               102100               163600   \n",
              "07_300～399万円        1139300     ...               188300               349400   \n",
              "08_400～499万円         828800     ...               131000               271500   \n",
              "10_500～599万円         564500     ...                93300               216900   \n",
              "11_600～699万円         357800     ...                68600               170300   \n",
              "12_700～799万円         242900     ...                41700               131900   \n",
              "13_800～899万円         137100     ...                37700                89700   \n",
              "14_900～999万円          87800     ...                29100                64000   \n",
              "15_1000～1249万円       141300     ...                47700                93900   \n",
              "16_1250～1499万円        39700     ...                13000                32100   \n",
              "17_1500万円以上           71400     ...                33700                53000   \n",
              "\n",
              "                13_Ｍ宿泊業，飲食サービス業  14_Ｎ生活関連サービス業，娯楽業  15_Ｏ教育，学習支援業  16_Ｐ医療，福祉  \\\n",
              "00_総数                   3728600            2356000       3198500    8159300   \n",
              "01_50万円未満                546800             241200        333300     336500   \n",
              "02_50～99万円              1078900             443800        347800     906500   \n",
              "03_100～149万円             587200             359000        259300     933900   \n",
              "04_150～199万円             290900             255500        164200     696500   \n",
              "05_200～249万円             325900             299900        226200    1140300   \n",
              "06_250～299万円             194300             178400        182100     859200   \n",
              "07_300～399万円             260000             200000        342500    1318200   \n",
              "08_400～499万円             132600             115400        318900     750200   \n",
              "10_500～599万円              64200              61800        274500     413300   \n",
              "11_600～699万円              40300              32500        232100     205300   \n",
              "12_700～799万円              18300              23900        237300     127500   \n",
              "13_800～899万円               8200              13500        124300      59500   \n",
              "14_900～999万円               8000              10800         47400      39100   \n",
              "15_1000～1249万円             8500              12400         61600      82600   \n",
              "16_1250～1499万円             1600               3500         15000      43100   \n",
              "17_1500万円以上                7600               5500          9600     140900   \n",
              "\n",
              "                17_Ｑ複合サービス事業  18_Ｒサービス業（他に分類されないもの）  19_Ｓ公務（他に分類されるものを除く）  \\\n",
              "00_総数                 547500                4423000               2348500   \n",
              "01_50万円未満               8400                 422100                 39200   \n",
              "02_50～99万円             25700                 690600                 65600   \n",
              "03_100～149万円           54500                 525700                101800   \n",
              "04_150～199万円           50800                 385800                 97400   \n",
              "05_200～249万円           67400                 511000                136900   \n",
              "06_250～299万円           45700                 361500                114100   \n",
              "07_300～399万円           78400                 546500                289800   \n",
              "08_400～499万円           63700                 352900                299300   \n",
              "10_500～599万円           62200                 221800                353600   \n",
              "11_600～699万円           41300                 127100                307000   \n",
              "12_700～799万円           25500                  83400                273300   \n",
              "13_800～899万円           14500                  43200                145800   \n",
              "14_900～999万円            3700                  26600                 71800   \n",
              "15_1000～1249万円          4200                  36600                 41400   \n",
              "16_1250～1499万円           400                   6800                  3800   \n",
              "17_1500万円以上                0                  12500                  3200   \n",
              "\n",
              "                20_Ｔ分類不能の産業  \n",
              "00_総数               2122700  \n",
              "01_50万円未満            170700  \n",
              "02_50～99万円           256500  \n",
              "03_100～149万円         234900  \n",
              "04_150～199万円         161500  \n",
              "05_200～249万円         208100  \n",
              "06_250～299万円         140400  \n",
              "07_300～399万円         192000  \n",
              "08_400～499万円         117700  \n",
              "10_500～599万円          70500  \n",
              "11_600～699万円          40200  \n",
              "12_700～799万円          32100  \n",
              "13_800～899万円          22800  \n",
              "14_900～999万円          14400  \n",
              "15_1000～1249万円        19100  \n",
              "16_1250～1499万円         3800  \n",
              "17_1500万円以上            9600  \n",
              "\n",
              "[17 rows x 21 columns]"
            ]
          },
          "metadata": {
            "tags": []
          },
          "execution_count": 81
        }
      ]
    },
    {
      "metadata": {
        "id": "Ud6v5qu8jKSZ",
        "colab_type": "code",
        "colab": {}
      },
      "cell_type": "code",
      "source": [
        "money =  money.iloc[1: ,]"
      ],
      "execution_count": 0,
      "outputs": []
    },
    {
      "metadata": {
        "id": "mVXibGDVp8oR",
        "colab_type": "code",
        "colab": {
          "base_uri": "https://localhost:8080/",
          "height": 306
        },
        "outputId": "27d919cb-c8b1-4153-b1a8-fd1ad39a32e4"
      },
      "cell_type": "code",
      "source": [
        "money.iloc[:,0]"
      ],
      "execution_count": 104,
      "outputs": [
        {
          "output_type": "execute_result",
          "data": {
            "text/plain": [
              "01_50万円未満         3765600\n",
              "02_50～99万円        7318500\n",
              "03_100～149万円      6653000\n",
              "04_150～199万円      4823700\n",
              "05_200～249万円      6863300\n",
              "06_250～299万円      5123400\n",
              "07_300～399万円      8885600\n",
              "08_400～499万円      6410100\n",
              "10_500～599万円      4473900\n",
              "11_600～699万円      3052800\n",
              "12_700～799万円      2257100\n",
              "13_800～899万円      1404900\n",
              "14_900～999万円       877800\n",
              "15_1000～1249万円    1260100\n",
              "16_1250～1499万円     343900\n",
              "17_1500万円以上        570200\n",
              "Name: 00_総数, dtype: int64"
            ]
          },
          "metadata": {
            "tags": []
          },
          "execution_count": 104
        }
      ]
    },
    {
      "metadata": {
        "id": "w2v1NbMc8GHr",
        "colab_type": "code",
        "colab": {
          "base_uri": "https://localhost:8080/",
          "height": 136
        },
        "outputId": "d0c61d53-0cad-40e7-9c63-9234a34614ad"
      },
      "cell_type": "code",
      "source": [
        "money.columns"
      ],
      "execution_count": 113,
      "outputs": [
        {
          "output_type": "execute_result",
          "data": {
            "text/plain": [
              "Index(['00_総数', '01_Ａ農業，林業', '02_Ｂ漁業', '03_Ｃ鉱業，採石業，砂利採取業', '04_Ｄ建設業',\n",
              "       '05_Ｅ製造業', '06_Ｆ電気・ガス・熱供給・水道業', '07_Ｇ情報通信業', '08_Ｈ運輸業，郵便業',\n",
              "       '09_Ｉ卸売業，小売業', '10_Ｊ金融業，保険業', '11_Ｋ不動産業，物品賃貸業', '12_Ｌ学術研究，専門・技術サービス業',\n",
              "       '13_Ｍ宿泊業，飲食サービス業', '14_Ｎ生活関連サービス業，娯楽業', '15_Ｏ教育，学習支援業', '16_Ｐ医療，福祉',\n",
              "       '17_Ｑ複合サービス事業', '18_Ｒサービス業（他に分類されないもの）', '19_Ｓ公務（他に分類されるものを除く）',\n",
              "       '20_Ｔ分類不能の産業'],\n",
              "      dtype='object')"
            ]
          },
          "metadata": {
            "tags": []
          },
          "execution_count": 113
        }
      ]
    },
    {
      "metadata": {
        "id": "eJiWYxxIqeOt",
        "colab_type": "code",
        "colab": {
          "base_uri": "https://localhost:8080/",
          "height": 364
        },
        "outputId": "4f9d379e-f1d8-4a44-f974-de1b28a90412"
      },
      "cell_type": "code",
      "source": [
        "total = money.iloc[:,0]\n",
        "total.plot.pie(subplots=True)"
      ],
      "execution_count": 123,
      "outputs": [
        {
          "output_type": "execute_result",
          "data": {
            "text/plain": [
              "array([<matplotlib.axes._subplots.AxesSubplot object at 0x7fa4cd16d160>],\n",
              "      dtype=object)"
            ]
          },
          "metadata": {
            "tags": []
          },
          "execution_count": 123
        },
        {
          "output_type": "display_data",
          "data": {
            "image/png": "[encoded data removed]",
            "text/plain": [
              "<Figure size 576x396 with 1 Axes>"
            ]
          },
          "metadata": {
            "tags": []
          }
        }
      ]
    },
    {
      "metadata": {
        "id": "NQ1IitdM90i2",
        "colab_type": "code",
        "colab": {
          "base_uri": "https://localhost:8080/",
          "height": 347
        },
        "outputId": "723b152c-51fb-454e-8040-466fb5eafed2"
      },
      "cell_type": "code",
      "source": [
        "money['01_Ａ農業，林業'].plot.pie()"
      ],
      "execution_count": 124,
      "outputs": [
        {
          "output_type": "execute_result",
          "data": {
            "text/plain": [
              "<matplotlib.axes._subplots.AxesSubplot at 0x7fa4cd16d978>"
            ]
          },
          "metadata": {
            "tags": []
          },
          "execution_count": 124
        },
        {
          "output_type": "display_data",
          "data": {
            "image/png": "[encoded data removed]",
            "text/plain": [
              "<Figure size 576x396 with 1 Axes>"
            ]
          },
          "metadata": {
            "tags": []
          }
        }
      ]
    },
    {
      "metadata": {
        "id": "pFwYTyxglngx",
        "colab_type": "code",
        "colab": {
          "base_uri": "https://localhost:8080/",
          "height": 440
        },
        "outputId": "2417b679-7732-491a-cfad-071330371321"
      },
      "cell_type": "code",
      "source": [
        "total =  pd.Series(money.iloc[:,0], name=\"x variable\")\n",
        "sns.distplot(total)"
      ],
      "execution_count": 143,
      "outputs": [
        {
          "output_type": "stream",
          "text": [
            "/usr/local/lib/python3.6/dist-packages/matplotlib/axes/_axes.py:6521: MatplotlibDeprecationWarning: \n",
            "The 'normed' kwarg was deprecated in Matplotlib 2.1 and will be removed in 3.1. Use 'density' instead.\n",
            "  alternative=\"'density'\", removal=\"3.1\")\n"
          ],
          "name": "stderr"
        },
        {
          "output_type": "execute_result",
          "data": {
            "text/plain": [
              "<matplotlib.axes._subplots.AxesSubplot at 0x7fa4cacde518>"
            ]
          },
          "metadata": {
            "tags": []
          },
          "execution_count": 143
        },
        {
          "output_type": "display_data",
          "data": {
            "image/png": "[encoded data removed]",
            "text/plain": [
              "<Figure size 576x396 with 1 Axes>"
            ]
          },
          "metadata": {
            "tags": []
          }
        }
      ]
    },
    {
      "metadata": {
        "id": "4rZKx1ERjmeU",
        "colab_type": "code",
        "colab": {}
      },
      "cell_type": "code",
      "source": [
        "total.to_csv(\"hello.csv\")"
      ],
      "execution_count": 0,
      "outputs": []
    },
    {
      "metadata": {
        "id": "71213mHyCrYP",
        "colab_type": "code",
        "colab": {
          "base_uri": "https://localhost:8080/",
          "height": 34
        },
        "outputId": "bb1d8a0d-d506-4ba9-dabc-3a0ec12607d2"
      },
      "cell_type": "code",
      "source": [
        "!ls"
      ],
      "execution_count": 149,
      "outputs": [
        {
          "output_type": "stream",
          "text": [
            "FEI_PREF_190321095205.xlsx  hello.csv  Python入門.xlsx\tsample_data\n"
          ],
          "name": "stdout"
        }
      ]
    }
  ]
}