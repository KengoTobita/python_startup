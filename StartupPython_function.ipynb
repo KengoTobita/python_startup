{
  "nbformat": 4,
  "nbformat_minor": 0,
  "metadata": {
    "colab": {
      "name": "StartupPython_function.ipynb",
      "version": "0.3.2",
      "provenance": [],
      "collapsed_sections": [],
      "include_colab_link": true
    },
    "kernelspec": {
      "name": "python3",
      "display_name": "Python 3"
    }
  },
  "cells": [
    {
      "cell_type": "markdown",
      "metadata": {
        "id": "view-in-github",
        "colab_type": "text"
      },
      "source": [
        "<a href=\"https://colab.research.google.com/github/KengoTobita/python_startup/blob/master/StartupPython_function.ipynb\" target=\"_parent\"><img src=\"https://colab.research.google.com/assets/colab-badge.svg\" alt=\"Open In Colab\"/></a>"
      ]
    },
    {
      "metadata": {
        "id": "SOrPH9PF_ehA",
        "colab_type": "text"
      },
      "cell_type": "markdown",
      "source": [
        "# 第3章　関数\n",
        "本章で扱う内容\n",
        "* 関数\n",
        "* return文\n",
        "* try"
      ]
    },
    {
      "metadata": {
        "id": "uzoEbvumChMV",
        "colab_type": "text"
      },
      "cell_type": "markdown",
      "source": [
        "***\n",
        "# 関数\n",
        "Pythonではdefを利用することで関数を作成することが可能です。<br>\n",
        "図のようにdefと記述し関数名を入力します。\n",
        "\n",
        "\n"
      ]
    },
    {
      "metadata": {
        "id": "nGu_7jB3B9vn",
        "colab_type": "code",
        "outputId": "995f2924-6d7c-498a-e538-93d5990bbfea",
        "colab": {
          "base_uri": "https://localhost:8080/",
          "height": 68
        }
      },
      "cell_type": "code",
      "source": [
        "def hello():\n",
        "  print(\"やぁやぁ!\")\n",
        "  print(\"元気にしているかい!!\")\n",
        "  print(\"いやっほぉぉぉぉぉい！最高だぜ！\")\n",
        " \n",
        "hello()"
      ],
      "execution_count": 4,
      "outputs": [
        {
          "output_type": "stream",
          "text": [
            "やぁやぁ!\n",
            "元気にしているかい!!\n",
            "いやっほぉぉぉぉぉい！最高だぜ！\n"
          ],
          "name": "stdout"
        }
      ]
    },
    {
      "metadata": {
        "id": "ub16iQbsD0cM",
        "colab_type": "text"
      },
      "cell_type": "markdown",
      "source": [
        "上記の関数ではhelloという関数を作成しています。<br>\n",
        "helloの中には `print(\"howdy!\")`と、`print(\"howdy!!\")`と、`print(\"hello there!\")`が順番に並んでいます。<br>\n",
        "hello関数をhello()と入力し実行すると、\n",
        "関数の中で定義されたプログラムが上から順番に実行されます。\n",
        "そのため……<br>\n",
        "やぁやぁ!<br>\n",
        "元気にしているかい!!<br>\n",
        "いやっほぉぉぉぉぉい!最高だぜ！<br>\n",
        "と、実行されていくのです。"
      ]
    },
    {
      "metadata": {
        "id": "NBtepPjtDsPg",
        "colab_type": "text"
      },
      "cell_type": "markdown",
      "source": [
        "また、関数では引数を設定することで、引数を利用した関数を実行することが可能です。<br>\n",
        "引数は関数名の後に入力するカッコの中に引数名を入力すると、設定することができます。<br>"
      ]
    },
    {
      "metadata": {
        "id": "LnZ-QzrmDLAM",
        "colab_type": "code",
        "outputId": "5dd5c09a-ea5d-4d4b-9d6d-36f16914b2b3",
        "colab": {
          "base_uri": "https://localhost:8080/",
          "height": 68
        }
      },
      "cell_type": "code",
      "source": [
        "def hello (name):\n",
        "  print(\"hello \" + name )\n",
        "  \n",
        "hello(\"tobita\")\n",
        "hello(\"kokubo\")\n",
        "hello(\"hirata\")"
      ],
      "execution_count": 0,
      "outputs": [
        {
          "output_type": "stream",
          "text": [
            "hello tobita\n",
            "hello kokubo\n",
            "hello hirata\n"
          ],
          "name": "stdout"
        }
      ]
    },
    {
      "metadata": {
        "id": "ggV74jPaGFLQ",
        "colab_type": "text"
      },
      "cell_type": "markdown",
      "source": [
        "上記の関数では`hello(name)`と定義をしています。<br>\n",
        "関数内で使用する引数として`name`を指定していますね。<br>\n",
        "そして関数内にprint`(\"hello\" + name)`と記述しているので、<br>\n",
        "helloの後に引数として入力した名前がくっついたものが出力されているのです。<br>\n",
        "<br>\n",
        "そのため、例として入力された`print(tobtia)`を実行すると<br>\n",
        "hello tobitaと出力されることになります。<br>\n",
        "<br>\n",
        "もちろん引数は複数指定可能です。<br>\n",
        "カッコの中の複数の引数をカンマで区切ります。<br>\n",
        "<br>\n",
        "関数実行時に引数を実行しなかった場合に実行するデフォルトの引数を指定する際は、<br>\n",
        "関数の引数設定時に(引数=指定する値)と指定します。"
      ]
    },
    {
      "metadata": {
        "id": "Qjdta28VIJxg",
        "colab_type": "code",
        "outputId": "2ecfa499-c5d6-4733-b2fc-d81771a8d326",
        "colab": {
          "base_uri": "https://localhost:8080/",
          "height": 51
        }
      },
      "cell_type": "code",
      "source": [
        "def super_hello(name , n_time=100):\n",
        "  print(\"hello \" + name + \" g\" + \"o\"*n_time + \"morning!\")\n",
        "  \n",
        "super_hello(\"tobita\" , 20)\n",
        "super_hello(\"kokubo\")"
      ],
      "execution_count": 0,
      "outputs": [
        {
          "output_type": "stream",
          "text": [
            "hello tobita goooooooooooooooooooomorning!\n",
            "hello kokubo goooooooooooooooooooooooooooooooooooooooooooooooooooooooooooooooooooooooooooooooooooooooooooooooooooomorning!\n"
          ],
          "name": "stdout"
        }
      ]
    },
    {
      "metadata": {
        "id": "epgVNQDlJ8pS",
        "colab_type": "text"
      },
      "cell_type": "markdown",
      "source": [
        "# retuen文\n",
        "`len関数`に\"`hello\"`のような引数を入力すると`5`のように値を返してくれます。<br>\n",
        "このように入力された関数から返ってくる値を返り値と呼びます。<br>\n",
        "<br>\n",
        "defで作成した関数での戻り値を設定する際は`return`を使用します。<br>\n",
        "このreturnはPythonプログラムを引用する際に非常に役立ちます。<br>"
      ]
    },
    {
      "metadata": {
        "id": "fCHhadmeLSyA",
        "colab_type": "code",
        "colab": {}
      },
      "cell_type": "code",
      "source": [
        "def BMI_return(hight,weight):\n",
        "  bmi = weight/(hight*2)\n",
        "  return bmi"
      ],
      "execution_count": 0,
      "outputs": []
    },
    {
      "metadata": {
        "id": "Oh9j43teNNpi",
        "colab_type": "code",
        "colab": {}
      },
      "cell_type": "code",
      "source": [
        "def BMI_print(hight,weight):\n",
        "  bmi = weight/(hight*2)\n",
        "  print(bmi)"
      ],
      "execution_count": 0,
      "outputs": []
    },
    {
      "metadata": {
        "id": "IlNiD5qqFurL",
        "colab_type": "text"
      },
      "cell_type": "markdown",
      "source": [
        "今回はBMIを算出する関数を２種類作成しました。<br>\n",
        "BMI_returnはBMIをreturnで返します。<br>\n",
        "BMI_printはBMIをprint関数を使用し出力します。<br>\n",
        "<br>\n",
        "この二つの違いは何でしょうか？<br>\n",
        "実際に触りなら確かめて見ましょう。"
      ]
    },
    {
      "metadata": {
        "id": "fUilyVS2PFO4",
        "colab_type": "code",
        "colab": {
          "base_uri": "https://localhost:8080/",
          "height": 34
        },
        "outputId": "b2295783-417a-44c7-85b5-25edcf1ee665"
      },
      "cell_type": "code",
      "source": [
        "BMI_return(1.68,64)"
      ],
      "execution_count": 19,
      "outputs": [
        {
          "output_type": "execute_result",
          "data": {
            "text/plain": [
              "19.047619047619047"
            ]
          },
          "metadata": {
            "tags": []
          },
          "execution_count": 19
        }
      ]
    },
    {
      "metadata": {
        "id": "PN15MxxIPqBp",
        "colab_type": "code",
        "colab": {
          "base_uri": "https://localhost:8080/",
          "height": 34
        },
        "outputId": "f7bdf317-8d6d-4323-a637-bf5fc402353f"
      },
      "cell_type": "code",
      "source": [
        "BMI_print(1.68,64)"
      ],
      "execution_count": 32,
      "outputs": [
        {
          "output_type": "stream",
          "text": [
            "19.047619047619047\n"
          ],
          "name": "stdout"
        }
      ]
    },
    {
      "metadata": {
        "id": "Uh0ZmMLrGu6-",
        "colab_type": "text"
      },
      "cell_type": "markdown",
      "source": [
        "上記の通り、単体で実行時は双方違いが無いように思えます。<br>\n",
        "実はこの結果には違いがあります。<br>\n",
        "print版では計算結果がprint関数で出力されています。<br>\n",
        "return版でも計算結果が出力されています。<br>\n",
        "これはPythonプログラムの最後に返り値を返すプログラムである場合、<br>\n",
        "自動で出力する機能があるためです。<br>\n",
        "<br>\n",
        "下記のプログラムは先ほど定義したBMI関数を使用した関数です。<br>\n",
        "BMI関数の結果を元にif文で健康状態を判断しています。<br>"
      ]
    },
    {
      "metadata": {
        "id": "vzvqT3b9G7jR",
        "colab_type": "code",
        "colab": {}
      },
      "cell_type": "code",
      "source": [
        "def BMIif(hight,weight):\n",
        "  BMI = BMI_return(hight,weight)\n",
        "  \n",
        "  if BMI < 18.5:\n",
        "    print(\"痩せすぎです。\")\n",
        "  elif BMI < 25:\n",
        "    print(\"良い状態です！\")\n",
        "  else:\n",
        "    print(\"太り過ぎです\")"
      ],
      "execution_count": 0,
      "outputs": []
    },
    {
      "metadata": {
        "id": "InpbZ1nRI9Mu",
        "colab_type": "code",
        "colab": {
          "base_uri": "https://localhost:8080/",
          "height": 34
        },
        "outputId": "513f8cbd-707a-4e03-b390-fc06ddf41e5a"
      },
      "cell_type": "code",
      "source": [
        "BMIif(1.68 , 64)"
      ],
      "execution_count": 23,
      "outputs": [
        {
          "output_type": "stream",
          "text": [
            "良い状態です！\n"
          ],
          "name": "stdout"
        }
      ]
    },
    {
      "metadata": {
        "id": "3Q_BunQzLd1I",
        "colab_type": "text"
      },
      "cell_type": "markdown",
      "source": [
        "上記のreturn版は何も問題なく使用ができています。<br>\n",
        "注目は`BMI = BMI_return(hight,weight)`です。<br>\n",
        "このコードではBMI_return関数での返り値をBMIという変数に格納しています。<br>\n",
        "そしてif文の中で変数BMIを使用することに成功しています。<br>"
      ]
    },
    {
      "metadata": {
        "id": "KCDRaO_bIiCY",
        "colab_type": "code",
        "colab": {}
      },
      "cell_type": "code",
      "source": [
        "def BMIprint(hight,weight):\n",
        "  BMI = BMI_print(hight,weight)\n",
        "  print(BMI)\n",
        "  if BMI < 18.5:\n",
        "    print(\"痩せすぎです。\")\n",
        "  elif BMI < 22:\n",
        "    print(\"良い状態です！\")\n",
        "  else:\n",
        "    print(\"太り過ぎです\")"
      ],
      "execution_count": 0,
      "outputs": []
    },
    {
      "metadata": {
        "id": "pV0d_EqfIO54",
        "colab_type": "code",
        "colab": {
          "base_uri": "https://localhost:8080/",
          "height": 321
        },
        "outputId": "f6a5b27f-981b-4af6-c01f-05ccd8da3a28"
      },
      "cell_type": "code",
      "source": [
        "BMIprint(1.68,64)"
      ],
      "execution_count": 31,
      "outputs": [
        {
          "output_type": "stream",
          "text": [
            "19.047619047619047\n",
            "None\n"
          ],
          "name": "stdout"
        },
        {
          "output_type": "error",
          "ename": "TypeError",
          "evalue": "ignored",
          "traceback": [
            "\u001b[0;31m---------------------------------------------------------------------------\u001b[0m",
            "\u001b[0;31mTypeError\u001b[0m                                 Traceback (most recent call last)",
            "\u001b[0;32m<ipython-input-31-5d8db8d703f4>\u001b[0m in \u001b[0;36m<module>\u001b[0;34m()\u001b[0m\n\u001b[0;32m----> 1\u001b[0;31m \u001b[0mBMIprint\u001b[0m\u001b[0;34m(\u001b[0m\u001b[0;36m1.68\u001b[0m\u001b[0;34m,\u001b[0m\u001b[0;36m64\u001b[0m\u001b[0;34m)\u001b[0m\u001b[0;34m\u001b[0m\u001b[0;34m\u001b[0m\u001b[0m\n\u001b[0m",
            "\u001b[0;32m<ipython-input-30-e3aa2641be34>\u001b[0m in \u001b[0;36mBMIprint\u001b[0;34m(hight, weight)\u001b[0m\n\u001b[1;32m      2\u001b[0m   \u001b[0mBMI\u001b[0m \u001b[0;34m=\u001b[0m \u001b[0mBMI_print\u001b[0m\u001b[0;34m(\u001b[0m\u001b[0mhight\u001b[0m\u001b[0;34m,\u001b[0m\u001b[0mweight\u001b[0m\u001b[0;34m)\u001b[0m\u001b[0;34m\u001b[0m\u001b[0;34m\u001b[0m\u001b[0m\n\u001b[1;32m      3\u001b[0m   \u001b[0mprint\u001b[0m\u001b[0;34m(\u001b[0m\u001b[0mBMI\u001b[0m\u001b[0;34m)\u001b[0m\u001b[0;34m\u001b[0m\u001b[0;34m\u001b[0m\u001b[0m\n\u001b[0;32m----> 4\u001b[0;31m   \u001b[0;32mif\u001b[0m \u001b[0mBMI\u001b[0m \u001b[0;34m<\u001b[0m \u001b[0;36m18.5\u001b[0m\u001b[0;34m:\u001b[0m\u001b[0;34m\u001b[0m\u001b[0;34m\u001b[0m\u001b[0m\n\u001b[0m\u001b[1;32m      5\u001b[0m     \u001b[0mprint\u001b[0m\u001b[0;34m(\u001b[0m\u001b[0;34m\"痩せすぎです。\"\u001b[0m\u001b[0;34m)\u001b[0m\u001b[0;34m\u001b[0m\u001b[0;34m\u001b[0m\u001b[0m\n\u001b[1;32m      6\u001b[0m   \u001b[0;32melif\u001b[0m \u001b[0mBMI\u001b[0m \u001b[0;34m<\u001b[0m \u001b[0;36m22\u001b[0m\u001b[0;34m:\u001b[0m\u001b[0;34m\u001b[0m\u001b[0;34m\u001b[0m\u001b[0m\n",
            "\u001b[0;31mTypeError\u001b[0m: '<' not supported between instances of 'NoneType' and 'float'"
          ]
        }
      ]
    },
    {
      "metadata": {
        "id": "nAJq_Q3kMUpw",
        "colab_type": "text"
      },
      "cell_type": "markdown",
      "source": [
        "print版はどうでしょうか？<br>\n",
        "見事失敗していますね。<br>\n",
        "<br>\n",
        "print関数は出力をする関数なので、出力のみを行います。<br>\n",
        "関数の返り値として返していません。<br>\n",
        "そのため変数の中へ格納をしようと試みても入れるものは無いため<br>\n",
        "変数BMIはNone、つまり空の状態になるのです。<br>\n",
        "そのため後のコードでErrorが発生することになるのです。<br>\n",
        "<br>\n",
        "出力することと、返り値を出すことは違う意味を持ちます。\n",
        "プログラムの実行者に何かしらの結果を出力する場合はprintを選ぶべきですが、\n",
        "単に関数として使用する場合はreturnを使用するべきでしょう。"
      ]
    },
    {
      "metadata": {
        "id": "m7lNyCctlWZH",
        "colab_type": "text"
      },
      "cell_type": "markdown",
      "source": [
        "***\n",
        "# グローバルスコープとローカルスコープ\n",
        "変数にはプログラム全体で使用することができる<b>グローバル変数</b>と、<br>\n",
        "関数内でのみ使用することが可能である<b>ローカル変数</b>があります。<br>\n",
        "<br>\n",
        "スコープとは変数の格納庫だと考えてください。<br>\n",
        "グローバルスコープはプログラムが実行されるときに生成され、<br>\n",
        "プログラム終了時に消滅します。<br>\n",
        "そのため、次のプログラム実行時に前回の変数名が残っていることはありません。<br>\n",
        "<br>\n",
        "ローカルスコープは関数が呼び出される時に生成されます。<br>\n",
        "関数内で呼び出される変数はそれぞれの関数のグローバルスコープに格納されます。<br>\n",
        "関数から返ると、その関数のローカルスコープも消滅します。<br>\n",
        "そのため、次の関数実行時に前回の関数の変数名が残っていることはありません。<br>\n",
        "<br>\n",
        "#### スコープまとめ\n",
        "*   グローバルスコープのコードから、ローカルスコープのコードは使用できない\n",
        "*   ローカルスコープから、グローバルスコープの変数を使用できる\n",
        "*   関数の中のローカルスコープから、他の関数のローカルスコープは使用できない\n",
        "*   スコープが異なるのであれば、同じ名前を使用できる<br>\n",
        "<br>\n",
        "上記のことを踏まえて、スコープの動きを試してみましょう。\n",
        "\n",
        "\n"
      ]
    },
    {
      "metadata": {
        "id": "-9EfeXhHLSdf",
        "colab_type": "code",
        "colab": {}
      },
      "cell_type": "code",
      "source": [
        "def spam ():\n",
        "  egg =31337\n",
        "  \n",
        "# 関数呼び出し時にローカルスコープが生成\n",
        "spam()\n",
        "# 関数が返り終えていますね。ローカルスコープは消滅しています。そのため……\n",
        "print(spam)"
      ],
      "execution_count": 0,
      "outputs": []
    },
    {
      "metadata": {
        "id": "NC4iwrnNI8Nx",
        "colab_type": "code",
        "colab": {}
      },
      "cell_type": "code",
      "source": [
        "def spam():\n",
        "  egg = 313337\n",
        "  \n",
        "def bacon():\n",
        "  egg = 0\n",
        "  \n",
        "spam()"
      ],
      "execution_count": 0,
      "outputs": []
    },
    {
      "metadata": {
        "id": "KD2OY53ay1AO",
        "colab_type": "code",
        "colab": {}
      },
      "cell_type": "code",
      "source": [
        "def spam():\n",
        "  print(egg)\n",
        "  \n",
        "egg = 42\n",
        "spam()\n",
        "print()"
      ],
      "execution_count": 0,
      "outputs": []
    },
    {
      "metadata": {
        "id": "MVNywtUOyxuK",
        "colab_type": "text"
      },
      "cell_type": "markdown",
      "source": [
        "# 例外処理\n",
        "プログラミングで予期せぬ例外が発生した際、多くの場合はプログラムの処理が停止してしまいます。<br>\n",
        "それを避けるために、事前に例外が発生した時にする処理を決めておくことを、<b>例外処理</b>と言います。<br>\n",
        "\n",
        "\n",
        "```\n",
        "try :\n",
        "  何らかの処理\n",
        "except　Errorの指定:\n",
        "  Error発生時の処理\n",
        "```\n",
        "\n",
        "\n",
        "Pythonでの例外処理はTryを使用します。<br>\n",
        "tryは通常時は`try:`以下のプログラムを処理しますが、例外が発生した際は`except`で記述された処理を行います。<br>\n"
      ]
    },
    {
      "metadata": {
        "id": "Qw8FngnPFtso",
        "colab_type": "code",
        "colab": {}
      },
      "cell_type": "code",
      "source": [
        "def warizan(number):\n",
        "  answer = 200/number\n",
        "  print(answer)"
      ],
      "execution_count": 0,
      "outputs": []
    },
    {
      "metadata": {
        "id": "iXp7nNjSFvrx",
        "colab_type": "code",
        "outputId": "b169c484-7882-433e-d039-e798fca77a92",
        "colab": {
          "base_uri": "https://localhost:8080/",
          "height": 253
        }
      },
      "cell_type": "code",
      "source": [
        "warizan(0)"
      ],
      "execution_count": 33,
      "outputs": [
        {
          "output_type": "error",
          "ename": "ZeroDivisionError",
          "evalue": "ignored",
          "traceback": [
            "\u001b[0;31m---------------------------------------------------------------------------\u001b[0m",
            "\u001b[0;31mZeroDivisionError\u001b[0m                         Traceback (most recent call last)",
            "\u001b[0;32m<ipython-input-33-81926903d48a>\u001b[0m in \u001b[0;36m<module>\u001b[0;34m()\u001b[0m\n\u001b[0;32m----> 1\u001b[0;31m \u001b[0mwarizan\u001b[0m\u001b[0;34m(\u001b[0m\u001b[0;36m0\u001b[0m\u001b[0;34m)\u001b[0m\u001b[0;34m\u001b[0m\u001b[0;34m\u001b[0m\u001b[0m\n\u001b[0m",
            "\u001b[0;32m<ipython-input-1-43c138d2807b>\u001b[0m in \u001b[0;36mwarizan\u001b[0;34m(number)\u001b[0m\n\u001b[1;32m      1\u001b[0m \u001b[0;32mdef\u001b[0m \u001b[0mwarizan\u001b[0m\u001b[0;34m(\u001b[0m\u001b[0mnumber\u001b[0m\u001b[0;34m)\u001b[0m\u001b[0;34m:\u001b[0m\u001b[0;34m\u001b[0m\u001b[0;34m\u001b[0m\u001b[0m\n\u001b[0;32m----> 2\u001b[0;31m   \u001b[0manswer\u001b[0m \u001b[0;34m=\u001b[0m \u001b[0;36m200\u001b[0m\u001b[0;34m/\u001b[0m\u001b[0mnumber\u001b[0m\u001b[0;34m\u001b[0m\u001b[0;34m\u001b[0m\u001b[0m\n\u001b[0m\u001b[1;32m      3\u001b[0m   \u001b[0mprint\u001b[0m\u001b[0;34m(\u001b[0m\u001b[0manswer\u001b[0m\u001b[0;34m)\u001b[0m\u001b[0;34m\u001b[0m\u001b[0;34m\u001b[0m\u001b[0m\n",
            "\u001b[0;31mZeroDivisionError\u001b[0m: division by zero"
          ]
        }
      ]
    },
    {
      "metadata": {
        "id": "ctPe8Zav-Z2d",
        "colab_type": "text"
      },
      "cell_type": "markdown",
      "source": [
        "上記のコードは200を指定した引数でわる関数です。<br>\n",
        "しかし次のセルではErrorが発生しています。<br>\n",
        "Errorの内容を確認してみましょう。<br>\n",
        "ZeroDivisionErrorと表示されています。<br>\n",
        "０で割り算をすることはできないのでErrorが発生しているようです。<br>\n",
        "<br>\n",
        "今回はtryによる例外処理をしようして対応してみましょう<br>\n",
        "try以下には通常時に実行される処理が記述されています。<br>\n",
        "exceptにはZeroDivisionErrorと記述しています。"
      ]
    },
    {
      "metadata": {
        "id": "_dw3e76kDIEd",
        "colab_type": "code",
        "outputId": "38fd0cd8-3b0a-4002-ff7f-b161f80200dc",
        "colab": {
          "base_uri": "https://localhost:8080/",
          "height": 85
        }
      },
      "cell_type": "code",
      "source": [
        "try:\n",
        "  warizan(3)\n",
        "  warizan(4)\n",
        "  warizan(86)\n",
        "  warizan(0)\n",
        "except ZeroDivisionError :\n",
        "  print(\"不正な数字が入力されています。\")"
      ],
      "execution_count": 3,
      "outputs": [
        {
          "output_type": "stream",
          "text": [
            "66.66666666666667\n",
            "50.0\n",
            "2.3255813953488373\n",
            "不正な数字が入力されています。\n"
          ],
          "name": "stdout"
        }
      ]
    },
    {
      "metadata": {
        "id": "0SZ_TsUX_xPA",
        "colab_type": "text"
      },
      "cell_type": "markdown",
      "source": [
        "上記のコードでは、はじめにtry以下のwarizan関数が順番に実行されます。<br>\n",
        "3,4,86を入力した場合は何も問題なく実行されます。<br>\n",
        "しかし４つ目の関数は前述の通りErrorが発生します。<br>\n",
        "しかし今回はexceptでZeroDivisionErrorが指定されています。<br>\n",
        "そのためtry以下の処理でZeroDivisionErrorが発生した際は、<br>\n",
        "except以下で記述した処理が実行されるのです。<br>"
      ]
    },
    {
      "metadata": {
        "id": "syHX4e_1Iyi-",
        "colab_type": "text"
      },
      "cell_type": "markdown",
      "source": [
        "***\n",
        "# 確認チャレンジ\n",
        "## ミサイル発射カウント関数を作成しよう\n",
        "ここまでお疲れ様でした。<br>\n",
        "今回でPython入門基本文法編は折り返し地点です。<br>\n",
        "確認として、ちょっとした関数を作成しましょう。<br>\n",
        "<br>\n",
        "今回はミサイル発射カウント関数と題し、<br>\n",
        "引数として入力した数字からカウントダウンを行い、<br>\n",
        "0と出力されるかわりに「ignition!」と表示する関数を作成してください。<br>"
      ]
    },
    {
      "metadata": {
        "id": "dBze2CG0J_1G",
        "colab_type": "code",
        "outputId": "d0cce134-9c81-4e8c-df04-7510638c49be",
        "colab": {
          "base_uri": "https://localhost:8080/",
          "height": 204
        }
      },
      "cell_type": "code",
      "source": [
        "# 成功例\n",
        "missile(10)"
      ],
      "execution_count": 3,
      "outputs": [
        {
          "output_type": "stream",
          "text": [
            "10\n",
            "9\n",
            "8\n",
            "7\n",
            "6\n",
            "5\n",
            "4\n",
            "3\n",
            "2\n",
            "1\n",
            "ignition!\n"
          ],
          "name": "stdout"
        }
      ]
    }
  ]
}