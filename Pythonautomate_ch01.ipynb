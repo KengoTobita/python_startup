{
  "nbformat": 4,
  "nbformat_minor": 0,
  "metadata": {
    "colab": {
      "name": "Pythonautomate_ch01.ipynb",
      "version": "0.3.2",
      "provenance": [],
      "collapsed_sections": [
        "C_WS9AaelKMM",
        "OXab2Wr3xbZ8",
        "_wGD-y_4u2sJ",
        "Dq1dUtLM8Jhs",
        "4ogK_EabCo4F",
        "NZY04PRSFyP6",
        "H0QCtiogyTRD",
        "0brPR5UnyXN3",
        "Ptra39PfmLB9",
        "M3NEldOUr7Ro",
        "G43w8rmCtpHg"
      ],
      "include_colab_link": true
    },
    "kernelspec": {
      "name": "python3",
      "display_name": "Python 3"
    }
  },
  "cells": [
    {
      "cell_type": "markdown",
      "metadata": {
        "id": "view-in-github",
        "colab_type": "text"
      },
      "source": [
        "<a href=\"https://colab.research.google.com/github/KengoTobita/weeble_automate_python/blob/master/Pythonautomate_ch01.ipynb\" target=\"_parent\"><img src=\"https://colab.research.google.com/assets/colab-badge.svg\" alt=\"Open In Colab\"/></a>"
      ]
    },
    {
      "metadata": {
        "id": "C_WS9AaelKMM",
        "colab_type": "text"
      },
      "cell_type": "markdown",
      "source": [
        "# 面倒なことはPythonにやらせよう！\n",
        "## 第１章　Pythonの基本\n",
        "\n",
        "本性で行う内容\n",
        "* 基本的な演算\n",
        "* データ型\n",
        "* 変数\n",
        "* コメント\n",
        "* print関数\n",
        "* input関数\n",
        "* len関数\n",
        "* データ型の変更\n"
      ]
    },
    {
      "metadata": {
        "id": "OXab2Wr3xbZ8",
        "colab_type": "text"
      },
      "cell_type": "markdown",
      "source": [
        "####[「面倒なことはPythonにやらせよう」](https://github.com/oreilly-japan/automatestuff-ja)　第１章　コード"
      ]
    },
    {
      "metadata": {
        "id": "MwfYaPz3lVZg",
        "colab_type": "code",
        "outputId": "0f586860-578c-4cae-f40a-87febd0a0c1d",
        "colab": {
          "base_uri": "https://localhost:8080/",
          "height": 170
        }
      },
      "cell_type": "code",
      "source": [
        "# helllo.py\n",
        "\n",
        "print('Hello world!')  # ❷\n",
        "print('What is your name?') # 名前を尋ねる\n",
        "my_name = input()  # ❸\n",
        "print('It is good to meet you, ' + my_name)  # ❹\n",
        "print('The length of your name is:')  # 名前の長さを表示 ❺\n",
        "print(len(my_name))\n",
        "print('What is your age?') # 年齢を尋ねる ❻\n",
        "my_age = input()\n",
        "print('You will be ' + str(int(my_age) + 1) + ' in a year.') # 来年の年齢を表示"
      ],
      "execution_count": 0,
      "outputs": [
        {
          "output_type": "stream",
          "text": [
            "Hello world!\n",
            "What is your name?\n",
            "　easy_tobita\n",
            "It is good to meet you, 　easy_tobita\n",
            "The length of your name is:\n",
            "12\n",
            "What is your age?\n",
            "22\n",
            "You will be 23 in a year.\n"
          ],
          "name": "stdout"
        }
      ]
    },
    {
      "metadata": {
        "id": "_wGD-y_4u2sJ",
        "colab_type": "text"
      },
      "cell_type": "markdown",
      "source": [
        "***\n",
        "# Pythonを電卓として使おう！      \n",
        "    \n",
        "複雑な計算もPythonを使用すれば、簡単に分かりやすく計算することができます！    \n",
        "もちろん、これらの演算子は機械学習でも多用する重要な技術です。     \n",
        "ぜひマスターしてください！\n",
        "\n",
        "\n",
        "| 演算子 | 使用例 | 使用例の結果 | 解説 |\n",
        "| :----: | :----: | :----------: | ------------------------------ |\n",
        "| x + y  | 2 + 3  |      5       | 普通の足し算                   |\n",
        "| x - y  | 3 - 2  |      1       | 普通の引き算                   |\n",
        "| x * y  | 4 * 3  |      12      | 普通の掛け算                   |\n",
        "| x / y  | 5 / 2  |     2.5      | 割り算<span style=\"font-size: 10%\">（小数点以下の表示<b>あり</b>）</span> |\n",
        "| x // y | 5 // 2 |      2       | 割り算<span style=\"font-size: 10%\">（少数点以下の表示<b>なし</b>）</span> |\n",
        "| x ** y | 2 ** 4 |      16      | 累乗                           |\n",
        "\n",
        "これらの演算子を使用して簡単な計算をしてみましょう！\n"
      ]
    },
    {
      "metadata": {
        "id": "pFGz3dHZBqRv",
        "colab_type": "code",
        "outputId": "2c209d6d-64dd-4c49-e685-0fa5dd8548a2",
        "colab": {
          "base_uri": "https://localhost:8080/",
          "height": 34
        }
      },
      "cell_type": "code",
      "source": [
        "2 + 3 * 6"
      ],
      "execution_count": 0,
      "outputs": [
        {
          "output_type": "execute_result",
          "data": {
            "text/plain": [
              "20"
            ]
          },
          "metadata": {
            "tags": []
          },
          "execution_count": 7
        }
      ]
    },
    {
      "metadata": {
        "id": "feEHXOSaB3hL",
        "colab_type": "code",
        "outputId": "1cf0c819-b20d-4831-db5e-a99f67f8044b",
        "colab": {
          "base_uri": "https://localhost:8080/",
          "height": 34
        }
      },
      "cell_type": "code",
      "source": [
        "(2 + 3) * 6"
      ],
      "execution_count": 0,
      "outputs": [
        {
          "output_type": "execute_result",
          "data": {
            "text/plain": [
              "30"
            ]
          },
          "metadata": {
            "tags": []
          },
          "execution_count": 8
        }
      ]
    },
    {
      "metadata": {
        "id": "gpoISPpFB3aB",
        "colab_type": "code",
        "outputId": "30182b3c-dc66-4f9a-d15b-694e89686fde",
        "colab": {
          "base_uri": "https://localhost:8080/",
          "height": 34
        }
      },
      "cell_type": "code",
      "source": [
        "42341234*23412341"
      ],
      "execution_count": 0,
      "outputs": [
        {
          "output_type": "execute_result",
          "data": {
            "text/plain": [
              "991307408768794"
            ]
          },
          "metadata": {
            "tags": []
          },
          "execution_count": 9
        }
      ]
    },
    {
      "metadata": {
        "id": "B4AepWupB3Q3",
        "colab_type": "code",
        "outputId": "431022c4-0f28-4350-ba94-d693b58d0c48",
        "colab": {
          "base_uri": "https://localhost:8080/",
          "height": 34
        }
      },
      "cell_type": "code",
      "source": [
        "2 ** 8"
      ],
      "execution_count": 0,
      "outputs": [
        {
          "output_type": "execute_result",
          "data": {
            "text/plain": [
              "256"
            ]
          },
          "metadata": {
            "tags": []
          },
          "execution_count": 10
        }
      ]
    },
    {
      "metadata": {
        "id": "LueJXwpBCGs3",
        "colab_type": "code",
        "outputId": "553f5ff8-4ff2-4c32-b41b-00d97bd4d373",
        "colab": {
          "base_uri": "https://localhost:8080/",
          "height": 34
        }
      },
      "cell_type": "code",
      "source": [
        "23 /7"
      ],
      "execution_count": 0,
      "outputs": [
        {
          "output_type": "execute_result",
          "data": {
            "text/plain": [
              "3.2857142857142856"
            ]
          },
          "metadata": {
            "tags": []
          },
          "execution_count": 11
        }
      ]
    },
    {
      "metadata": {
        "id": "TnpBaGs_CGpE",
        "colab_type": "code",
        "outputId": "444094a1-aae0-4c31-d108-33e1aef27bc2",
        "colab": {
          "base_uri": "https://localhost:8080/",
          "height": 34
        }
      },
      "cell_type": "code",
      "source": [
        "23 // 7"
      ],
      "execution_count": 0,
      "outputs": [
        {
          "output_type": "execute_result",
          "data": {
            "text/plain": [
              "3"
            ]
          },
          "metadata": {
            "tags": []
          },
          "execution_count": 12
        }
      ]
    },
    {
      "metadata": {
        "id": "RD7hzyTOCGDu",
        "colab_type": "code",
        "outputId": "aef3ace0-480b-4955-fd0a-809f5d19766e",
        "colab": {
          "base_uri": "https://localhost:8080/",
          "height": 34
        }
      },
      "cell_type": "code",
      "source": [
        "23 % 7"
      ],
      "execution_count": 0,
      "outputs": [
        {
          "output_type": "execute_result",
          "data": {
            "text/plain": [
              "2"
            ]
          },
          "metadata": {
            "tags": []
          },
          "execution_count": 13
        }
      ]
    },
    {
      "metadata": {
        "id": "-B_fWGJXCThS",
        "colab_type": "code",
        "outputId": "a5a3b846-e0dc-4390-9676-6f10f583dcae",
        "colab": {
          "base_uri": "https://localhost:8080/",
          "height": 34
        }
      },
      "cell_type": "code",
      "source": [
        "(5-1) * ((7+1) / (3-1))"
      ],
      "execution_count": 0,
      "outputs": [
        {
          "output_type": "execute_result",
          "data": {
            "text/plain": [
              "16.0"
            ]
          },
          "metadata": {
            "tags": []
          },
          "execution_count": 15
        }
      ]
    },
    {
      "metadata": {
        "id": "Dq1dUtLM8Jhs",
        "colab_type": "text"
      },
      "cell_type": "markdown",
      "source": [
        "# データ型\n",
        "Pythonで書いた構文の各要素には「データ型」と言われる分類があります。<br>\n",
        "文字ならば文字型……<br>\n",
        "整数ならば整数型……<br>\n",
        "それぞれの要素にはそれぞれのデータ型が設定されています。<br>\n",
        "  \n",
        "それらについて難しいことは一切ありませんが、Pythonを使用するにあたって知っておく必要があります。<br>\n",
        "ここで覚えてしまいましょう。\n",
        "\n",
        "| 名前       | 表記  | 使用例        |\n",
        "| ---------- | ----- | ------------- |\n",
        "| 文字型     | str   | \"Hello\"       |\n",
        "| 整数型     | int   | 10            |\n",
        "| 浮動小数型 | froat | 3.24          |\n",
        "\n",
        "データ型の確認には**type関数**を使用します。<br>\n",
        "使用方法は`type()`の括弧の中に、データ型を確かめたい要素を入れるだけです"
      ]
    },
    {
      "metadata": {
        "id": "RQK1XI8sBUV2",
        "colab_type": "code",
        "outputId": "0b7b156c-cd4c-464e-eb16-69bfaf61c962",
        "colab": {
          "base_uri": "https://localhost:8080/",
          "height": 68
        }
      },
      "cell_type": "code",
      "source": [
        "print(type(100))\n",
        "print(type(\"百\"))\n",
        "print(type(100.0))"
      ],
      "execution_count": 0,
      "outputs": [
        {
          "output_type": "stream",
          "text": [
            "<class 'int'>\n",
            "<class 'str'>\n",
            "<class 'float'>\n"
          ],
          "name": "stdout"
        }
      ]
    },
    {
      "metadata": {
        "id": "4ogK_EabCo4F",
        "colab_type": "text"
      },
      "cell_type": "markdown",
      "source": [
        "***\n",
        "## 文字型 (str)\n",
        "文字列型は名前の通り文字を扱うデータ型です。<br>\n",
        "type関数では`str`と表示されます。<br>\n",
        "また、文字型のみ表現する場合は`'`(シングルクォート)か、`\"`（ダブルクォート）で囲む必要があります。<br>\n",
        "<font color = \"#cccccc\">私はダブルクォートを多用する癖がありますが、皆さんはシングルクォートでも構いません</font>\n",
        "  \n",
        "具体例として[ISO基準の国名コード](https://ja.wikipedia.org/wiki/ISO_3166-1)を変数として、値に国名を入れてみましょう。<br>\n"
      ]
    },
    {
      "metadata": {
        "id": "vrl_ORWpC0V5",
        "colab_type": "code",
        "outputId": "93b5317e-d0b0-4f8b-bf28-0a169d8c8796",
        "colab": {
          "base_uri": "https://localhost:8080/",
          "height": 51
        }
      },
      "cell_type": "code",
      "source": [
        "#シングルクウォートでも、ダブルクォートでも大丈夫です！\n",
        "USA = \"アメリカ\"\n",
        "RUS = 'ロシア'\n",
        "\n",
        "print(USA)\n",
        "print(type(RUS))"
      ],
      "execution_count": 0,
      "outputs": [
        {
          "output_type": "stream",
          "text": [
            "アメリカ\n",
            "<class 'str'>\n"
          ],
          "name": "stdout"
        }
      ]
    },
    {
      "metadata": {
        "id": "XRh0A3wBC88x",
        "colab_type": "code",
        "outputId": "327ab7d8-e986-4d09-99d0-c7bb807fa2f9",
        "colab": {
          "base_uri": "https://localhost:8080/",
          "height": 168
        }
      },
      "cell_type": "code",
      "source": [
        "#しかし、クォーテーションがない場合はErrorが表示されます！\n",
        "JPN = 日本"
      ],
      "execution_count": 0,
      "outputs": [
        {
          "output_type": "error",
          "ename": "NameError",
          "evalue": "ignored",
          "traceback": [
            "\u001b[0;31m---------------------------------------------------------------------------\u001b[0m",
            "\u001b[0;31mNameError\u001b[0m                                 Traceback (most recent call last)",
            "\u001b[0;32m<ipython-input-19-e2114f342c4b>\u001b[0m in \u001b[0;36m<module>\u001b[0;34m()\u001b[0m\n\u001b[0;32m----> 1\u001b[0;31m \u001b[0mJPN\u001b[0m \u001b[0;34m=\u001b[0m \u001b[0m日本\u001b[0m\u001b[0;34m\u001b[0m\u001b[0;34m\u001b[0m\u001b[0m\n\u001b[0m",
            "\u001b[0;31mNameError\u001b[0m: name '日本' is not defined"
          ]
        }
      ]
    },
    {
      "metadata": {
        "id": "fJK1Xm9KDJKp",
        "colab_type": "text"
      },
      "cell_type": "markdown",
      "source": [
        "また、複数の文字型を繋げたり、複製して表示することも可能です。<br>\n",
        "文字型のデータを繋げる時は`+`を使用し、<br>\n",
        "文字型の要素を複製する時は、複製したい要素の後に`*`を打ち、複製したい数をint型で打ってください。"
      ]
    },
    {
      "metadata": {
        "id": "VyBp0nRRDKLI",
        "colab_type": "code",
        "outputId": "004a1798-f8b4-4ecf-c630-2cca2719d7b1",
        "colab": {
          "base_uri": "https://localhost:8080/",
          "height": 68
        }
      },
      "cell_type": "code",
      "source": [
        "# 文字型の結合は下記のように、「+」を使用します。\n",
        "print(\"こんな感じで\"+\"文字型の要素を\"+\"プラスを使って \"+\"繋げられます。\")\n",
        "\n",
        "# 同じ文字を複数結合させたい時は、「*」を打ち、繰り返し表示する回数を打ちます。\n",
        "print(\"-\" * 100)\n",
        "\n",
        "print(\"便利でしょ？   \" + \"ね？ \"*10)"
      ],
      "execution_count": 0,
      "outputs": [
        {
          "output_type": "stream",
          "text": [
            "こんな感じで文字型の要素をプラスを使って 繋げられます。\n",
            "----------------------------------------------------------------------------------------------------\n",
            "便利でしょ？   ね？ ね？ ね？ ね？ ね？ ね？ ね？ ね？ ね？ ね？ \n"
          ],
          "name": "stdout"
        }
      ]
    },
    {
      "metadata": {
        "id": "NZY04PRSFyP6",
        "colab_type": "text"
      },
      "cell_type": "markdown",
      "source": [
        "***\n",
        "# コメント\n",
        "さらっと使いましたが、コードの中にコメントを書く機能があります。    "
      ]
    },
    {
      "metadata": {
        "id": "4flv1d5MGFJj",
        "colab_type": "code",
        "colab": {}
      },
      "cell_type": "code",
      "source": [
        " この機能です！　\n",
        "#  このシャープが付いて、色が変わっている行が「コメントです」"
      ],
      "execution_count": 0,
      "outputs": []
    },
    {
      "metadata": {
        "id": "xf0CKjHcGKj4",
        "colab_type": "text"
      },
      "cell_type": "markdown",
      "source": [
        "コメントはプログラムとして実行されませんが、コードのなかにメモ書きを残すことができます。    \n",
        "行のはじめに`＃`をつけると、その行はコメントと見なされます。    \n",
        "少し、いじってみましょう。"
      ]
    },
    {
      "metadata": {
        "id": "2ElxOkOZGOcA",
        "colab_type": "code",
        "outputId": "6c9864f0-1fbc-47f1-c4a0-327376f2dff0",
        "colab": {
          "base_uri": "https://localhost:8080/",
          "height": 34
        }
      },
      "cell_type": "code",
      "source": [
        "print(\"＃　が付いていないので出力されます！\")\n",
        "#　print(\"#　がついているので出力されません……\")"
      ],
      "execution_count": 0,
      "outputs": [
        {
          "output_type": "stream",
          "text": [
            "＃　が付いていないので出力されます！\n"
          ],
          "name": "stdout"
        }
      ]
    },
    {
      "metadata": {
        "id": "OB71EfpZOAIa",
        "colab_type": "text"
      },
      "cell_type": "markdown",
      "source": [
        "また、複数行に渡りコメントを書きたい時は、<br>\n",
        "`\"`か`’`を３回打ったもので囲むことで可能になります。"
      ]
    },
    {
      "metadata": {
        "id": "hQ8xfNtIPIdC",
        "colab_type": "code",
        "outputId": "23381a51-7219-4a9a-b79a-ff1cad170ece",
        "colab": {
          "base_uri": "https://localhost:8080/",
          "height": 34
        }
      },
      "cell_type": "code",
      "source": [
        "nano = \"\"\"kakaka\"\"\"\n",
        "type(nano)"
      ],
      "execution_count": 0,
      "outputs": [
        {
          "output_type": "execute_result",
          "data": {
            "text/plain": [
              "str"
            ]
          },
          "metadata": {
            "tags": []
          },
          "execution_count": 33
        }
      ]
    },
    {
      "metadata": {
        "id": "PaEoIMo8OjRt",
        "colab_type": "code",
        "outputId": "67fe7ad7-bf4a-43d1-c9d2-5e8922545802",
        "colab": {
          "base_uri": "https://localhost:8080/",
          "height": 71
        }
      },
      "cell_type": "code",
      "source": [
        "\"\"\"\n",
        "このように長いコメントを記述する際は\n",
        "シングルクォーテーションかダブルクォーテーションを\n",
        "３回打ち込み、囲むことで書くことができます！\n",
        "\"\"\"\n",
        "print(\"nyan-nyan\")\n",
        "\n",
        "'''\n",
        "しかしこの方法は欠点があります。\n",
        "#の場合とは違い、Pythonの処理上では「コメント」として\n",
        "処理が行われていません。\n",
        "\n",
        "type()でご確認していただけるとわかるのですが、\n",
        "文字型として扱っています。\n",
        "\n",
        "今後、classや制御構文ではインテンドの扱いが重要になります。\n",
        "この方法はそのインテンドに影響する\n",
        "可能性があるので少し気をつけてください\n",
        "'''"
      ],
      "execution_count": 0,
      "outputs": [
        {
          "output_type": "stream",
          "text": [
            "nyan-nyan\n"
          ],
          "name": "stdout"
        },
        {
          "output_type": "execute_result",
          "data": {
            "text/plain": [
              "'\\nしかしこの方法は欠点があります。\\n#の場合とは違い、Pythonの処理上では「コメント」として\\n処理が行われていません。\\n\\ntype()でご確認していただけるとわかるのですが、\\n文字型として扱っています。\\n\\n今後、classや制御構文ではインテンドの扱いが重要になります。\\nこの方法はそのインテンドに影響する\\n可能性があるので少し気をつけてください\\n'"
            ]
          },
          "metadata": {
            "tags": []
          },
          "execution_count": 34
        }
      ]
    },
    {
      "metadata": {
        "id": "H0QCtiogyTRD",
        "colab_type": "text"
      },
      "cell_type": "markdown",
      "source": [
        "# 変数を使用する\n",
        "\n",
        "上記の演算子だけでも計算はできますが、複雑になるにつれ表記が煩雑になってしまいます。    \n",
        "しかし、変数を使用することでコードを書きやすく、理解しやすくすることができます。    \n",
        "    \n",
        "変数とはデータを一時的に記憶する領域のことです。    \n",
        "`name = data`  のように、<br>\n",
        "変数名を左に、記憶するデータを右に記入します。<br>\n",
        "  \n",
        "    \n",
        "      \n",
        "   \n",
        "実際に使用してみましょう。<br>\n",
        "下記のコードでは商品の値段を、商品名の変数に格納しています。"
      ]
    },
    {
      "metadata": {
        "id": "nj9YxzD51t11",
        "colab_type": "code",
        "outputId": "93884cfd-a1d1-4a83-ea00-825e6bff3944",
        "colab": {
          "base_uri": "https://localhost:8080/",
          "height": 34
        }
      },
      "cell_type": "code",
      "source": [
        "apple = 200\n",
        "orange = 100\n",
        "banana = 150\n",
        "\n",
        "print(apple * 3 + banana * 6)"
      ],
      "execution_count": 0,
      "outputs": [
        {
          "output_type": "stream",
          "text": [
            "1500\n"
          ],
          "name": "stdout"
        }
      ]
    },
    {
      "metadata": {
        "id": "G3B-tMQmDyCS",
        "colab_type": "text"
      },
      "cell_type": "markdown",
      "source": [
        "下記の例のように、変数名として使用不可である文字があるので注意してください。\n",
        "\n",
        "| 正しくない変数名 | 理由                       |\n",
        "| ---------------- | -------------------------- |\n",
        "| Current-balance  | ハイフンは使用不可         |\n",
        "| Current barance  | スペースは使用不可         |\n",
        "| 4account         | 数字からスタートはできない |\n",
        "| 42               | 同上                       |\n",
        "| ©urrent         | $などの特殊文字は使用不可  |\n",
        "| \"Hello\"          | ' や ”は使用不可           |"
      ]
    },
    {
      "metadata": {
        "id": "0brPR5UnyXN3",
        "colab_type": "text"
      },
      "cell_type": "markdown",
      "source": [
        "***\n",
        "# 最初のプログラム\n",
        "参考書籍ではhello.pyの内容を通して、Pyhtonの基本を説明していました。<br>\n",
        "私も同じように、このプラグラムを通して説明したいと思います。"
      ]
    },
    {
      "metadata": {
        "id": "D3aaXuzzvgIt",
        "colab_type": "code",
        "outputId": "0c5fa52f-3251-4c9b-fc78-2b67c65d204c",
        "colab": {
          "base_uri": "https://localhost:8080/",
          "height": 170
        }
      },
      "cell_type": "code",
      "source": [
        "print('Hello world!')  # ❷\n",
        "print('What is your name?') # 名前を尋ねる\n",
        "my_name = input()  # ❸\n",
        "print('It is good to meet you, ' + my_name)  # ❹\n",
        "print('The length of your name is:')  # 名前の長さを表示 ❺\n",
        "print(len(my_name))\n",
        "print('What is your age?') # 年齢を尋ねる ❻\n",
        "my_age = input()\n",
        "print('You will be ' + str(int(my_age) + 1) + ' in a year.') # 来年の年齢を表示"
      ],
      "execution_count": 0,
      "outputs": [
        {
          "output_type": "stream",
          "text": [
            "Hello world!\n",
            "What is your name?\n",
            "easy_tobita\n",
            "It is good to meet you, easy_tobita\n",
            "The length of your name is:\n",
            "11\n",
            "What is your age?\n",
            "22\n",
            "You will be 23 in a year.\n"
          ],
          "name": "stdout"
        }
      ]
    },
    {
      "metadata": {
        "id": "_Na-7hy_v7K3",
        "colab_type": "text"
      },
      "cell_type": "markdown",
      "source": [
        ""
      ]
    },
    {
      "metadata": {
        "id": "Ptra39PfmLB9",
        "colab_type": "text"
      },
      "cell_type": "markdown",
      "source": [
        "# Print関数\n",
        "print関数は編集者が出力したい内容を出力する関数です。\n",
        " <br>\n",
        "`print(出力したい内容)`\n",
        "\n"
      ]
    },
    {
      "metadata": {
        "id": "Xprt5mZ2mKK8",
        "colab_type": "code",
        "outputId": "7e004176-5f59-41ba-8f17-0aaef97b3a81",
        "colab": {
          "base_uri": "https://localhost:8080/",
          "height": 51
        }
      },
      "cell_type": "code",
      "source": [
        "wish = \"ステーキ食べたい\"\n",
        "\n",
        "print(\"焼肉食べたい\")\n",
        "print(wish)"
      ],
      "execution_count": 0,
      "outputs": [
        {
          "output_type": "stream",
          "text": [
            "焼肉食べたい\n",
            "ステーキ食べたい\n"
          ],
          "name": "stdout"
        }
      ]
    },
    {
      "metadata": {
        "id": "M3NEldOUr7Ro",
        "colab_type": "text"
      },
      "cell_type": "markdown",
      "source": [
        "# Input関数\n",
        "input関数は実行者が入力したデータを変数として受け取る関数です。<br> \n",
        "変数 = input(\"表示する質問\")"
      ]
    },
    {
      "metadata": {
        "id": "DCPNp3YgmKNa",
        "colab_type": "code",
        "outputId": "978238ef-046f-463a-f520-1c66c1c9562f",
        "colab": {
          "base_uri": "https://localhost:8080/",
          "height": 51
        }
      },
      "cell_type": "code",
      "source": [
        "food = input(\"好きな食べ物はなんですか？\")\n",
        "print(\"わかった！今から\" + food + \"を食べに行こう！\")"
      ],
      "execution_count": 0,
      "outputs": [
        {
          "output_type": "stream",
          "text": [
            "好きな食べ物はなんですか？焼肉\n",
            "わかった！今から焼肉を食べに行こう！\n"
          ],
          "name": "stdout"
        }
      ]
    },
    {
      "metadata": {
        "id": "G43w8rmCtpHg",
        "colab_type": "text"
      },
      "cell_type": "markdown",
      "source": [
        "# len関数\n",
        "len関数は文字型の長さやシーケンスの長さなどを整数で返してくれる関数です。<br>\n",
        "`len(長さを測りたいsomething)` で使用することができます。"
      ]
    },
    {
      "metadata": {
        "id": "1Ln_rJHNKPU3",
        "colab_type": "code",
        "outputId": "995f4287-23fc-4881-c7ef-df45045b0fa1",
        "colab": {
          "base_uri": "https://localhost:8080/",
          "height": 68
        }
      },
      "cell_type": "code",
      "source": [
        "list = [i  for i in range(0,101)]\n",
        "\n",
        "print(len(\"hello\"))\n",
        "print(len(\"always fair in love and war\"))\n",
        "print(len(list))"
      ],
      "execution_count": 0,
      "outputs": [
        {
          "output_type": "stream",
          "text": [
            "5\n",
            "27\n",
            "101\n"
          ],
          "name": "stdout"
        }
      ]
    },
    {
      "metadata": {
        "id": "yMjHa81lK9oa",
        "colab_type": "text"
      },
      "cell_type": "markdown",
      "source": [
        "***\n",
        "# データ型を扱う際の注意   ~str(),int(),float()の使用について~\n",
        "Pythonを使用していると、異なるデータ型をまとめて使用する状況が多くあります。<br>\n",
        "その場合は異なるデータ型を扱うにあたり、準備が必要になります。<br>\n",
        "  \n",
        "具体的な例をあげます。<br>\n",
        "今回はPrint関数を使用して、自身の戦闘力を宣言してみましょう。"
      ]
    },
    {
      "metadata": {
        "id": "Tb3_zeWiKU-x",
        "colab_type": "code",
        "outputId": "ecb7f61a-e79b-4758-edea-842eed35ec59",
        "colab": {
          "base_uri": "https://localhost:8080/",
          "height": 185
        }
      },
      "cell_type": "code",
      "source": [
        "power = 530000\n",
        "print(\"私の戦闘力は\" + power + \"です。\")"
      ],
      "execution_count": 0,
      "outputs": [
        {
          "output_type": "error",
          "ename": "TypeError",
          "evalue": "ignored",
          "traceback": [
            "\u001b[0;31m---------------------------------------------------------------------------\u001b[0m",
            "\u001b[0;31mTypeError\u001b[0m                                 Traceback (most recent call last)",
            "\u001b[0;32m<ipython-input-30-a1cdde410f91>\u001b[0m in \u001b[0;36m<module>\u001b[0;34m()\u001b[0m\n\u001b[1;32m      1\u001b[0m \u001b[0mpower\u001b[0m \u001b[0;34m=\u001b[0m \u001b[0;36m530000\u001b[0m\u001b[0;34m\u001b[0m\u001b[0;34m\u001b[0m\u001b[0m\n\u001b[0;32m----> 2\u001b[0;31m \u001b[0mprint\u001b[0m\u001b[0;34m(\u001b[0m\u001b[0;34m\"私の戦闘力は\"\u001b[0m \u001b[0;34m+\u001b[0m \u001b[0mpower\u001b[0m \u001b[0;34m+\u001b[0m \u001b[0;34m\"です。\"\u001b[0m\u001b[0;34m)\u001b[0m\u001b[0;34m\u001b[0m\u001b[0;34m\u001b[0m\u001b[0m\n\u001b[0m",
            "\u001b[0;31mTypeError\u001b[0m: must be str, not int"
          ]
        }
      ]
    },
    {
      "metadata": {
        "id": "3cf4Dm2xLeoG",
        "colab_type": "text"
      },
      "cell_type": "markdown",
      "source": [
        " あらら……Errorが出力されました。<br>\n",
        " Errorが発生すると、どのような理由でErrorが発生したのか理由を出力してくれます。<br>\n",
        "  \n",
        "今回の場合は`TypeError: must be str, not int`と出力されています。<br>\n",
        "print関数などで複数のデータ型からなる要素を一つにまとめる時は、<br>\n",
        "単一のデータ型に揃える必要があります。　<br>\n",
        "  \n",
        "今回は文字型の中に一つだけ紛れ込んだ整数型を修正します。<br>\n",
        "文字型への修正は**str関数**を使用します。<br>\n",
        "使用方法は修正したい要素を`str()`の括弧のなかに入れるだけです。"
      ]
    },
    {
      "metadata": {
        "id": "F0eiPhR_KU7y",
        "colab_type": "code",
        "outputId": "8f4145db-dc3d-413c-f38d-bdbba224ba39",
        "colab": {
          "base_uri": "https://localhost:8080/",
          "height": 34
        }
      },
      "cell_type": "code",
      "source": [
        "#修正版\n",
        "print(\"私の戦闘力は\"+ str(power) + \"です。\")"
      ],
      "execution_count": 0,
      "outputs": [
        {
          "output_type": "stream",
          "text": [
            "私の戦闘力は530000です。\n"
          ],
          "name": "stdout"
        }
      ]
    },
    {
      "metadata": {
        "id": "WNsJDpSsNX_8",
        "colab_type": "text"
      },
      "cell_type": "markdown",
      "source": [
        "やりました！これで自身の戦闘力を宣言することができました。<br>\n",
        "このようにprint関数など、一つの要素として異なるデータ型をまとめる場合は、<br>\n",
        "事前に一つのデータ型でまとめる必要があります。<br>\n",
        "今回は文字型で出力するために`str()`を使用しましたが、<br>\n",
        "文字型を数字に戻す`int()`や`froat()`があるので、\n",
        "出力の調整以外でもデータ型の変換が必要である場合、臨機応変に使用してください。\n"
      ]
    },
    {
      "metadata": {
        "id": "Yf_XSJ4rNaAZ",
        "colab_type": "code",
        "colab": {}
      },
      "cell_type": "code",
      "source": [
        "# int()やfroat()の使用例\n",
        "\n",
        "moji_seisu = \"6543\"\n",
        "moji_syousu =\"3.14\"\n",
        "\n",
        "# 地球一周の距離は　約40,075kmです　（赤道一周）\n",
        "# 自転車の速度は １４km/h   として計算しています\n",
        "\n",
        "print(str(40075 / 14) + \"時間かかります\")\n",
        "print(\"約\" + str(40075/14//24) + \"日に当たります\")"
      ],
      "execution_count": 0,
      "outputs": []
    },
    {
      "metadata": {
        "id": "IfF-7gDSLmgb",
        "colab_type": "text"
      },
      "cell_type": "markdown",
      "source": [
        "  上記の例では、少数のデータ型のものを変更することで対応しましたが、<br>\n",
        "**format関数**を使用することで、文字列の中に値をまとめて埋め込むことも可能です。<br>\n",
        "同じ文で試してみましょう。\n",
        "\n",
        "format関数は文字列の中に`{key_name}`を埋め込み、その文字列の後に`.format(　key_name = \"値\")`を入力します。<br>\n",
        "今回の例文の場合では……"
      ]
    },
    {
      "metadata": {
        "id": "LbYw9CjTL0S3",
        "colab_type": "code",
        "outputId": "cb714288-b885-47f8-a43b-5b6864ab99d0",
        "colab": {
          "base_uri": "https://localhost:8080/",
          "height": 34
        }
      },
      "cell_type": "code",
      "source": [
        "print(\"私の戦闘力は{combat_power}です\".format(combat_power = 530000 , ))"
      ],
      "execution_count": 0,
      "outputs": [
        {
          "output_type": "stream",
          "text": [
            "私の戦闘力は530000です\n"
          ],
          "name": "stdout"
        }
      ]
    },
    {
      "metadata": {
        "id": "4zNyjBzeL6l-",
        "colab_type": "text"
      },
      "cell_type": "markdown",
      "source": [
        "文字列内に埋め込んだキーとして`{combat_power}`を入力し、<br>\n",
        "`.format( combat_power = \"53000)\"`で整数型の `530000 `を文字型に変換しています。<br>"
      ]
    },
    {
      "metadata": {
        "id": "dkBygo6eL8I1",
        "colab_type": "text"
      },
      "cell_type": "markdown",
      "source": [
        ""
      ]
    }
  ]
}