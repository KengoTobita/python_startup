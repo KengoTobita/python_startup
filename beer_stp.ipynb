{
  "nbformat": 4,
  "nbformat_minor": 0,
  "metadata": {
    "colab": {
      "name": "beer_stp.ipynb",
      "version": "0.3.2",
      "provenance": [],
      "include_colab_link": true
    },
    "language_info": {
      "codemirror_mode": {
        "name": "ipython",
        "version": 3
      },
      "file_extension": ".py",
      "mimetype": "text/x-python",
      "name": "python",
      "nbconvert_exporter": "python",
      "pygments_lexer": "ipython3",
      "version": "3.6.6"
    },
    "kernelspec": {
      "display_name": "Python 3",
      "language": "python",
      "name": "python3"
    }
  },
  "cells": [
    {
      "cell_type": "markdown",
      "metadata": {
        "id": "view-in-github",
        "colab_type": "text"
      },
      "source": [
        "<a href=\"https://colab.research.google.com/github/KengoTobita/python_startup/blob/master/beer_stp.ipynb\" target=\"_parent\"><img src=\"https://colab.research.google.com/assets/colab-badge.svg\" alt=\"Open In Colab\"/></a>"
      ]
    },
    {
      "cell_type": "markdown",
      "metadata": {
        "id": "nxy4l0cu-Ze-",
        "colab_type": "text"
      },
      "source": [
        "# Pythonデータ分析入門 <br>ビールの新商品を開発してみよう。"
      ]
    },
    {
      "cell_type": "markdown",
      "metadata": {
        "id": "cnwKJFtl-ZfA",
        "colab_type": "text"
      },
      "source": [
        "## 今日の流れ\n",
        "- Pythonって何？\n",
        "- Pythonに慣れよう ~irisデータをいじろう~\n",
        "- データ分析とは？ ~STP戦略編~\n",
        "    - Jupyter Notebook　を使いこなそう\n",
        "    - Pandasを使用してデータを扱おう\n",
        "    - Scikit-Leanって何？\n",
        "- 今日の振り返り"
      ]
    },
    {
      "cell_type": "markdown",
      "metadata": {
        "id": "J5JtOuV3-ZfA",
        "colab_type": "text"
      },
      "source": [
        "# Pythonってなに？\n",
        "近頃人気の汎用プログラミング言語です。<br>\n",
        "簡便な文法と、豊富なライブラリを背景に広く浸透しました。<br>\n",
        "***\n",
        "Print関数は引数を出力する関数です。"
      ]
    },
    {
      "cell_type": "code",
      "metadata": {
        "id": "BE3SiUVk-ZfB",
        "colab_type": "code",
        "colab": {},
        "outputId": "7736b20c-38e3-46fc-eedc-1554b6de5817"
      },
      "source": [
        "print(\"hello world\")"
      ],
      "execution_count": 0,
      "outputs": [
        {
          "output_type": "stream",
          "text": [
            "hello world\n"
          ],
          "name": "stdout"
        }
      ]
    },
    {
      "cell_type": "markdown",
      "metadata": {
        "id": "9TkiSMEL-ZfG",
        "colab_type": "text"
      },
      "source": [
        "簡単な四則演算が可能です。<br>"
      ]
    },
    {
      "cell_type": "code",
      "metadata": {
        "scrolled": true,
        "id": "zW5E00ny-ZfH",
        "colab_type": "code",
        "colab": {},
        "outputId": "08c4ffe8-a753-4314-8c81-f6fee719cdb1"
      },
      "source": [
        "(1+2)*100"
      ],
      "execution_count": 0,
      "outputs": [
        {
          "output_type": "execute_result",
          "data": {
            "text/plain": [
              "300"
            ]
          },
          "metadata": {
            "tags": []
          },
          "execution_count": 169
        }
      ]
    },
    {
      "cell_type": "markdown",
      "metadata": {
        "id": "plilxGrW-ZfK",
        "colab_type": "text"
      },
      "source": [
        "変数を使用することで、コードがわかりやすくなります。"
      ]
    },
    {
      "cell_type": "code",
      "metadata": {
        "id": "igL43ltZ-ZfL",
        "colab_type": "code",
        "colab": {},
        "outputId": "0d38a2f1-040a-44b2-c583-49a628370669"
      },
      "source": [
        "a = 100\n",
        "b = 300\n",
        "\n",
        "10*a + 1*b"
      ],
      "execution_count": 0,
      "outputs": [
        {
          "output_type": "execute_result",
          "data": {
            "text/plain": [
              "1300"
            ]
          },
          "metadata": {
            "tags": []
          },
          "execution_count": 83
        }
      ]
    },
    {
      "cell_type": "markdown",
      "metadata": {
        "id": "rMiSzcw2-ZfO",
        "colab_type": "text"
      },
      "source": [
        "各要素を` , `で区切り`[ ]`で囲むことで、リスト型として扱うことが可能です。<br>\n",
        "Pythonのインデックスは<font color = \"red\">0から始まる</font>ようになってます。<Br>\n",
        "他言語に慣れてるかたは気をつけてください。\n"
      ]
    },
    {
      "cell_type": "code",
      "metadata": {
        "id": "1lDHGYYN-ZfO",
        "colab_type": "code",
        "colab": {},
        "outputId": "e573a848-e57a-4784-8452-6b00dda1844d"
      },
      "source": [
        "a= [0,1,2,3,4,5,6]\n",
        "a[3:5]"
      ],
      "execution_count": 0,
      "outputs": [
        {
          "output_type": "execute_result",
          "data": {
            "text/plain": [
              "[3, 4]"
            ]
          },
          "metadata": {
            "tags": []
          },
          "execution_count": 158
        }
      ]
    },
    {
      "cell_type": "markdown",
      "metadata": {
        "id": "VG7c74_S-ZfR",
        "colab_type": "text"
      },
      "source": [
        "ライブラリを使用することで、難しいとこもサラッとできます。<br>\n",
        "`import` を使用することで使用が可能です。<br>\n",
        "<br>\n",
        "この場合はnumpyという数学ライブラリを使用してドット積をしています。<br>\n",
        "フゥ！かっこいい！"
      ]
    },
    {
      "cell_type": "code",
      "metadata": {
        "id": "YgxkE-Te-ZfS",
        "colab_type": "code",
        "colab": {},
        "outputId": "f5d93155-37fd-49f3-ba1e-e7cc7d2c4384"
      },
      "source": [
        "import numpy as np\n",
        "\n",
        "a = np.array([1,2,3,4,5])\n",
        "b = a.T\n",
        "\n",
        "np.dot(a,b)"
      ],
      "execution_count": 0,
      "outputs": [
        {
          "output_type": "execute_result",
          "data": {
            "text/plain": [
              "55"
            ]
          },
          "metadata": {
            "tags": []
          },
          "execution_count": 93
        }
      ]
    },
    {
      "cell_type": "markdown",
      "metadata": {
        "id": "47kcc-jR-ZfW",
        "colab_type": "text"
      },
      "source": [
        "Jupyterのセル内の行の先頭に` ! `を記入することで、<br>\n",
        "基本的なlinuxコマンドを使用することが可能です。"
      ]
    },
    {
      "cell_type": "code",
      "metadata": {
        "id": "qlG73YS1-ZfX",
        "colab_type": "code",
        "colab": {},
        "outputId": "7eb6fb82-077d-4c3c-e77a-ad981d791a1a"
      },
      "source": [
        "! pwd"
      ],
      "execution_count": 0,
      "outputs": [
        {
          "output_type": "stream",
          "text": [
            "/Users/kengotobita/Documents/beer_python\r\n"
          ],
          "name": "stdout"
        }
      ]
    },
    {
      "cell_type": "markdown",
      "metadata": {
        "id": "qDDLMZju-ZfZ",
        "colab_type": "text"
      },
      "source": [
        "Pythonにはいくつか制御構文があります。<br>\n",
        "今回はfor文だけ使用するので、それだけ紹介します。"
      ]
    },
    {
      "cell_type": "code",
      "metadata": {
        "scrolled": true,
        "id": "shua-yi3-Zfa",
        "colab_type": "code",
        "colab": {},
        "outputId": "2dedc28a-6bfc-4da9-d02e-633ad67a2f88"
      },
      "source": [
        "for i in range(10):\n",
        "    print(i)"
      ],
      "execution_count": 0,
      "outputs": [
        {
          "output_type": "stream",
          "text": [
            "0\n",
            "1\n",
            "2\n",
            "3\n",
            "4\n",
            "5\n",
            "6\n",
            "7\n",
            "8\n",
            "9\n"
          ],
          "name": "stdout"
        }
      ]
    },
    {
      "cell_type": "code",
      "metadata": {
        "id": "iWLXwOhR-Zfd",
        "colab_type": "code",
        "colab": {},
        "outputId": "1e05360b-126d-4563-f57b-0c4edf3ed435"
      },
      "source": [
        "for i in [\"古池や\", \"蛙飛び込む\",\"水の音\"]:\n",
        "    print(i)"
      ],
      "execution_count": 0,
      "outputs": [
        {
          "output_type": "stream",
          "text": [
            "古池や\n",
            "蛙飛び込む\n",
            "水の音\n"
          ],
          "name": "stdout"
        }
      ]
    },
    {
      "cell_type": "markdown",
      "metadata": {
        "id": "ox1MQRgW-Zff",
        "colab_type": "text"
      },
      "source": [
        "## 今回使用するライブラリ\n",
        "### Pandas\n",
        "CSV や Excelファイル、numpy.arrayなどのデータを<br>\n",
        "とても扱いやすいデータ形式であるDataFrameに変換してくれる。<br>\n",
        "変換後も値の変更や追加、削除、インデキシングなど便利な機能満載。<br>\n",
        "<font size = 1>参考:[Pythonデータ分析/機械学習のための基本コーディング! pandasライブラリ活用入門 (impress top gear)](https://www.amazon.co.jp/Python%E3%83%87%E3%83%BC%E3%82%BF%E5%88%86%E6%9E%90-%E6%A9%9F%E6%A2%B0%E5%AD%A6%E7%BF%92%E3%81%AE%E3%81%9F%E3%82%81%E3%81%AE%E5%9F%BA%E6%9C%AC%E3%82%B3%E3%83%BC%E3%83%87%E3%82%A3%E3%83%B3%E3%82%B0-pandas%E3%83%A9%E3%82%A4%E3%83%96%E3%83%A9%E3%83%AA%E6%B4%BB%E7%94%A8%E5%85%A5%E9%96%80-impress-gear/dp/4295005657/ref=asc_df_4295005657/?tag=jpgo-22&linkCode=df0&hvadid=295723231663&hvpos=1o1&hvnetw=g&hvrand=5237320592877007056&hvpone=&hvptwo=&hvqmt=&hvdev=c&hvdvcmdl=&hvlocint=&hvlocphy=1009279&hvtargid=pla-601555356405&psc=1&th=1&psc=1)</font>\n",
        "### Scikit-learn\n",
        "Pythonで書かれた機械学習ライブラリ。<br>\n",
        "非常に簡単な手順で分析ができる。<br>\n",
        "教師あり学習から、教師なし学習、前処理まで色々できる。<br>\n",
        "<font size = 1>参考: [Python機械学習プログラミング 第２版 ~達人データサイエンティストによる理論と実装~](https://amzn.to/2Na4DVf)</font>\n",
        "### matplotlib\n",
        "Pythonの描画ライブラリ。<br>\n",
        "今回は散布図を作成するために使用。<br>\n",
        "基本的なグラフはこれでかける。すごい。\n",
        "***"
      ]
    },
    {
      "cell_type": "markdown",
      "metadata": {
        "id": "062ixeos-Zfg",
        "colab_type": "text"
      },
      "source": [
        "# irisデータの分類問題をしてみよう<br>Scikit-learn入門"
      ]
    },
    {
      "cell_type": "markdown",
      "metadata": {
        "id": "bz-S6dRs-Zfg",
        "colab_type": "text"
      },
      "source": [
        "#### 1. データを用意する\n",
        "irisデータはscikit-learnで準備することが可能です。<br>\n",
        "今回はそのSciki-learnの機能を使用して準備し、<br>\n",
        "Pandasというデータフレームライブラリを使用して扱いやすくます。<br>\n",
        "\n",
        "##### データフレームとは？\n",
        "2次元で表現された値を格納する表……のような概念。<br>\n",
        "値の取り出しなどが非常に簡単。"
      ]
    },
    {
      "cell_type": "code",
      "metadata": {
        "scrolled": true,
        "id": "zRn25b42-Zfh",
        "colab_type": "code",
        "colab": {},
        "outputId": "1d7b61c5-6938-4243-8790-cf4de2ceb83b"
      },
      "source": [
        "import pandas as pd\n",
        "from sklearn import datasets\n",
        "\n",
        "iris = datasets.load_iris()\n",
        "df = pd.DataFrame(iris.data, columns=iris.feature_names)\n",
        "df.head()"
      ],
      "execution_count": 0,
      "outputs": [
        {
          "output_type": "execute_result",
          "data": {
            "text/html": [
              "<div>\n",
              "<style scoped>\n",
              "    .dataframe tbody tr th:only-of-type {\n",
              "        vertical-align: middle;\n",
              "    }\n",
              "\n",
              "    .dataframe tbody tr th {\n",
              "        vertical-align: top;\n",
              "    }\n",
              "\n",
              "    .dataframe thead th {\n",
              "        text-align: right;\n",
              "    }\n",
              "</style>\n",
              "<table border=\"1\" class=\"dataframe\">\n",
              "  <thead>\n",
              "    <tr style=\"text-align: right;\">\n",
              "      <th></th>\n",
              "      <th>sepal length (cm)</th>\n",
              "      <th>sepal width (cm)</th>\n",
              "      <th>petal length (cm)</th>\n",
              "      <th>petal width (cm)</th>\n",
              "    </tr>\n",
              "  </thead>\n",
              "  <tbody>\n",
              "    <tr>\n",
              "      <th>0</th>\n",
              "      <td>5.1</td>\n",
              "      <td>3.5</td>\n",
              "      <td>1.4</td>\n",
              "      <td>0.2</td>\n",
              "    </tr>\n",
              "    <tr>\n",
              "      <th>1</th>\n",
              "      <td>4.9</td>\n",
              "      <td>3.0</td>\n",
              "      <td>1.4</td>\n",
              "      <td>0.2</td>\n",
              "    </tr>\n",
              "    <tr>\n",
              "      <th>2</th>\n",
              "      <td>4.7</td>\n",
              "      <td>3.2</td>\n",
              "      <td>1.3</td>\n",
              "      <td>0.2</td>\n",
              "    </tr>\n",
              "    <tr>\n",
              "      <th>3</th>\n",
              "      <td>4.6</td>\n",
              "      <td>3.1</td>\n",
              "      <td>1.5</td>\n",
              "      <td>0.2</td>\n",
              "    </tr>\n",
              "    <tr>\n",
              "      <th>4</th>\n",
              "      <td>5.0</td>\n",
              "      <td>3.6</td>\n",
              "      <td>1.4</td>\n",
              "      <td>0.2</td>\n",
              "    </tr>\n",
              "  </tbody>\n",
              "</table>\n",
              "</div>"
            ],
            "text/plain": [
              "   sepal length (cm)  sepal width (cm)  petal length (cm)  petal width (cm)\n",
              "0                5.1               3.5                1.4               0.2\n",
              "1                4.9               3.0                1.4               0.2\n",
              "2                4.7               3.2                1.3               0.2\n",
              "3                4.6               3.1                1.5               0.2\n",
              "4                5.0               3.6                1.4               0.2"
            ]
          },
          "metadata": {
            "tags": []
          },
          "execution_count": 160
        }
      ]
    },
    {
      "cell_type": "markdown",
      "metadata": {
        "id": "fY12kGjm-Zfk",
        "colab_type": "text"
      },
      "source": [
        "##### pandas特定の値を持ってくる方法\n",
        "* <b>df.loc\\[ 行 , 列\\]</b><br>\n",
        "データフレームのindexとcolonmの<font color = \"red\">**名前**</font>を元に引っ張ってくる。<br>\n",
        "例えば上記のデータフレームならば、`df.loc[:, \"sepal length (cm)\"]`と指定すると,<br>\n",
        "\"sepal length (cm)\"の行だけ持ってくる。<br>\n",
        "<br>\n",
        "* <b>df.iloc\\[ 行, 列\\]</b>\n",
        "データフレームのindexとcolonmの<font color = \"red\">**順番**</font>を元に引っ張ってくる。<br>\n",
        "例えば上記のデータフレームならば、`df.iloc[:, 0]`と指定すると,<br>\n",
        "\"sepal length (cm)\"の行だけ持ってくる。<br>"
      ]
    },
    {
      "cell_type": "code",
      "metadata": {
        "id": "x3D9yRtU-Zfl",
        "colab_type": "code",
        "colab": {},
        "outputId": "79423997-31c0-4864-da58-5794353023ef"
      },
      "source": [
        "df.loc[:,\"sepal length (cm)\"].head()"
      ],
      "execution_count": 0,
      "outputs": [
        {
          "output_type": "execute_result",
          "data": {
            "text/plain": [
              "0    5.1\n",
              "1    4.9\n",
              "2    4.7\n",
              "3    4.6\n",
              "4    5.0\n",
              "Name: sepal length (cm), dtype: float64"
            ]
          },
          "metadata": {
            "tags": []
          },
          "execution_count": 164
        }
      ]
    },
    {
      "cell_type": "code",
      "metadata": {
        "id": "FUY5_DgU-Zfo",
        "colab_type": "code",
        "colab": {},
        "outputId": "621afe77-3e4a-4540-e8e9-66ea00b30280"
      },
      "source": [
        "df.iloc[:,0].head()"
      ],
      "execution_count": 0,
      "outputs": [
        {
          "output_type": "execute_result",
          "data": {
            "text/plain": [
              "0    5.1\n",
              "1    4.9\n",
              "2    4.7\n",
              "3    4.6\n",
              "4    5.0\n",
              "Name: sepal length (cm), dtype: float64"
            ]
          },
          "metadata": {
            "tags": []
          },
          "execution_count": 165
        }
      ]
    },
    {
      "cell_type": "code",
      "metadata": {
        "id": "Lsa1m23j-Zfr",
        "colab_type": "code",
        "colab": {},
        "outputId": "4d373d95-0523-4764-f81e-5ca45fdfe905"
      },
      "source": [
        "X = iris.data[:, [2, 3]]\n",
        "y = iris.target\n",
        "\n",
        "print('Class labels:', np.unique(y))"
      ],
      "execution_count": 0,
      "outputs": [
        {
          "output_type": "stream",
          "text": [
            "Class labels: [0 1 2]\n"
          ],
          "name": "stdout"
        }
      ]
    },
    {
      "cell_type": "code",
      "metadata": {
        "id": "8fJdpljE-Zfv",
        "colab_type": "code",
        "colab": {}
      },
      "source": [
        "from sklearn.model_selection import train_test_split\n",
        "\n",
        "X_train, X_test, y_train, y_test = train_test_split(\n",
        "    X, y, test_size=0.3, random_state=1, stratify=y)"
      ],
      "execution_count": 0,
      "outputs": []
    },
    {
      "cell_type": "code",
      "metadata": {
        "id": "vN5-c9gi-Zfw",
        "colab_type": "code",
        "colab": {},
        "outputId": "47773ad9-1d34-47ea-fed2-0cd8b95556ad"
      },
      "source": [
        "print('Labels counts in y:', np.bincount(y))\n",
        "print('Labels counts in y_train:', np.bincount(y_train))\n",
        "print('Labels counts in y_test:', np.bincount(y_test))"
      ],
      "execution_count": 0,
      "outputs": [
        {
          "output_type": "stream",
          "text": [
            "Labels counts in y: [50 50 50]\n",
            "Labels counts in y_train: [35 35 35]\n",
            "Labels counts in y_test: [15 15 15]\n"
          ],
          "name": "stdout"
        }
      ]
    },
    {
      "cell_type": "code",
      "metadata": {
        "id": "6Ec5pAS--Zf0",
        "colab_type": "code",
        "colab": {}
      },
      "source": [
        "from sklearn.preprocessing import StandardScaler\n",
        "\n",
        "sc = StandardScaler()\n",
        "sc.fit(X_train)\n",
        "X_train_std = sc.transform(X_train)\n",
        "X_test_std = sc.transform(X_test)"
      ],
      "execution_count": 0,
      "outputs": []
    },
    {
      "cell_type": "markdown",
      "metadata": {
        "id": "FIjC2kqZ-Zf3",
        "colab_type": "text"
      },
      "source": [
        "純粋にPythonだけで自力実装をすると、こうなります。"
      ]
    },
    {
      "cell_type": "code",
      "metadata": {
        "id": "CttrJ0kv-Zf4",
        "colab_type": "code",
        "colab": {}
      },
      "source": [
        "\n",
        "class AdalineSGD(object):\n",
        "\n",
        "    def __init__(self, eta=0.01, n_iter=10, shuffle=True, random_state=None):\n",
        "        self.eta = eta\n",
        "        self.n_iter = n_iter\n",
        "        self.w_initialized = False\n",
        "        self.shuffle = shuffle\n",
        "        self.random_state = random_state\n",
        "        \n",
        "    def fit(self, X, y):\n",
        "\n",
        "        self._initialize_weights(X.shape[1])\n",
        "        self.cost_ = []\n",
        "        for i in range(self.n_iter):\n",
        "            if self.shuffle:\n",
        "                X, y = self._shuffle(X, y)\n",
        "            cost = []\n",
        "            for xi, target in zip(X, y):\n",
        "                cost.append(self._update_weights(xi, target))\n",
        "            avg_cost = sum(cost) / len(y)\n",
        "            self.cost_.append(avg_cost)\n",
        "        return self\n",
        "\n",
        "    def partial_fit(self, X, y):\n",
        "        if not self.w_initialized:\n",
        "            self._initialize_weights(X.shape[1])\n",
        "        if y.ravel().shape[0] > 1:\n",
        "            for xi, target in zip(X, y):\n",
        "                self._update_weights(xi, target)\n",
        "        else:\n",
        "            self._update_weights(X, y)\n",
        "        return self\n",
        "\n",
        "    def _shuffle(self, X, y):\n",
        "\n",
        "        r = self.rgen.permutation(len(y))\n",
        "        return X[r], y[r]\n",
        "    \n",
        "    def _initialize_weights(self, m):\n",
        "        self.rgen = np.random.RandomState(self.random_state)\n",
        "        self.w_ = self.rgen.normal(loc=0.0, scale=0.01, size=1 + m)\n",
        "        self.w_initialized = True\n",
        "        \n",
        "    def _update_weights(self, xi, target):\n",
        "        output = self.activation(self.net_input(xi))\n",
        "        error = (target - output)\n",
        "        self.w_[1:] += self.eta * xi.dot(error)\n",
        "        self.w_[0] += self.eta * error\n",
        "        cost = 0.5 * error**2\n",
        "        return cost\n",
        "    \n",
        "    def net_input(self, X):\n",
        "        return np.dot(X, self.w_[1:]) + self.w_[0]\n",
        "\n",
        "    def activation(self, X):\n",
        "        return X\n",
        "\n",
        "    def predict(self, X):\n",
        "        return np.where(self.activation(self.net_input(X)) >= 0.0, 1, -1)"
      ],
      "execution_count": 0,
      "outputs": []
    },
    {
      "cell_type": "code",
      "metadata": {
        "id": "Eo5jZdP5-Zf7",
        "colab_type": "code",
        "colab": {},
        "outputId": "8d03feed-0263-43ba-d7b0-568dd9689a96"
      },
      "source": [
        "from sklearn.linear_model import Perceptron\n",
        "\n",
        "ppn = Perceptron(n_iter=40, eta0=0.1, random_state=1)\n",
        "ppn.fit(X_train_std, y_train)\n",
        "y_pred = ppn.predict(X_test_std)\n",
        "\n",
        "\n",
        "print('Misclassified samples: %d' % (y_test != y_pred).sum())"
      ],
      "execution_count": 0,
      "outputs": [
        {
          "output_type": "stream",
          "text": [
            "Misclassified samples: 9\n"
          ],
          "name": "stdout"
        },
        {
          "output_type": "stream",
          "text": [
            "/Users/kengotobita/anaconda3/lib/python3.6/site-packages/sklearn/linear_model/stochastic_gradient.py:152: DeprecationWarning: n_iter parameter is deprecated in 0.19 and will be removed in 0.21. Use max_iter and tol instead.\n",
            "  DeprecationWarning)\n"
          ],
          "name": "stderr"
        }
      ]
    },
    {
      "cell_type": "markdown",
      "metadata": {
        "id": "OaoP-06Z-Zf-",
        "colab_type": "text"
      },
      "source": [
        "# 実践編 ~ビールデータを使用して新商品を開発しよう~"
      ]
    },
    {
      "cell_type": "code",
      "metadata": {
        "scrolled": false,
        "id": "8_07JDgm-Zf_",
        "colab_type": "code",
        "colab": {},
        "outputId": "d274fad5-181a-455c-eae5-f8bd594f7fe7"
      },
      "source": [
        "import pandas as pd\n",
        "\n",
        "df = pd.read_csv(\"beer.csv\", encoding=\"shiftjis\")\n",
        "df.head()"
      ],
      "execution_count": 0,
      "outputs": [
        {
          "output_type": "execute_result",
          "data": {
            "text/html": [
              "<div>\n",
              "<style scoped>\n",
              "    .dataframe tbody tr th:only-of-type {\n",
              "        vertical-align: middle;\n",
              "    }\n",
              "\n",
              "    .dataframe tbody tr th {\n",
              "        vertical-align: top;\n",
              "    }\n",
              "\n",
              "    .dataframe thead th {\n",
              "        text-align: right;\n",
              "    }\n",
              "</style>\n",
              "<table border=\"1\" class=\"dataframe\">\n",
              "  <thead>\n",
              "    <tr style=\"text-align: right;\">\n",
              "      <th></th>\n",
              "      <th>name</th>\n",
              "      <th>asahi</th>\n",
              "      <th>sapporo</th>\n",
              "      <th>kirin</th>\n",
              "      <th>suntry</th>\n",
              "      <th>price</th>\n",
              "      <th>alcohol</th>\n",
              "      <th>calorie</th>\n",
              "      <th>suger</th>\n",
              "      <th>prin</th>\n",
              "      <th>beer_type</th>\n",
              "      <th>spark_type</th>\n",
              "      <th>new_type</th>\n",
              "    </tr>\n",
              "  </thead>\n",
              "  <tbody>\n",
              "    <tr>\n",
              "      <th>0</th>\n",
              "      <td>アサヒスーパードライ</td>\n",
              "      <td>1</td>\n",
              "      <td>0</td>\n",
              "      <td>0</td>\n",
              "      <td>0</td>\n",
              "      <td>194</td>\n",
              "      <td>0.050</td>\n",
              "      <td>42</td>\n",
              "      <td>3.0</td>\n",
              "      <td>5.5</td>\n",
              "      <td>1</td>\n",
              "      <td>0</td>\n",
              "      <td>0</td>\n",
              "    </tr>\n",
              "    <tr>\n",
              "      <th>1</th>\n",
              "      <td>アサヒスーパードライ 瞬冷辛口</td>\n",
              "      <td>1</td>\n",
              "      <td>0</td>\n",
              "      <td>0</td>\n",
              "      <td>0</td>\n",
              "      <td>196</td>\n",
              "      <td>0.050</td>\n",
              "      <td>41</td>\n",
              "      <td>2.5</td>\n",
              "      <td>6.4</td>\n",
              "      <td>1</td>\n",
              "      <td>0</td>\n",
              "      <td>0</td>\n",
              "    </tr>\n",
              "    <tr>\n",
              "      <th>2</th>\n",
              "      <td>アサヒ グランマイルド</td>\n",
              "      <td>1</td>\n",
              "      <td>0</td>\n",
              "      <td>0</td>\n",
              "      <td>0</td>\n",
              "      <td>200</td>\n",
              "      <td>0.070</td>\n",
              "      <td>47</td>\n",
              "      <td>1.7</td>\n",
              "      <td>6.9</td>\n",
              "      <td>1</td>\n",
              "      <td>0</td>\n",
              "      <td>0</td>\n",
              "    </tr>\n",
              "    <tr>\n",
              "      <th>3</th>\n",
              "      <td>アサヒドライプレミアム豊醸</td>\n",
              "      <td>1</td>\n",
              "      <td>0</td>\n",
              "      <td>0</td>\n",
              "      <td>0</td>\n",
              "      <td>210</td>\n",
              "      <td>0.065</td>\n",
              "      <td>49</td>\n",
              "      <td>3.1</td>\n",
              "      <td>8.1</td>\n",
              "      <td>1</td>\n",
              "      <td>0</td>\n",
              "      <td>0</td>\n",
              "    </tr>\n",
              "    <tr>\n",
              "      <th>4</th>\n",
              "      <td>アサヒスーパードライ ドライブラック</td>\n",
              "      <td>1</td>\n",
              "      <td>0</td>\n",
              "      <td>0</td>\n",
              "      <td>0</td>\n",
              "      <td>213</td>\n",
              "      <td>0.055</td>\n",
              "      <td>45</td>\n",
              "      <td>3.1</td>\n",
              "      <td>5.2</td>\n",
              "      <td>1</td>\n",
              "      <td>0</td>\n",
              "      <td>0</td>\n",
              "    </tr>\n",
              "  </tbody>\n",
              "</table>\n",
              "</div>"
            ],
            "text/plain": [
              "                 name  asahi  sapporo  kirin  suntry  price  alcohol  calorie  \\\n",
              "0          アサヒスーパードライ      1        0      0       0    194    0.050       42   \n",
              "1     アサヒスーパードライ 瞬冷辛口      1        0      0       0    196    0.050       41   \n",
              "2         アサヒ グランマイルド      1        0      0       0    200    0.070       47   \n",
              "3       アサヒドライプレミアム豊醸      1        0      0       0    210    0.065       49   \n",
              "4  アサヒスーパードライ ドライブラック      1        0      0       0    213    0.055       45   \n",
              "\n",
              "   suger  prin  beer_type  spark_type  new_type  \n",
              "0    3.0   5.5          1           0         0  \n",
              "1    2.5   6.4          1           0         0  \n",
              "2    1.7   6.9          1           0         0  \n",
              "3    3.1   8.1          1           0         0  \n",
              "4    3.1   5.2          1           0         0  "
            ]
          },
          "metadata": {
            "tags": []
          },
          "execution_count": 183
        }
      ]
    },
    {
      "cell_type": "code",
      "metadata": {
        "id": "qc5uP_jG-ZgB",
        "colab_type": "code",
        "colab": {},
        "outputId": "28b68509-6a8d-4450-e9e6-f7fd8dd0c453"
      },
      "source": [
        "pca_data = df.iloc[:,1:10]\n",
        "pca_data"
      ],
      "execution_count": 0,
      "outputs": [
        {
          "output_type": "execute_result",
          "data": {
            "text/html": [
              "<div>\n",
              "<style scoped>\n",
              "    .dataframe tbody tr th:only-of-type {\n",
              "        vertical-align: middle;\n",
              "    }\n",
              "\n",
              "    .dataframe tbody tr th {\n",
              "        vertical-align: top;\n",
              "    }\n",
              "\n",
              "    .dataframe thead th {\n",
              "        text-align: right;\n",
              "    }\n",
              "</style>\n",
              "<table border=\"1\" class=\"dataframe\">\n",
              "  <thead>\n",
              "    <tr style=\"text-align: right;\">\n",
              "      <th></th>\n",
              "      <th>asahi</th>\n",
              "      <th>sapporo</th>\n",
              "      <th>kirin</th>\n",
              "      <th>suntry</th>\n",
              "      <th>price</th>\n",
              "      <th>alcohol</th>\n",
              "      <th>calorie</th>\n",
              "      <th>suger</th>\n",
              "      <th>prin</th>\n",
              "    </tr>\n",
              "  </thead>\n",
              "  <tbody>\n",
              "    <tr>\n",
              "      <th>0</th>\n",
              "      <td>1</td>\n",
              "      <td>0</td>\n",
              "      <td>0</td>\n",
              "      <td>0</td>\n",
              "      <td>194</td>\n",
              "      <td>0.050</td>\n",
              "      <td>42</td>\n",
              "      <td>3.0</td>\n",
              "      <td>5.5</td>\n",
              "    </tr>\n",
              "    <tr>\n",
              "      <th>1</th>\n",
              "      <td>1</td>\n",
              "      <td>0</td>\n",
              "      <td>0</td>\n",
              "      <td>0</td>\n",
              "      <td>196</td>\n",
              "      <td>0.050</td>\n",
              "      <td>41</td>\n",
              "      <td>2.5</td>\n",
              "      <td>6.4</td>\n",
              "    </tr>\n",
              "    <tr>\n",
              "      <th>2</th>\n",
              "      <td>1</td>\n",
              "      <td>0</td>\n",
              "      <td>0</td>\n",
              "      <td>0</td>\n",
              "      <td>200</td>\n",
              "      <td>0.070</td>\n",
              "      <td>47</td>\n",
              "      <td>1.7</td>\n",
              "      <td>6.9</td>\n",
              "    </tr>\n",
              "    <tr>\n",
              "      <th>3</th>\n",
              "      <td>1</td>\n",
              "      <td>0</td>\n",
              "      <td>0</td>\n",
              "      <td>0</td>\n",
              "      <td>210</td>\n",
              "      <td>0.065</td>\n",
              "      <td>49</td>\n",
              "      <td>3.1</td>\n",
              "      <td>8.1</td>\n",
              "    </tr>\n",
              "    <tr>\n",
              "      <th>4</th>\n",
              "      <td>1</td>\n",
              "      <td>0</td>\n",
              "      <td>0</td>\n",
              "      <td>0</td>\n",
              "      <td>213</td>\n",
              "      <td>0.055</td>\n",
              "      <td>45</td>\n",
              "      <td>3.1</td>\n",
              "      <td>5.2</td>\n",
              "    </tr>\n",
              "    <tr>\n",
              "      <th>5</th>\n",
              "      <td>1</td>\n",
              "      <td>0</td>\n",
              "      <td>0</td>\n",
              "      <td>0</td>\n",
              "      <td>205</td>\n",
              "      <td>0.045</td>\n",
              "      <td>41</td>\n",
              "      <td>3.0</td>\n",
              "      <td>6.2</td>\n",
              "    </tr>\n",
              "    <tr>\n",
              "      <th>6</th>\n",
              "      <td>1</td>\n",
              "      <td>0</td>\n",
              "      <td>0</td>\n",
              "      <td>0</td>\n",
              "      <td>233</td>\n",
              "      <td>0.050</td>\n",
              "      <td>34</td>\n",
              "      <td>1.0</td>\n",
              "      <td>6.4</td>\n",
              "    </tr>\n",
              "    <tr>\n",
              "      <th>7</th>\n",
              "      <td>1</td>\n",
              "      <td>0</td>\n",
              "      <td>0</td>\n",
              "      <td>0</td>\n",
              "      <td>267</td>\n",
              "      <td>0.055</td>\n",
              "      <td>45</td>\n",
              "      <td>3.2</td>\n",
              "      <td>6.8</td>\n",
              "    </tr>\n",
              "    <tr>\n",
              "      <th>8</th>\n",
              "      <td>1</td>\n",
              "      <td>0</td>\n",
              "      <td>0</td>\n",
              "      <td>0</td>\n",
              "      <td>233</td>\n",
              "      <td>0.060</td>\n",
              "      <td>44</td>\n",
              "      <td>2.3</td>\n",
              "      <td>6.8</td>\n",
              "    </tr>\n",
              "    <tr>\n",
              "      <th>9</th>\n",
              "      <td>1</td>\n",
              "      <td>0</td>\n",
              "      <td>0</td>\n",
              "      <td>0</td>\n",
              "      <td>224</td>\n",
              "      <td>0.080</td>\n",
              "      <td>74</td>\n",
              "      <td>6.5</td>\n",
              "      <td>3.5</td>\n",
              "    </tr>\n",
              "    <tr>\n",
              "      <th>10</th>\n",
              "      <td>1</td>\n",
              "      <td>0</td>\n",
              "      <td>0</td>\n",
              "      <td>0</td>\n",
              "      <td>206</td>\n",
              "      <td>0.050</td>\n",
              "      <td>41</td>\n",
              "      <td>3.4</td>\n",
              "      <td>NaN</td>\n",
              "    </tr>\n",
              "    <tr>\n",
              "      <th>11</th>\n",
              "      <td>1</td>\n",
              "      <td>0</td>\n",
              "      <td>0</td>\n",
              "      <td>0</td>\n",
              "      <td>130</td>\n",
              "      <td>0.040</td>\n",
              "      <td>24</td>\n",
              "      <td>0.0</td>\n",
              "      <td>3.1</td>\n",
              "    </tr>\n",
              "    <tr>\n",
              "      <th>12</th>\n",
              "      <td>1</td>\n",
              "      <td>0</td>\n",
              "      <td>0</td>\n",
              "      <td>0</td>\n",
              "      <td>132</td>\n",
              "      <td>0.060</td>\n",
              "      <td>34</td>\n",
              "      <td>0.0</td>\n",
              "      <td>0.0</td>\n",
              "    </tr>\n",
              "    <tr>\n",
              "      <th>13</th>\n",
              "      <td>1</td>\n",
              "      <td>0</td>\n",
              "      <td>0</td>\n",
              "      <td>0</td>\n",
              "      <td>131</td>\n",
              "      <td>0.055</td>\n",
              "      <td>45</td>\n",
              "      <td>3.6</td>\n",
              "      <td>3.2</td>\n",
              "    </tr>\n",
              "    <tr>\n",
              "      <th>14</th>\n",
              "      <td>1</td>\n",
              "      <td>0</td>\n",
              "      <td>0</td>\n",
              "      <td>0</td>\n",
              "      <td>141</td>\n",
              "      <td>0.050</td>\n",
              "      <td>35</td>\n",
              "      <td>1.2</td>\n",
              "      <td>2.4</td>\n",
              "    </tr>\n",
              "    <tr>\n",
              "      <th>15</th>\n",
              "      <td>1</td>\n",
              "      <td>0</td>\n",
              "      <td>0</td>\n",
              "      <td>0</td>\n",
              "      <td>152</td>\n",
              "      <td>0.030</td>\n",
              "      <td>30</td>\n",
              "      <td>2.7</td>\n",
              "      <td>NaN</td>\n",
              "    </tr>\n",
              "    <tr>\n",
              "      <th>16</th>\n",
              "      <td>1</td>\n",
              "      <td>0</td>\n",
              "      <td>0</td>\n",
              "      <td>0</td>\n",
              "      <td>178</td>\n",
              "      <td>0.055</td>\n",
              "      <td>46</td>\n",
              "      <td>3.7</td>\n",
              "      <td>NaN</td>\n",
              "    </tr>\n",
              "    <tr>\n",
              "      <th>17</th>\n",
              "      <td>1</td>\n",
              "      <td>0</td>\n",
              "      <td>0</td>\n",
              "      <td>0</td>\n",
              "      <td>162</td>\n",
              "      <td>0.055</td>\n",
              "      <td>46</td>\n",
              "      <td>3.7</td>\n",
              "      <td>NaN</td>\n",
              "    </tr>\n",
              "    <tr>\n",
              "      <th>18</th>\n",
              "      <td>1</td>\n",
              "      <td>0</td>\n",
              "      <td>0</td>\n",
              "      <td>0</td>\n",
              "      <td>150</td>\n",
              "      <td>0.060</td>\n",
              "      <td>50</td>\n",
              "      <td>3.6</td>\n",
              "      <td>4.7</td>\n",
              "    </tr>\n",
              "    <tr>\n",
              "      <th>19</th>\n",
              "      <td>1</td>\n",
              "      <td>0</td>\n",
              "      <td>0</td>\n",
              "      <td>0</td>\n",
              "      <td>111</td>\n",
              "      <td>0.050</td>\n",
              "      <td>45</td>\n",
              "      <td>3.2</td>\n",
              "      <td>4.4</td>\n",
              "    </tr>\n",
              "    <tr>\n",
              "      <th>20</th>\n",
              "      <td>1</td>\n",
              "      <td>0</td>\n",
              "      <td>0</td>\n",
              "      <td>0</td>\n",
              "      <td>114</td>\n",
              "      <td>0.060</td>\n",
              "      <td>51</td>\n",
              "      <td>3.8</td>\n",
              "      <td>4.3</td>\n",
              "    </tr>\n",
              "    <tr>\n",
              "      <th>21</th>\n",
              "      <td>1</td>\n",
              "      <td>0</td>\n",
              "      <td>0</td>\n",
              "      <td>0</td>\n",
              "      <td>114</td>\n",
              "      <td>0.060</td>\n",
              "      <td>39</td>\n",
              "      <td>0.0</td>\n",
              "      <td>1.9</td>\n",
              "    </tr>\n",
              "    <tr>\n",
              "      <th>22</th>\n",
              "      <td>1</td>\n",
              "      <td>0</td>\n",
              "      <td>0</td>\n",
              "      <td>0</td>\n",
              "      <td>114</td>\n",
              "      <td>0.070</td>\n",
              "      <td>50</td>\n",
              "      <td>2.2</td>\n",
              "      <td>5.4</td>\n",
              "    </tr>\n",
              "    <tr>\n",
              "      <th>23</th>\n",
              "      <td>1</td>\n",
              "      <td>0</td>\n",
              "      <td>0</td>\n",
              "      <td>0</td>\n",
              "      <td>115</td>\n",
              "      <td>0.035</td>\n",
              "      <td>22</td>\n",
              "      <td>0.0</td>\n",
              "      <td>0.0</td>\n",
              "    </tr>\n",
              "    <tr>\n",
              "      <th>24</th>\n",
              "      <td>1</td>\n",
              "      <td>0</td>\n",
              "      <td>0</td>\n",
              "      <td>0</td>\n",
              "      <td>111</td>\n",
              "      <td>0.040</td>\n",
              "      <td>27</td>\n",
              "      <td>0.0</td>\n",
              "      <td>3.0</td>\n",
              "    </tr>\n",
              "    <tr>\n",
              "      <th>25</th>\n",
              "      <td>0</td>\n",
              "      <td>1</td>\n",
              "      <td>0</td>\n",
              "      <td>0</td>\n",
              "      <td>189</td>\n",
              "      <td>0.050</td>\n",
              "      <td>40</td>\n",
              "      <td>2.9</td>\n",
              "      <td>7.5</td>\n",
              "    </tr>\n",
              "    <tr>\n",
              "      <th>26</th>\n",
              "      <td>0</td>\n",
              "      <td>1</td>\n",
              "      <td>0</td>\n",
              "      <td>0</td>\n",
              "      <td>250</td>\n",
              "      <td>0.050</td>\n",
              "      <td>43</td>\n",
              "      <td>3.5</td>\n",
              "      <td>6.5</td>\n",
              "    </tr>\n",
              "    <tr>\n",
              "      <th>27</th>\n",
              "      <td>0</td>\n",
              "      <td>1</td>\n",
              "      <td>0</td>\n",
              "      <td>0</td>\n",
              "      <td>188</td>\n",
              "      <td>0.055</td>\n",
              "      <td>45</td>\n",
              "      <td>3.2</td>\n",
              "      <td>9.4</td>\n",
              "    </tr>\n",
              "    <tr>\n",
              "      <th>28</th>\n",
              "      <td>0</td>\n",
              "      <td>1</td>\n",
              "      <td>0</td>\n",
              "      <td>0</td>\n",
              "      <td>224</td>\n",
              "      <td>0.050</td>\n",
              "      <td>40</td>\n",
              "      <td>2.9</td>\n",
              "      <td>8.0</td>\n",
              "    </tr>\n",
              "    <tr>\n",
              "      <th>29</th>\n",
              "      <td>0</td>\n",
              "      <td>1</td>\n",
              "      <td>0</td>\n",
              "      <td>0</td>\n",
              "      <td>196</td>\n",
              "      <td>0.060</td>\n",
              "      <td>48</td>\n",
              "      <td>3.3</td>\n",
              "      <td>10.0</td>\n",
              "    </tr>\n",
              "    <tr>\n",
              "      <th>...</th>\n",
              "      <td>...</td>\n",
              "      <td>...</td>\n",
              "      <td>...</td>\n",
              "      <td>...</td>\n",
              "      <td>...</td>\n",
              "      <td>...</td>\n",
              "      <td>...</td>\n",
              "      <td>...</td>\n",
              "      <td>...</td>\n",
              "    </tr>\n",
              "    <tr>\n",
              "      <th>43</th>\n",
              "      <td>0</td>\n",
              "      <td>1</td>\n",
              "      <td>0</td>\n",
              "      <td>0</td>\n",
              "      <td>115</td>\n",
              "      <td>0.050</td>\n",
              "      <td>44</td>\n",
              "      <td>3.3</td>\n",
              "      <td>10.0</td>\n",
              "    </tr>\n",
              "    <tr>\n",
              "      <th>44</th>\n",
              "      <td>0</td>\n",
              "      <td>0</td>\n",
              "      <td>1</td>\n",
              "      <td>0</td>\n",
              "      <td>195</td>\n",
              "      <td>0.050</td>\n",
              "      <td>40</td>\n",
              "      <td>2.6</td>\n",
              "      <td>9.2</td>\n",
              "    </tr>\n",
              "    <tr>\n",
              "      <th>45</th>\n",
              "      <td>0</td>\n",
              "      <td>0</td>\n",
              "      <td>1</td>\n",
              "      <td>0</td>\n",
              "      <td>199</td>\n",
              "      <td>0.050</td>\n",
              "      <td>44</td>\n",
              "      <td>3.7</td>\n",
              "      <td>11.1</td>\n",
              "    </tr>\n",
              "    <tr>\n",
              "      <th>46</th>\n",
              "      <td>0</td>\n",
              "      <td>0</td>\n",
              "      <td>1</td>\n",
              "      <td>0</td>\n",
              "      <td>196</td>\n",
              "      <td>0.060</td>\n",
              "      <td>47</td>\n",
              "      <td>2.8</td>\n",
              "      <td>11.4</td>\n",
              "    </tr>\n",
              "    <tr>\n",
              "      <th>47</th>\n",
              "      <td>0</td>\n",
              "      <td>0</td>\n",
              "      <td>1</td>\n",
              "      <td>0</td>\n",
              "      <td>199</td>\n",
              "      <td>0.050</td>\n",
              "      <td>42</td>\n",
              "      <td>3.2</td>\n",
              "      <td>6.7</td>\n",
              "    </tr>\n",
              "    <tr>\n",
              "      <th>48</th>\n",
              "      <td>0</td>\n",
              "      <td>0</td>\n",
              "      <td>1</td>\n",
              "      <td>0</td>\n",
              "      <td>206</td>\n",
              "      <td>0.045</td>\n",
              "      <td>41</td>\n",
              "      <td>3.6</td>\n",
              "      <td>7.1</td>\n",
              "    </tr>\n",
              "    <tr>\n",
              "      <th>49</th>\n",
              "      <td>0</td>\n",
              "      <td>0</td>\n",
              "      <td>1</td>\n",
              "      <td>0</td>\n",
              "      <td>196</td>\n",
              "      <td>0.060</td>\n",
              "      <td>49</td>\n",
              "      <td>3.4</td>\n",
              "      <td>7.2</td>\n",
              "    </tr>\n",
              "    <tr>\n",
              "      <th>50</th>\n",
              "      <td>0</td>\n",
              "      <td>0</td>\n",
              "      <td>1</td>\n",
              "      <td>0</td>\n",
              "      <td>267</td>\n",
              "      <td>0.055</td>\n",
              "      <td>48</td>\n",
              "      <td>3.9</td>\n",
              "      <td>9.7</td>\n",
              "    </tr>\n",
              "    <tr>\n",
              "      <th>51</th>\n",
              "      <td>0</td>\n",
              "      <td>0</td>\n",
              "      <td>1</td>\n",
              "      <td>0</td>\n",
              "      <td>268</td>\n",
              "      <td>0.055</td>\n",
              "      <td>49</td>\n",
              "      <td>3.8</td>\n",
              "      <td>8.9</td>\n",
              "    </tr>\n",
              "    <tr>\n",
              "      <th>52</th>\n",
              "      <td>0</td>\n",
              "      <td>0</td>\n",
              "      <td>1</td>\n",
              "      <td>0</td>\n",
              "      <td>278</td>\n",
              "      <td>0.045</td>\n",
              "      <td>40</td>\n",
              "      <td>3.0</td>\n",
              "      <td>6.1</td>\n",
              "    </tr>\n",
              "    <tr>\n",
              "      <th>53</th>\n",
              "      <td>0</td>\n",
              "      <td>0</td>\n",
              "      <td>1</td>\n",
              "      <td>0</td>\n",
              "      <td>274</td>\n",
              "      <td>0.055</td>\n",
              "      <td>44</td>\n",
              "      <td>3.0</td>\n",
              "      <td>10.5</td>\n",
              "    </tr>\n",
              "    <tr>\n",
              "      <th>54</th>\n",
              "      <td>0</td>\n",
              "      <td>0</td>\n",
              "      <td>1</td>\n",
              "      <td>0</td>\n",
              "      <td>131</td>\n",
              "      <td>0.055</td>\n",
              "      <td>45</td>\n",
              "      <td>3.2</td>\n",
              "      <td>3.8</td>\n",
              "    </tr>\n",
              "    <tr>\n",
              "      <th>55</th>\n",
              "      <td>0</td>\n",
              "      <td>0</td>\n",
              "      <td>1</td>\n",
              "      <td>0</td>\n",
              "      <td>132</td>\n",
              "      <td>0.045</td>\n",
              "      <td>28</td>\n",
              "      <td>0.8</td>\n",
              "      <td>2.3</td>\n",
              "    </tr>\n",
              "    <tr>\n",
              "      <th>56</th>\n",
              "      <td>0</td>\n",
              "      <td>0</td>\n",
              "      <td>1</td>\n",
              "      <td>0</td>\n",
              "      <td>132</td>\n",
              "      <td>0.055</td>\n",
              "      <td>31</td>\n",
              "      <td>0.0</td>\n",
              "      <td>0.0</td>\n",
              "    </tr>\n",
              "    <tr>\n",
              "      <th>57</th>\n",
              "      <td>0</td>\n",
              "      <td>0</td>\n",
              "      <td>1</td>\n",
              "      <td>0</td>\n",
              "      <td>112</td>\n",
              "      <td>0.050</td>\n",
              "      <td>37</td>\n",
              "      <td>2.7</td>\n",
              "      <td>2.4</td>\n",
              "    </tr>\n",
              "    <tr>\n",
              "      <th>58</th>\n",
              "      <td>0</td>\n",
              "      <td>0</td>\n",
              "      <td>1</td>\n",
              "      <td>0</td>\n",
              "      <td>109</td>\n",
              "      <td>0.070</td>\n",
              "      <td>51</td>\n",
              "      <td>2.2</td>\n",
              "      <td>6.4</td>\n",
              "    </tr>\n",
              "    <tr>\n",
              "      <th>59</th>\n",
              "      <td>0</td>\n",
              "      <td>0</td>\n",
              "      <td>1</td>\n",
              "      <td>0</td>\n",
              "      <td>112</td>\n",
              "      <td>0.040</td>\n",
              "      <td>27</td>\n",
              "      <td>0.0</td>\n",
              "      <td>0.0</td>\n",
              "    </tr>\n",
              "    <tr>\n",
              "      <th>60</th>\n",
              "      <td>0</td>\n",
              "      <td>0</td>\n",
              "      <td>1</td>\n",
              "      <td>0</td>\n",
              "      <td>112</td>\n",
              "      <td>0.050</td>\n",
              "      <td>42</td>\n",
              "      <td>2.8</td>\n",
              "      <td>8.2</td>\n",
              "    </tr>\n",
              "    <tr>\n",
              "      <th>61</th>\n",
              "      <td>0</td>\n",
              "      <td>0</td>\n",
              "      <td>1</td>\n",
              "      <td>0</td>\n",
              "      <td>112</td>\n",
              "      <td>0.060</td>\n",
              "      <td>47</td>\n",
              "      <td>2.5</td>\n",
              "      <td>7.4</td>\n",
              "    </tr>\n",
              "    <tr>\n",
              "      <th>62</th>\n",
              "      <td>0</td>\n",
              "      <td>0</td>\n",
              "      <td>1</td>\n",
              "      <td>0</td>\n",
              "      <td>115</td>\n",
              "      <td>0.030</td>\n",
              "      <td>19</td>\n",
              "      <td>0.0</td>\n",
              "      <td>1.2</td>\n",
              "    </tr>\n",
              "    <tr>\n",
              "      <th>63</th>\n",
              "      <td>0</td>\n",
              "      <td>0</td>\n",
              "      <td>0</td>\n",
              "      <td>1</td>\n",
              "      <td>212</td>\n",
              "      <td>0.055</td>\n",
              "      <td>47</td>\n",
              "      <td>3.8</td>\n",
              "      <td>9.5</td>\n",
              "    </tr>\n",
              "    <tr>\n",
              "      <th>64</th>\n",
              "      <td>0</td>\n",
              "      <td>0</td>\n",
              "      <td>0</td>\n",
              "      <td>1</td>\n",
              "      <td>207</td>\n",
              "      <td>0.060</td>\n",
              "      <td>46</td>\n",
              "      <td>2.9</td>\n",
              "      <td>8.5</td>\n",
              "    </tr>\n",
              "    <tr>\n",
              "      <th>65</th>\n",
              "      <td>0</td>\n",
              "      <td>0</td>\n",
              "      <td>0</td>\n",
              "      <td>1</td>\n",
              "      <td>224</td>\n",
              "      <td>0.055</td>\n",
              "      <td>52</td>\n",
              "      <td>4.6</td>\n",
              "      <td>9.4</td>\n",
              "    </tr>\n",
              "    <tr>\n",
              "      <th>66</th>\n",
              "      <td>0</td>\n",
              "      <td>0</td>\n",
              "      <td>0</td>\n",
              "      <td>1</td>\n",
              "      <td>199</td>\n",
              "      <td>0.050</td>\n",
              "      <td>43</td>\n",
              "      <td>3.3</td>\n",
              "      <td>8.8</td>\n",
              "    </tr>\n",
              "    <tr>\n",
              "      <th>67</th>\n",
              "      <td>0</td>\n",
              "      <td>0</td>\n",
              "      <td>0</td>\n",
              "      <td>1</td>\n",
              "      <td>112</td>\n",
              "      <td>0.050</td>\n",
              "      <td>43</td>\n",
              "      <td>3.2</td>\n",
              "      <td>3.5</td>\n",
              "    </tr>\n",
              "    <tr>\n",
              "      <th>68</th>\n",
              "      <td>0</td>\n",
              "      <td>0</td>\n",
              "      <td>0</td>\n",
              "      <td>1</td>\n",
              "      <td>114</td>\n",
              "      <td>0.040</td>\n",
              "      <td>33</td>\n",
              "      <td>0.5</td>\n",
              "      <td>1.5</td>\n",
              "    </tr>\n",
              "    <tr>\n",
              "      <th>69</th>\n",
              "      <td>0</td>\n",
              "      <td>0</td>\n",
              "      <td>0</td>\n",
              "      <td>1</td>\n",
              "      <td>116</td>\n",
              "      <td>0.050</td>\n",
              "      <td>42</td>\n",
              "      <td>2.8</td>\n",
              "      <td>1.7</td>\n",
              "    </tr>\n",
              "    <tr>\n",
              "      <th>70</th>\n",
              "      <td>0</td>\n",
              "      <td>0</td>\n",
              "      <td>0</td>\n",
              "      <td>1</td>\n",
              "      <td>115</td>\n",
              "      <td>0.050</td>\n",
              "      <td>35</td>\n",
              "      <td>0.9</td>\n",
              "      <td>4.5</td>\n",
              "    </tr>\n",
              "    <tr>\n",
              "      <th>71</th>\n",
              "      <td>0</td>\n",
              "      <td>0</td>\n",
              "      <td>0</td>\n",
              "      <td>1</td>\n",
              "      <td>114</td>\n",
              "      <td>0.080</td>\n",
              "      <td>63</td>\n",
              "      <td>4.0</td>\n",
              "      <td>6.0</td>\n",
              "    </tr>\n",
              "    <tr>\n",
              "      <th>72</th>\n",
              "      <td>0</td>\n",
              "      <td>0</td>\n",
              "      <td>0</td>\n",
              "      <td>1</td>\n",
              "      <td>108</td>\n",
              "      <td>0.070</td>\n",
              "      <td>45</td>\n",
              "      <td>0.0</td>\n",
              "      <td>2.6</td>\n",
              "    </tr>\n",
              "  </tbody>\n",
              "</table>\n",
              "<p>73 rows × 9 columns</p>\n",
              "</div>"
            ],
            "text/plain": [
              "    asahi  sapporo  kirin  suntry  price  alcohol  calorie  suger  prin\n",
              "0       1        0      0       0    194    0.050       42    3.0   5.5\n",
              "1       1        0      0       0    196    0.050       41    2.5   6.4\n",
              "2       1        0      0       0    200    0.070       47    1.7   6.9\n",
              "3       1        0      0       0    210    0.065       49    3.1   8.1\n",
              "4       1        0      0       0    213    0.055       45    3.1   5.2\n",
              "5       1        0      0       0    205    0.045       41    3.0   6.2\n",
              "6       1        0      0       0    233    0.050       34    1.0   6.4\n",
              "7       1        0      0       0    267    0.055       45    3.2   6.8\n",
              "8       1        0      0       0    233    0.060       44    2.3   6.8\n",
              "9       1        0      0       0    224    0.080       74    6.5   3.5\n",
              "10      1        0      0       0    206    0.050       41    3.4   NaN\n",
              "11      1        0      0       0    130    0.040       24    0.0   3.1\n",
              "12      1        0      0       0    132    0.060       34    0.0   0.0\n",
              "13      1        0      0       0    131    0.055       45    3.6   3.2\n",
              "14      1        0      0       0    141    0.050       35    1.2   2.4\n",
              "15      1        0      0       0    152    0.030       30    2.7   NaN\n",
              "16      1        0      0       0    178    0.055       46    3.7   NaN\n",
              "17      1        0      0       0    162    0.055       46    3.7   NaN\n",
              "18      1        0      0       0    150    0.060       50    3.6   4.7\n",
              "19      1        0      0       0    111    0.050       45    3.2   4.4\n",
              "20      1        0      0       0    114    0.060       51    3.8   4.3\n",
              "21      1        0      0       0    114    0.060       39    0.0   1.9\n",
              "22      1        0      0       0    114    0.070       50    2.2   5.4\n",
              "23      1        0      0       0    115    0.035       22    0.0   0.0\n",
              "24      1        0      0       0    111    0.040       27    0.0   3.0\n",
              "25      0        1      0       0    189    0.050       40    2.9   7.5\n",
              "26      0        1      0       0    250    0.050       43    3.5   6.5\n",
              "27      0        1      0       0    188    0.055       45    3.2   9.4\n",
              "28      0        1      0       0    224    0.050       40    2.9   8.0\n",
              "29      0        1      0       0    196    0.060       48    3.3  10.0\n",
              "..    ...      ...    ...     ...    ...      ...      ...    ...   ...\n",
              "43      0        1      0       0    115    0.050       44    3.3  10.0\n",
              "44      0        0      1       0    195    0.050       40    2.6   9.2\n",
              "45      0        0      1       0    199    0.050       44    3.7  11.1\n",
              "46      0        0      1       0    196    0.060       47    2.8  11.4\n",
              "47      0        0      1       0    199    0.050       42    3.2   6.7\n",
              "48      0        0      1       0    206    0.045       41    3.6   7.1\n",
              "49      0        0      1       0    196    0.060       49    3.4   7.2\n",
              "50      0        0      1       0    267    0.055       48    3.9   9.7\n",
              "51      0        0      1       0    268    0.055       49    3.8   8.9\n",
              "52      0        0      1       0    278    0.045       40    3.0   6.1\n",
              "53      0        0      1       0    274    0.055       44    3.0  10.5\n",
              "54      0        0      1       0    131    0.055       45    3.2   3.8\n",
              "55      0        0      1       0    132    0.045       28    0.8   2.3\n",
              "56      0        0      1       0    132    0.055       31    0.0   0.0\n",
              "57      0        0      1       0    112    0.050       37    2.7   2.4\n",
              "58      0        0      1       0    109    0.070       51    2.2   6.4\n",
              "59      0        0      1       0    112    0.040       27    0.0   0.0\n",
              "60      0        0      1       0    112    0.050       42    2.8   8.2\n",
              "61      0        0      1       0    112    0.060       47    2.5   7.4\n",
              "62      0        0      1       0    115    0.030       19    0.0   1.2\n",
              "63      0        0      0       1    212    0.055       47    3.8   9.5\n",
              "64      0        0      0       1    207    0.060       46    2.9   8.5\n",
              "65      0        0      0       1    224    0.055       52    4.6   9.4\n",
              "66      0        0      0       1    199    0.050       43    3.3   8.8\n",
              "67      0        0      0       1    112    0.050       43    3.2   3.5\n",
              "68      0        0      0       1    114    0.040       33    0.5   1.5\n",
              "69      0        0      0       1    116    0.050       42    2.8   1.7\n",
              "70      0        0      0       1    115    0.050       35    0.9   4.5\n",
              "71      0        0      0       1    114    0.080       63    4.0   6.0\n",
              "72      0        0      0       1    108    0.070       45    0.0   2.6\n",
              "\n",
              "[73 rows x 9 columns]"
            ]
          },
          "metadata": {
            "tags": []
          },
          "execution_count": 186
        }
      ]
    },
    {
      "cell_type": "markdown",
      "metadata": {
        "id": "VjUU6Nd5-ZgE",
        "colab_type": "text"
      },
      "source": [
        "NaNの消去"
      ]
    },
    {
      "cell_type": "code",
      "metadata": {
        "scrolled": true,
        "id": "19dsma8G-ZgE",
        "colab_type": "code",
        "colab": {}
      },
      "source": [
        "pca_data = pca_data.dropna(how='any')"
      ],
      "execution_count": 0,
      "outputs": []
    },
    {
      "cell_type": "code",
      "metadata": {
        "scrolled": false,
        "id": "fraajTQ_-ZgG",
        "colab_type": "code",
        "colab": {},
        "outputId": "eb738855-9a77-4615-b009-bf7c04308f71"
      },
      "source": [
        "from sklearn.decomposition import PCA\n",
        "\n",
        "pca = PCA(n_components=2)\n",
        "total_pca = pca.fit_transform(pca_data)\n",
        "type(total_pca)"
      ],
      "execution_count": 0,
      "outputs": [
        {
          "output_type": "execute_result",
          "data": {
            "text/plain": [
              "numpy.ndarray"
            ]
          },
          "metadata": {
            "tags": []
          },
          "execution_count": 217
        }
      ]
    },
    {
      "cell_type": "code",
      "metadata": {
        "id": "SXQlV-io-ZgJ",
        "colab_type": "code",
        "colab": {},
        "outputId": "7744fc15-48be-4630-b637-3754cb40af43"
      },
      "source": [
        "pca.n_components_"
      ],
      "execution_count": 0,
      "outputs": [
        {
          "output_type": "execute_result",
          "data": {
            "text/plain": [
              "2"
            ]
          },
          "metadata": {
            "tags": []
          },
          "execution_count": 218
        }
      ]
    },
    {
      "cell_type": "markdown",
      "metadata": {
        "id": "_sBpaXfw-ZgM",
        "colab_type": "text"
      },
      "source": [
        "縦軸は価格では？<br>\n",
        "横軸はカロリー,糖質,プリン体などが関係している……味わいでは？"
      ]
    },
    {
      "cell_type": "code",
      "metadata": {
        "scrolled": true,
        "id": "-fQgthkK-ZgM",
        "colab_type": "code",
        "colab": {},
        "outputId": "4f2f565c-cc82-4cec-97b5-8f22c57fd5b5"
      },
      "source": [
        "print(pca.components_[0])\n",
        "print(pca_data.columns[np.argmax(pca.components_[0])])\n",
        "print(\"=\" * 100)\n",
        "print(pca.components_[1])\n",
        "print(pca_data.columns[np.argmax(pca.components_[1])])"
      ],
      "execution_count": 0,
      "outputs": [
        {
          "output_type": "stream",
          "text": [
            "[-1.28071790e-04  3.96367736e-04  6.11443812e-04 -8.79739759e-04\n",
            "  9.98373383e-01  6.70184802e-06  4.20240967e-02  1.13671690e-02\n",
            "  3.57577711e-02  8.68400121e-03]\n",
            "price\n",
            "====================================================================================================\n",
            "[-3.33148328e-03  6.44350689e-03 -8.77931536e-03  5.66729176e-03\n",
            " -4.78001941e-02  9.32616276e-04  9.81752849e-01  1.13710167e-01\n",
            "  1.44134706e-01  2.99783812e-03]\n",
            "calorie\n"
          ],
          "name": "stdout"
        }
      ]
    },
    {
      "cell_type": "code",
      "metadata": {
        "scrolled": true,
        "id": "-XtjVHh3-ZgS",
        "colab_type": "code",
        "colab": {},
        "outputId": "fb5a8e59-6d3c-4988-a9f5-76fdf51a679f"
      },
      "source": [
        "pca_pandas = pd.DataFrame(total_pca,columns=[\"第一主成分\", \"第二主成分\"])\n",
        "pca_pandas.head()"
      ],
      "execution_count": 0,
      "outputs": [
        {
          "output_type": "execute_result",
          "data": {
            "text/html": [
              "<div>\n",
              "<style scoped>\n",
              "    .dataframe tbody tr th:only-of-type {\n",
              "        vertical-align: middle;\n",
              "    }\n",
              "\n",
              "    .dataframe tbody tr th {\n",
              "        vertical-align: top;\n",
              "    }\n",
              "\n",
              "    .dataframe thead th {\n",
              "        text-align: right;\n",
              "    }\n",
              "</style>\n",
              "<table border=\"1\" class=\"dataframe\">\n",
              "  <thead>\n",
              "    <tr style=\"text-align: right;\">\n",
              "      <th></th>\n",
              "      <th>第一主成分</th>\n",
              "      <th>第二主成分</th>\n",
              "    </tr>\n",
              "  </thead>\n",
              "  <tbody>\n",
              "    <tr>\n",
              "      <th>0</th>\n",
              "      <td>24.321885</td>\n",
              "      <td>-1.898612</td>\n",
              "    </tr>\n",
              "    <tr>\n",
              "      <th>1</th>\n",
              "      <td>26.303106</td>\n",
              "      <td>-2.903099</td>\n",
              "    </tr>\n",
              "    <tr>\n",
              "      <th>2</th>\n",
              "      <td>30.557530</td>\n",
              "      <td>2.777335</td>\n",
              "    </tr>\n",
              "    <tr>\n",
              "      <th>3</th>\n",
              "      <td>40.684135</td>\n",
              "      <td>4.594990</td>\n",
              "    </tr>\n",
              "    <tr>\n",
              "      <th>4</th>\n",
              "      <td>43.407461</td>\n",
              "      <td>0.106578</td>\n",
              "    </tr>\n",
              "  </tbody>\n",
              "</table>\n",
              "</div>"
            ],
            "text/plain": [
              "       第一主成分     第二主成分\n",
              "0  24.321885 -1.898612\n",
              "1  26.303106 -2.903099\n",
              "2  30.557530  2.777335\n",
              "3  40.684135  4.594990\n",
              "4  43.407461  0.106578"
            ]
          },
          "metadata": {
            "tags": []
          },
          "execution_count": 220
        }
      ]
    },
    {
      "cell_type": "code",
      "metadata": {
        "scrolled": true,
        "id": "a8Be0yAR-ZgW",
        "colab_type": "code",
        "colab": {},
        "outputId": "7910e451-ac29-4f6c-955a-4a75688d9b45"
      },
      "source": [
        "total_pca[:,0]"
      ],
      "execution_count": 0,
      "outputs": [
        {
          "output_type": "execute_result",
          "data": {
            "text/plain": [
              "array([ 24.32188537,  26.30310645,  30.55752984,  40.68413519,\n",
              "        43.40746135,  35.28699889,  62.93170218,  97.37797317,\n",
              "        63.38102364,  55.5861277 , -40.45904909, -38.15291031,\n",
              "       -38.53367199, -29.02606659, -19.30082055, -58.46277722,\n",
              "       -55.2122679 , -55.84557095, -55.23314585, -55.62954715,\n",
              "       -59.30564685,  19.31687353,  80.3147847 ,  18.59997058,\n",
              "        54.27782081,  26.73562134,  42.48979844,  42.63009407,\n",
              "        70.61689644,  33.64872656,  42.57270995,  58.58870817,\n",
              "       -35.32536218, -43.5608581 , -53.72583731, -58.18081724,\n",
              "       -55.14732854, -52.57103849, -58.59788993, -54.30940311,\n",
              "        25.36470696,  29.60674053,  26.73818962,  29.35967456,\n",
              "        36.32511408,  26.67887547,  97.61643953,  98.62709408,\n",
              "       108.12339547, 104.45533259, -38.51602468, -38.31297887,\n",
              "       -38.27824312, -57.87705622, -60.14649138, -58.41380726,\n",
              "       -57.45840395, -57.28029977, -55.71197063,  42.65409993,\n",
              "        37.57422073,  54.85021896,  29.47643551, -57.58138569,\n",
              "       -56.10708686, -53.69882711, -54.91284504, -54.64566863,\n",
              "       -61.55938783])"
            ]
          },
          "metadata": {
            "tags": []
          },
          "execution_count": 221
        }
      ]
    },
    {
      "cell_type": "code",
      "metadata": {
        "scrolled": false,
        "id": "Ip2gderj-ZgZ",
        "colab_type": "code",
        "colab": {},
        "outputId": "b51883f6-1ac0-4f95-d03d-a66e14df4f1f"
      },
      "source": [
        "import matplotlib.pyplot as plt\n",
        "\n",
        "plt.scatter(pca_pandas.iloc[:,0], pca_pandas.iloc[:,1])"
      ],
      "execution_count": 0,
      "outputs": [
        {
          "output_type": "execute_result",
          "data": {
            "text/plain": [
              "<matplotlib.collections.PathCollection at 0x122a67be0>"
            ]
          },
          "metadata": {
            "tags": []
          },
          "execution_count": 222
        },
        {
          "output_type": "display_data",
          "data": {
            "image/png": "[encoded data removed]",
            "text/plain": [
              "<Figure size 432x288 with 1 Axes>"
            ]
          },
          "metadata": {
            "tags": [],
            "needs_background": "light"
          }
        }
      ]
    },
    {
      "cell_type": "code",
      "metadata": {
        "scrolled": true,
        "id": "O8uBYVBE-Zgc",
        "colab_type": "code",
        "colab": {},
        "outputId": "99a98ce7-2d42-4e43-9d8a-5822223e4737"
      },
      "source": [
        "from sklearn.cluster import KMeans\n",
        "\n",
        "pred = KMeans(n_clusters=2).fit_predict(pca_pandas)\n",
        "pred"
      ],
      "execution_count": 0,
      "outputs": [
        {
          "output_type": "execute_result",
          "data": {
            "text/plain": [
              "array([1, 1, 1, 1, 1, 1, 1, 1, 1, 1, 0, 0, 0, 0, 0, 0, 0, 0, 0, 0, 0, 1,\n",
              "       1, 1, 1, 1, 1, 1, 1, 1, 1, 1, 0, 0, 0, 0, 0, 0, 0, 0, 1, 1, 1, 1,\n",
              "       1, 1, 1, 1, 1, 1, 0, 0, 0, 0, 0, 0, 0, 0, 0, 1, 1, 1, 1, 0, 0, 0,\n",
              "       0, 0, 0], dtype=int32)"
            ]
          },
          "metadata": {
            "tags": []
          },
          "execution_count": 198
        }
      ]
    },
    {
      "cell_type": "code",
      "metadata": {
        "id": "Ue4d4bcR-Zgf",
        "colab_type": "code",
        "colab": {},
        "outputId": "f6d1be7d-124b-469e-9cae-eb9e1fb9e215"
      },
      "source": [
        "pca_pandas[\"K-means\"] = pred\n",
        "pca_pandas.head()"
      ],
      "execution_count": 0,
      "outputs": [
        {
          "output_type": "execute_result",
          "data": {
            "text/html": [
              "<div>\n",
              "<style scoped>\n",
              "    .dataframe tbody tr th:only-of-type {\n",
              "        vertical-align: middle;\n",
              "    }\n",
              "\n",
              "    .dataframe tbody tr th {\n",
              "        vertical-align: top;\n",
              "    }\n",
              "\n",
              "    .dataframe thead th {\n",
              "        text-align: right;\n",
              "    }\n",
              "</style>\n",
              "<table border=\"1\" class=\"dataframe\">\n",
              "  <thead>\n",
              "    <tr style=\"text-align: right;\">\n",
              "      <th></th>\n",
              "      <th>第一主成分</th>\n",
              "      <th>第二主成分</th>\n",
              "      <th>K-means</th>\n",
              "    </tr>\n",
              "  </thead>\n",
              "  <tbody>\n",
              "    <tr>\n",
              "      <th>0</th>\n",
              "      <td>24.318525</td>\n",
              "      <td>-1.899439</td>\n",
              "      <td>1</td>\n",
              "    </tr>\n",
              "    <tr>\n",
              "      <th>1</th>\n",
              "      <td>26.299821</td>\n",
              "      <td>-2.903884</td>\n",
              "      <td>1</td>\n",
              "    </tr>\n",
              "    <tr>\n",
              "      <th>2</th>\n",
              "      <td>30.554401</td>\n",
              "      <td>2.776694</td>\n",
              "      <td>1</td>\n",
              "    </tr>\n",
              "    <tr>\n",
              "      <th>3</th>\n",
              "      <td>40.681387</td>\n",
              "      <td>4.594623</td>\n",
              "      <td>1</td>\n",
              "    </tr>\n",
              "    <tr>\n",
              "      <th>4</th>\n",
              "      <td>43.404820</td>\n",
              "      <td>0.106280</td>\n",
              "      <td>1</td>\n",
              "    </tr>\n",
              "  </tbody>\n",
              "</table>\n",
              "</div>"
            ],
            "text/plain": [
              "       第一主成分     第二主成分  K-means\n",
              "0  24.318525 -1.899439        1\n",
              "1  26.299821 -2.903884        1\n",
              "2  30.554401  2.776694        1\n",
              "3  40.681387  4.594623        1\n",
              "4  43.404820  0.106280        1"
            ]
          },
          "metadata": {
            "tags": []
          },
          "execution_count": 199
        }
      ]
    },
    {
      "cell_type": "code",
      "metadata": {
        "id": "eQFj7iTX-Zgi",
        "colab_type": "code",
        "colab": {},
        "outputId": "d3ff9db9-1f24-4fb0-8640-8eb784a78c73"
      },
      "source": [
        "import numpy as np\n",
        "import matplotlib.pyplot as plt\n",
        "\n",
        "fig = plt.figure()\n",
        "\n",
        "ax = fig.add_subplot(1,1,1)\n",
        "\n",
        "for i in set(pca_pandas.iloc[:,2]):\n",
        "    df_kmean = pca_pandas[pca_pandas['K-means'] == i]\n",
        "    ax.scatter(data=df_kmean, x=\"第一主成分\", y = \"第二主成分\",label='K-means')\n",
        "    \n",
        "ax.set_title(\"beer_Position\")\n",
        "ax.set_xlabel(\"price\")\n",
        "ax.set_ylabel(\"taist\")\n",
        "\n",
        "fig.show()"
      ],
      "execution_count": 0,
      "outputs": [
        {
          "output_type": "display_data",
          "data": {
            "image/png": "[encoded data removed]",
            "text/plain": [
              "<Figure size 432x288 with 1 Axes>"
            ]
          },
          "metadata": {
            "tags": [],
            "needs_background": "light"
          }
        }
      ]
    },
    {
      "cell_type": "code",
      "metadata": {
        "scrolled": true,
        "id": "K9y543-T-Zgm",
        "colab_type": "code",
        "colab": {},
        "outputId": "0a3ab908-dfdf-4a87-e871-3e864cf9bcb0"
      },
      "source": [
        "pca_data[\"K-means\"] = pred\n",
        "pca_data.head()"
      ],
      "execution_count": 0,
      "outputs": [
        {
          "output_type": "stream",
          "text": [
            "/Users/kengotobita/anaconda3/lib/python3.6/site-packages/ipykernel_launcher.py:1: SettingWithCopyWarning: \n",
            "A value is trying to be set on a copy of a slice from a DataFrame.\n",
            "Try using .loc[row_indexer,col_indexer] = value instead\n",
            "\n",
            "See the caveats in the documentation: http://pandas.pydata.org/pandas-docs/stable/indexing.html#indexing-view-versus-copy\n",
            "  \"\"\"Entry point for launching an IPython kernel.\n"
          ],
          "name": "stderr"
        },
        {
          "output_type": "execute_result",
          "data": {
            "text/html": [
              "<div>\n",
              "<style scoped>\n",
              "    .dataframe tbody tr th:only-of-type {\n",
              "        vertical-align: middle;\n",
              "    }\n",
              "\n",
              "    .dataframe tbody tr th {\n",
              "        vertical-align: top;\n",
              "    }\n",
              "\n",
              "    .dataframe thead th {\n",
              "        text-align: right;\n",
              "    }\n",
              "</style>\n",
              "<table border=\"1\" class=\"dataframe\">\n",
              "  <thead>\n",
              "    <tr style=\"text-align: right;\">\n",
              "      <th></th>\n",
              "      <th>asahi</th>\n",
              "      <th>sapporo</th>\n",
              "      <th>kirin</th>\n",
              "      <th>suntry</th>\n",
              "      <th>price</th>\n",
              "      <th>alcohol</th>\n",
              "      <th>calorie</th>\n",
              "      <th>suger</th>\n",
              "      <th>prin</th>\n",
              "      <th>K-means</th>\n",
              "    </tr>\n",
              "  </thead>\n",
              "  <tbody>\n",
              "    <tr>\n",
              "      <th>0</th>\n",
              "      <td>1</td>\n",
              "      <td>0</td>\n",
              "      <td>0</td>\n",
              "      <td>0</td>\n",
              "      <td>194</td>\n",
              "      <td>0.050</td>\n",
              "      <td>42</td>\n",
              "      <td>3.0</td>\n",
              "      <td>5.5</td>\n",
              "      <td>1</td>\n",
              "    </tr>\n",
              "    <tr>\n",
              "      <th>1</th>\n",
              "      <td>1</td>\n",
              "      <td>0</td>\n",
              "      <td>0</td>\n",
              "      <td>0</td>\n",
              "      <td>196</td>\n",
              "      <td>0.050</td>\n",
              "      <td>41</td>\n",
              "      <td>2.5</td>\n",
              "      <td>6.4</td>\n",
              "      <td>1</td>\n",
              "    </tr>\n",
              "    <tr>\n",
              "      <th>2</th>\n",
              "      <td>1</td>\n",
              "      <td>0</td>\n",
              "      <td>0</td>\n",
              "      <td>0</td>\n",
              "      <td>200</td>\n",
              "      <td>0.070</td>\n",
              "      <td>47</td>\n",
              "      <td>1.7</td>\n",
              "      <td>6.9</td>\n",
              "      <td>1</td>\n",
              "    </tr>\n",
              "    <tr>\n",
              "      <th>3</th>\n",
              "      <td>1</td>\n",
              "      <td>0</td>\n",
              "      <td>0</td>\n",
              "      <td>0</td>\n",
              "      <td>210</td>\n",
              "      <td>0.065</td>\n",
              "      <td>49</td>\n",
              "      <td>3.1</td>\n",
              "      <td>8.1</td>\n",
              "      <td>1</td>\n",
              "    </tr>\n",
              "    <tr>\n",
              "      <th>4</th>\n",
              "      <td>1</td>\n",
              "      <td>0</td>\n",
              "      <td>0</td>\n",
              "      <td>0</td>\n",
              "      <td>213</td>\n",
              "      <td>0.055</td>\n",
              "      <td>45</td>\n",
              "      <td>3.1</td>\n",
              "      <td>5.2</td>\n",
              "      <td>1</td>\n",
              "    </tr>\n",
              "  </tbody>\n",
              "</table>\n",
              "</div>"
            ],
            "text/plain": [
              "   asahi  sapporo  kirin  suntry  price  alcohol  calorie  suger  prin  \\\n",
              "0      1        0      0       0    194    0.050       42    3.0   5.5   \n",
              "1      1        0      0       0    196    0.050       41    2.5   6.4   \n",
              "2      1        0      0       0    200    0.070       47    1.7   6.9   \n",
              "3      1        0      0       0    210    0.065       49    3.1   8.1   \n",
              "4      1        0      0       0    213    0.055       45    3.1   5.2   \n",
              "\n",
              "   K-means  \n",
              "0        1  \n",
              "1        1  \n",
              "2        1  \n",
              "3        1  \n",
              "4        1  "
            ]
          },
          "metadata": {
            "tags": []
          },
          "execution_count": 207
        }
      ]
    },
    {
      "cell_type": "code",
      "metadata": {
        "id": "OxkNEUye-Zgo",
        "colab_type": "code",
        "colab": {},
        "outputId": "c74e2d27-93ce-4cb3-f865-4f775058e8a7"
      },
      "source": [
        "kmean0 = pca_data[pca_data[\"K-means\"] == 0]\n",
        "kmean0.iloc[:,5:9].describe()"
      ],
      "execution_count": 0,
      "outputs": [
        {
          "output_type": "execute_result",
          "data": {
            "text/html": [
              "<div>\n",
              "<style scoped>\n",
              "    .dataframe tbody tr th:only-of-type {\n",
              "        vertical-align: middle;\n",
              "    }\n",
              "\n",
              "    .dataframe tbody tr th {\n",
              "        vertical-align: top;\n",
              "    }\n",
              "\n",
              "    .dataframe thead th {\n",
              "        text-align: right;\n",
              "    }\n",
              "</style>\n",
              "<table border=\"1\" class=\"dataframe\">\n",
              "  <thead>\n",
              "    <tr style=\"text-align: right;\">\n",
              "      <th></th>\n",
              "      <th>alcohol</th>\n",
              "      <th>calorie</th>\n",
              "      <th>suger</th>\n",
              "      <th>prin</th>\n",
              "    </tr>\n",
              "  </thead>\n",
              "  <tbody>\n",
              "    <tr>\n",
              "      <th>count</th>\n",
              "      <td>34.000000</td>\n",
              "      <td>34.000000</td>\n",
              "      <td>34.000000</td>\n",
              "      <td>34.000000</td>\n",
              "    </tr>\n",
              "    <tr>\n",
              "      <th>mean</th>\n",
              "      <td>0.053529</td>\n",
              "      <td>40.176471</td>\n",
              "      <td>1.932353</td>\n",
              "      <td>3.975000</td>\n",
              "    </tr>\n",
              "    <tr>\n",
              "      <th>std</th>\n",
              "      <td>0.012218</td>\n",
              "      <td>10.489448</td>\n",
              "      <td>1.525087</td>\n",
              "      <td>3.122262</td>\n",
              "    </tr>\n",
              "    <tr>\n",
              "      <th>min</th>\n",
              "      <td>0.030000</td>\n",
              "      <td>19.000000</td>\n",
              "      <td>0.000000</td>\n",
              "      <td>0.000000</td>\n",
              "    </tr>\n",
              "    <tr>\n",
              "      <th>25%</th>\n",
              "      <td>0.050000</td>\n",
              "      <td>33.250000</td>\n",
              "      <td>0.000000</td>\n",
              "      <td>1.750000</td>\n",
              "    </tr>\n",
              "    <tr>\n",
              "      <th>50%</th>\n",
              "      <td>0.050000</td>\n",
              "      <td>42.000000</td>\n",
              "      <td>2.350000</td>\n",
              "      <td>3.350000</td>\n",
              "    </tr>\n",
              "    <tr>\n",
              "      <th>75%</th>\n",
              "      <td>0.060000</td>\n",
              "      <td>45.750000</td>\n",
              "      <td>3.200000</td>\n",
              "      <td>5.850000</td>\n",
              "    </tr>\n",
              "    <tr>\n",
              "      <th>max</th>\n",
              "      <td>0.090000</td>\n",
              "      <td>63.000000</td>\n",
              "      <td>4.200000</td>\n",
              "      <td>11.000000</td>\n",
              "    </tr>\n",
              "  </tbody>\n",
              "</table>\n",
              "</div>"
            ],
            "text/plain": [
              "         alcohol    calorie      suger       prin\n",
              "count  34.000000  34.000000  34.000000  34.000000\n",
              "mean    0.053529  40.176471   1.932353   3.975000\n",
              "std     0.012218  10.489448   1.525087   3.122262\n",
              "min     0.030000  19.000000   0.000000   0.000000\n",
              "25%     0.050000  33.250000   0.000000   1.750000\n",
              "50%     0.050000  42.000000   2.350000   3.350000\n",
              "75%     0.060000  45.750000   3.200000   5.850000\n",
              "max     0.090000  63.000000   4.200000  11.000000"
            ]
          },
          "metadata": {
            "tags": []
          },
          "execution_count": 212
        }
      ]
    },
    {
      "cell_type": "code",
      "metadata": {
        "id": "j9-PVd7_-Zgr",
        "colab_type": "code",
        "colab": {},
        "outputId": "b8a918a1-6b68-4c5b-f590-16d6b53063e2"
      },
      "source": [
        "kmean1 = pca_data[pca_data[\"K-means\"] == 1]\n",
        "kmean1.iloc[:,5:9].describe()"
      ],
      "execution_count": 0,
      "outputs": [
        {
          "output_type": "execute_result",
          "data": {
            "text/html": [
              "<div>\n",
              "<style scoped>\n",
              "    .dataframe tbody tr th:only-of-type {\n",
              "        vertical-align: middle;\n",
              "    }\n",
              "\n",
              "    .dataframe tbody tr th {\n",
              "        vertical-align: top;\n",
              "    }\n",
              "\n",
              "    .dataframe thead th {\n",
              "        text-align: right;\n",
              "    }\n",
              "</style>\n",
              "<table border=\"1\" class=\"dataframe\">\n",
              "  <thead>\n",
              "    <tr style=\"text-align: right;\">\n",
              "      <th></th>\n",
              "      <th>alcohol</th>\n",
              "      <th>calorie</th>\n",
              "      <th>suger</th>\n",
              "      <th>prin</th>\n",
              "    </tr>\n",
              "  </thead>\n",
              "  <tbody>\n",
              "    <tr>\n",
              "      <th>count</th>\n",
              "      <td>35.000000</td>\n",
              "      <td>35.000000</td>\n",
              "      <td>35.000000</td>\n",
              "      <td>35.000000</td>\n",
              "    </tr>\n",
              "    <tr>\n",
              "      <th>mean</th>\n",
              "      <td>0.054571</td>\n",
              "      <td>45.142857</td>\n",
              "      <td>3.205714</td>\n",
              "      <td>8.294286</td>\n",
              "    </tr>\n",
              "    <tr>\n",
              "      <th>std</th>\n",
              "      <td>0.007005</td>\n",
              "      <td>6.141196</td>\n",
              "      <td>0.850240</td>\n",
              "      <td>2.012014</td>\n",
              "    </tr>\n",
              "    <tr>\n",
              "      <th>min</th>\n",
              "      <td>0.045000</td>\n",
              "      <td>34.000000</td>\n",
              "      <td>1.000000</td>\n",
              "      <td>3.500000</td>\n",
              "    </tr>\n",
              "    <tr>\n",
              "      <th>25%</th>\n",
              "      <td>0.050000</td>\n",
              "      <td>42.000000</td>\n",
              "      <td>2.900000</td>\n",
              "      <td>6.750000</td>\n",
              "    </tr>\n",
              "    <tr>\n",
              "      <th>50%</th>\n",
              "      <td>0.055000</td>\n",
              "      <td>45.000000</td>\n",
              "      <td>3.100000</td>\n",
              "      <td>8.500000</td>\n",
              "    </tr>\n",
              "    <tr>\n",
              "      <th>75%</th>\n",
              "      <td>0.055000</td>\n",
              "      <td>47.000000</td>\n",
              "      <td>3.500000</td>\n",
              "      <td>9.850000</td>\n",
              "    </tr>\n",
              "    <tr>\n",
              "      <th>max</th>\n",
              "      <td>0.080000</td>\n",
              "      <td>74.000000</td>\n",
              "      <td>6.500000</td>\n",
              "      <td>11.400000</td>\n",
              "    </tr>\n",
              "  </tbody>\n",
              "</table>\n",
              "</div>"
            ],
            "text/plain": [
              "         alcohol    calorie      suger       prin\n",
              "count  35.000000  35.000000  35.000000  35.000000\n",
              "mean    0.054571  45.142857   3.205714   8.294286\n",
              "std     0.007005   6.141196   0.850240   2.012014\n",
              "min     0.045000  34.000000   1.000000   3.500000\n",
              "25%     0.050000  42.000000   2.900000   6.750000\n",
              "50%     0.055000  45.000000   3.100000   8.500000\n",
              "75%     0.055000  47.000000   3.500000   9.850000\n",
              "max     0.080000  74.000000   6.500000  11.400000"
            ]
          },
          "metadata": {
            "tags": []
          },
          "execution_count": 213
        }
      ]
    },
    {
      "cell_type": "markdown",
      "metadata": {
        "id": "H0cvTLuE-Zgt",
        "colab_type": "text"
      },
      "source": [
        "***\n",
        "# ビール内ではどのような分類になっているか？"
      ]
    },
    {
      "cell_type": "code",
      "metadata": {
        "scrolled": true,
        "id": "bq3dQQB8-Zgt",
        "colab_type": "code",
        "colab": {},
        "outputId": "af0c1b66-92c7-4bff-8531-c63cb3d58330"
      },
      "source": [
        "kmean1.head()"
      ],
      "execution_count": 0,
      "outputs": [
        {
          "output_type": "execute_result",
          "data": {
            "text/html": [
              "<div>\n",
              "<style scoped>\n",
              "    .dataframe tbody tr th:only-of-type {\n",
              "        vertical-align: middle;\n",
              "    }\n",
              "\n",
              "    .dataframe tbody tr th {\n",
              "        vertical-align: top;\n",
              "    }\n",
              "\n",
              "    .dataframe thead th {\n",
              "        text-align: right;\n",
              "    }\n",
              "</style>\n",
              "<table border=\"1\" class=\"dataframe\">\n",
              "  <thead>\n",
              "    <tr style=\"text-align: right;\">\n",
              "      <th></th>\n",
              "      <th>name</th>\n",
              "      <th>asahi</th>\n",
              "      <th>sapporo</th>\n",
              "      <th>kirin</th>\n",
              "      <th>suntry</th>\n",
              "      <th>price</th>\n",
              "      <th>alcohol</th>\n",
              "      <th>calorie</th>\n",
              "      <th>suger</th>\n",
              "      <th>prin</th>\n",
              "      <th>beer_type</th>\n",
              "      <th>spark_type</th>\n",
              "      <th>new_type</th>\n",
              "      <th>K-means</th>\n",
              "    </tr>\n",
              "  </thead>\n",
              "  <tbody>\n",
              "    <tr>\n",
              "      <th>0</th>\n",
              "      <td>アサヒスーパードライ</td>\n",
              "      <td>1</td>\n",
              "      <td>0</td>\n",
              "      <td>0</td>\n",
              "      <td>0</td>\n",
              "      <td>194</td>\n",
              "      <td>0.050</td>\n",
              "      <td>42</td>\n",
              "      <td>3.0</td>\n",
              "      <td>5.5</td>\n",
              "      <td>1</td>\n",
              "      <td>0</td>\n",
              "      <td>0</td>\n",
              "      <td>1</td>\n",
              "    </tr>\n",
              "    <tr>\n",
              "      <th>1</th>\n",
              "      <td>アサヒスーパードライ 瞬冷辛口</td>\n",
              "      <td>1</td>\n",
              "      <td>0</td>\n",
              "      <td>0</td>\n",
              "      <td>0</td>\n",
              "      <td>196</td>\n",
              "      <td>0.050</td>\n",
              "      <td>41</td>\n",
              "      <td>2.5</td>\n",
              "      <td>6.4</td>\n",
              "      <td>1</td>\n",
              "      <td>0</td>\n",
              "      <td>0</td>\n",
              "      <td>1</td>\n",
              "    </tr>\n",
              "    <tr>\n",
              "      <th>2</th>\n",
              "      <td>アサヒ グランマイルド</td>\n",
              "      <td>1</td>\n",
              "      <td>0</td>\n",
              "      <td>0</td>\n",
              "      <td>0</td>\n",
              "      <td>200</td>\n",
              "      <td>0.070</td>\n",
              "      <td>47</td>\n",
              "      <td>1.7</td>\n",
              "      <td>6.9</td>\n",
              "      <td>1</td>\n",
              "      <td>0</td>\n",
              "      <td>0</td>\n",
              "      <td>1</td>\n",
              "    </tr>\n",
              "    <tr>\n",
              "      <th>3</th>\n",
              "      <td>アサヒドライプレミアム豊醸</td>\n",
              "      <td>1</td>\n",
              "      <td>0</td>\n",
              "      <td>0</td>\n",
              "      <td>0</td>\n",
              "      <td>210</td>\n",
              "      <td>0.065</td>\n",
              "      <td>49</td>\n",
              "      <td>3.1</td>\n",
              "      <td>8.1</td>\n",
              "      <td>1</td>\n",
              "      <td>0</td>\n",
              "      <td>0</td>\n",
              "      <td>1</td>\n",
              "    </tr>\n",
              "    <tr>\n",
              "      <th>4</th>\n",
              "      <td>アサヒスーパードライ ドライブラック</td>\n",
              "      <td>1</td>\n",
              "      <td>0</td>\n",
              "      <td>0</td>\n",
              "      <td>0</td>\n",
              "      <td>213</td>\n",
              "      <td>0.055</td>\n",
              "      <td>45</td>\n",
              "      <td>3.1</td>\n",
              "      <td>5.2</td>\n",
              "      <td>1</td>\n",
              "      <td>0</td>\n",
              "      <td>0</td>\n",
              "      <td>1</td>\n",
              "    </tr>\n",
              "  </tbody>\n",
              "</table>\n",
              "</div>"
            ],
            "text/plain": [
              "                 name  asahi  sapporo  kirin  suntry  price  alcohol  calorie  \\\n",
              "0          アサヒスーパードライ      1        0      0       0    194    0.050       42   \n",
              "1     アサヒスーパードライ 瞬冷辛口      1        0      0       0    196    0.050       41   \n",
              "2         アサヒ グランマイルド      1        0      0       0    200    0.070       47   \n",
              "3       アサヒドライプレミアム豊醸      1        0      0       0    210    0.065       49   \n",
              "4  アサヒスーパードライ ドライブラック      1        0      0       0    213    0.055       45   \n",
              "\n",
              "   suger  prin  beer_type  spark_type  new_type  K-means  \n",
              "0    3.0   5.5          1           0         0        1  \n",
              "1    2.5   6.4          1           0         0        1  \n",
              "2    1.7   6.9          1           0         0        1  \n",
              "3    3.1   8.1          1           0         0        1  \n",
              "4    3.1   5.2          1           0         0        1  "
            ]
          },
          "metadata": {
            "tags": []
          },
          "execution_count": 174
        }
      ]
    },
    {
      "cell_type": "code",
      "metadata": {
        "id": "kiOiII2--Zgx",
        "colab_type": "code",
        "colab": {},
        "outputId": "28b3455b-9a8d-4f1b-c7cb-05231282ec85"
      },
      "source": [
        "beer_pca = PCA(n_components=2)\n",
        "beer_pca_fit = beer_pca.fit_transform(kmean1)\n",
        "type(beer_pca_fit)"
      ],
      "execution_count": 0,
      "outputs": [
        {
          "output_type": "execute_result",
          "data": {
            "text/plain": [
              "numpy.ndarray"
            ]
          },
          "metadata": {
            "tags": []
          },
          "execution_count": 248
        }
      ]
    },
    {
      "cell_type": "code",
      "metadata": {
        "scrolled": true,
        "id": "1Tstf2bs-Zg2",
        "colab_type": "code",
        "colab": {},
        "outputId": "4ac240b0-0e1d-4873-c21b-b7e159455c4d"
      },
      "source": [
        "beer_pca_pandas = pd.DataFrame(beer_pca_fit,columns=[\"第一主成分\", \"第二主成分\"])\n",
        "beer_pca_pandas.head()"
      ],
      "execution_count": 0,
      "outputs": [
        {
          "output_type": "execute_result",
          "data": {
            "text/html": [
              "<div>\n",
              "<style scoped>\n",
              "    .dataframe tbody tr th:only-of-type {\n",
              "        vertical-align: middle;\n",
              "    }\n",
              "\n",
              "    .dataframe tbody tr th {\n",
              "        vertical-align: top;\n",
              "    }\n",
              "\n",
              "    .dataframe thead th {\n",
              "        text-align: right;\n",
              "    }\n",
              "</style>\n",
              "<table border=\"1\" class=\"dataframe\">\n",
              "  <thead>\n",
              "    <tr style=\"text-align: right;\">\n",
              "      <th></th>\n",
              "      <th>第一主成分</th>\n",
              "      <th>第二主成分</th>\n",
              "    </tr>\n",
              "  </thead>\n",
              "  <tbody>\n",
              "    <tr>\n",
              "      <th>0</th>\n",
              "      <td>-24.577187</td>\n",
              "      <td>-2.663920</td>\n",
              "    </tr>\n",
              "    <tr>\n",
              "      <th>1</th>\n",
              "      <td>-22.594019</td>\n",
              "      <td>-3.783367</td>\n",
              "    </tr>\n",
              "    <tr>\n",
              "      <th>2</th>\n",
              "      <td>-18.520460</td>\n",
              "      <td>2.003459</td>\n",
              "    </tr>\n",
              "    <tr>\n",
              "      <th>3</th>\n",
              "      <td>-8.492478</td>\n",
              "      <td>3.950143</td>\n",
              "    </tr>\n",
              "    <tr>\n",
              "      <th>4</th>\n",
              "      <td>-5.539233</td>\n",
              "      <td>0.084667</td>\n",
              "    </tr>\n",
              "  </tbody>\n",
              "</table>\n",
              "</div>"
            ],
            "text/plain": [
              "       第一主成分     第二主成分\n",
              "0 -24.577187 -2.663920\n",
              "1 -22.594019 -3.783367\n",
              "2 -18.520460  2.003459\n",
              "3  -8.492478  3.950143\n",
              "4  -5.539233  0.084667"
            ]
          },
          "metadata": {
            "tags": []
          },
          "execution_count": 249
        }
      ]
    },
    {
      "cell_type": "code",
      "metadata": {
        "id": "P3a3FCnQ-Zg6",
        "colab_type": "code",
        "colab": {},
        "outputId": "cf3cb55b-1ec3-4ec6-c2c8-4fc2e4eac3a9"
      },
      "source": [
        "print(beer_pca.components_[0])\n",
        "print(pca_data.columns[np.argmax(beer_pca.components_[0])])\n",
        "print(\"=\" * 100)\n",
        "print(pca.components_[1])\n",
        "print(pca_data.columns[np.argmax(beer_pca.components_[1])])"
      ],
      "execution_count": 0,
      "outputs": [
        {
          "output_type": "stream",
          "text": [
            "[-4.40988779e-04 -2.15446990e-03  3.97336476e-03 -1.37790608e-03\n",
            "  9.99895195e-01 -1.14300747e-05  1.29968258e-02  3.80816419e-03\n",
            " -1.91246820e-03  0.00000000e+00]\n",
            "price\n",
            "====================================================================================================\n",
            "[ 8.85205943e-03 -8.13597480e-03 -6.78789962e-03  6.07181498e-03\n",
            " -1.33954206e-02  9.19440251e-04  9.92357060e-01  1.11125958e-01\n",
            " -4.97062206e-02 -0.00000000e+00]\n",
            "calorie\n"
          ],
          "name": "stdout"
        }
      ]
    },
    {
      "cell_type": "code",
      "metadata": {
        "scrolled": true,
        "id": "02wGGmUd-Zg-",
        "colab_type": "code",
        "colab": {},
        "outputId": "39b0c50f-4c2d-4115-9cdb-c2bb217fce19"
      },
      "source": [
        "import matplotlib.pyplot as plt\n",
        "\n",
        "plt.scatter(beer_pca_pandas.iloc[:,0],beer_pca_pandas.iloc[:,1])"
      ],
      "execution_count": 0,
      "outputs": [
        {
          "output_type": "execute_result",
          "data": {
            "text/plain": [
              "<matplotlib.collections.PathCollection at 0x12345eeb8>"
            ]
          },
          "metadata": {
            "tags": []
          },
          "execution_count": 235
        },
        {
          "output_type": "display_data",
          "data": {
            "image/png": "[encoded data removed]",
            "text/plain": [
              "<Figure size 432x288 with 1 Axes>"
            ]
          },
          "metadata": {
            "tags": [],
            "needs_background": "light"
          }
        }
      ]
    },
    {
      "cell_type": "code",
      "metadata": {
        "id": "g5JCeNWe-ZhB",
        "colab_type": "code",
        "colab": {},
        "outputId": "f91c54c6-4dc1-4a1c-9b82-0b21fb05f947"
      },
      "source": [
        "from sklearn.cluster import KMeans\n",
        "\n",
        "beer_pred = KMeans(n_clusters=3).fit_predict(beer_pca_pandas)\n",
        "beer_pca_pandas[\"K-means\"] = beer_pred\n",
        "beer_pca_pandas.head()"
      ],
      "execution_count": 0,
      "outputs": [
        {
          "output_type": "execute_result",
          "data": {
            "text/html": [
              "<div>\n",
              "<style scoped>\n",
              "    .dataframe tbody tr th:only-of-type {\n",
              "        vertical-align: middle;\n",
              "    }\n",
              "\n",
              "    .dataframe tbody tr th {\n",
              "        vertical-align: top;\n",
              "    }\n",
              "\n",
              "    .dataframe thead th {\n",
              "        text-align: right;\n",
              "    }\n",
              "</style>\n",
              "<table border=\"1\" class=\"dataframe\">\n",
              "  <thead>\n",
              "    <tr style=\"text-align: right;\">\n",
              "      <th></th>\n",
              "      <th>第一主成分</th>\n",
              "      <th>第二主成分</th>\n",
              "      <th>K-means</th>\n",
              "    </tr>\n",
              "  </thead>\n",
              "  <tbody>\n",
              "    <tr>\n",
              "      <th>0</th>\n",
              "      <td>-24.577187</td>\n",
              "      <td>-2.663920</td>\n",
              "      <td>0</td>\n",
              "    </tr>\n",
              "    <tr>\n",
              "      <th>1</th>\n",
              "      <td>-22.594019</td>\n",
              "      <td>-3.783367</td>\n",
              "      <td>0</td>\n",
              "    </tr>\n",
              "    <tr>\n",
              "      <th>2</th>\n",
              "      <td>-18.520460</td>\n",
              "      <td>2.003459</td>\n",
              "      <td>0</td>\n",
              "    </tr>\n",
              "    <tr>\n",
              "      <th>3</th>\n",
              "      <td>-8.492478</td>\n",
              "      <td>3.950143</td>\n",
              "      <td>0</td>\n",
              "    </tr>\n",
              "    <tr>\n",
              "      <th>4</th>\n",
              "      <td>-5.539233</td>\n",
              "      <td>0.084667</td>\n",
              "      <td>0</td>\n",
              "    </tr>\n",
              "  </tbody>\n",
              "</table>\n",
              "</div>"
            ],
            "text/plain": [
              "       第一主成分     第二主成分  K-means\n",
              "0 -24.577187 -2.663920        0\n",
              "1 -22.594019 -3.783367        0\n",
              "2 -18.520460  2.003459        0\n",
              "3  -8.492478  3.950143        0\n",
              "4  -5.539233  0.084667        0"
            ]
          },
          "metadata": {
            "tags": []
          },
          "execution_count": 257
        }
      ]
    },
    {
      "cell_type": "code",
      "metadata": {
        "id": "GdGsVk---ZhE",
        "colab_type": "code",
        "colab": {},
        "outputId": "36095750-74b3-4af4-9298-e6e41e6e54ef"
      },
      "source": [
        "import numpy as np\n",
        "import matplotlib.pyplot as plt\n",
        "\n",
        "fig = plt.figure()\n",
        "\n",
        "ax = fig.add_subplot(1,1,1)\n",
        "\n",
        "for i in set(beer_pca_pandas.iloc[:,2]):\n",
        "    df_kmean = beer_pca_pandas[beer_pca_pandas['K-means'] == i]\n",
        "    ax.scatter(data=df_kmean, x=\"第一主成分\", y = \"第二主成分\",label='K-means')\n",
        "    \n",
        "ax.set_title(\"beer_Position\")\n",
        "ax.set_xlabel(\"price\")\n",
        "ax.set_ylabel(\"taist\")\n",
        "\n",
        "fig.show()"
      ],
      "execution_count": 0,
      "outputs": [
        {
          "output_type": "stream",
          "text": [
            "/Users/kengotobita/anaconda3/lib/python3.6/site-packages/matplotlib/figure.py:445: UserWarning: Matplotlib is currently using module://ipykernel.pylab.backend_inline, which is a non-GUI backend, so cannot show the figure.\n",
            "  % get_backend())\n"
          ],
          "name": "stderr"
        },
        {
          "output_type": "display_data",
          "data": {
            "image/png": "[encoded data removed]",
            "text/plain": [
              "<Figure size 432x288 with 1 Axes>"
            ]
          },
          "metadata": {
            "tags": [],
            "needs_background": "light"
          }
        }
      ]
    },
    {
      "cell_type": "code",
      "metadata": {
        "id": "VIsBVx3A-ZhI",
        "colab_type": "code",
        "colab": {},
        "outputId": "edefaf3a-082f-4600-fbb2-0c64e5e8c9de"
      },
      "source": [
        "beer_kmean0 = kmean0[kmean0[\"K-means\"] == 0]\n",
        "beer_kmean0.iloc[:,5:9].describe()"
      ],
      "execution_count": 0,
      "outputs": [
        {
          "output_type": "execute_result",
          "data": {
            "text/html": [
              "<div>\n",
              "<style scoped>\n",
              "    .dataframe tbody tr th:only-of-type {\n",
              "        vertical-align: middle;\n",
              "    }\n",
              "\n",
              "    .dataframe tbody tr th {\n",
              "        vertical-align: top;\n",
              "    }\n",
              "\n",
              "    .dataframe thead th {\n",
              "        text-align: right;\n",
              "    }\n",
              "</style>\n",
              "<table border=\"1\" class=\"dataframe\">\n",
              "  <thead>\n",
              "    <tr style=\"text-align: right;\">\n",
              "      <th></th>\n",
              "      <th>alcohol</th>\n",
              "      <th>calorie</th>\n",
              "      <th>suger</th>\n",
              "      <th>prin</th>\n",
              "    </tr>\n",
              "  </thead>\n",
              "  <tbody>\n",
              "    <tr>\n",
              "      <th>count</th>\n",
              "      <td>34.000000</td>\n",
              "      <td>34.000000</td>\n",
              "      <td>34.000000</td>\n",
              "      <td>34.000000</td>\n",
              "    </tr>\n",
              "    <tr>\n",
              "      <th>mean</th>\n",
              "      <td>0.053529</td>\n",
              "      <td>40.176471</td>\n",
              "      <td>1.932353</td>\n",
              "      <td>3.975000</td>\n",
              "    </tr>\n",
              "    <tr>\n",
              "      <th>std</th>\n",
              "      <td>0.012218</td>\n",
              "      <td>10.489448</td>\n",
              "      <td>1.525087</td>\n",
              "      <td>3.122262</td>\n",
              "    </tr>\n",
              "    <tr>\n",
              "      <th>min</th>\n",
              "      <td>0.030000</td>\n",
              "      <td>19.000000</td>\n",
              "      <td>0.000000</td>\n",
              "      <td>0.000000</td>\n",
              "    </tr>\n",
              "    <tr>\n",
              "      <th>25%</th>\n",
              "      <td>0.050000</td>\n",
              "      <td>33.250000</td>\n",
              "      <td>0.000000</td>\n",
              "      <td>1.750000</td>\n",
              "    </tr>\n",
              "    <tr>\n",
              "      <th>50%</th>\n",
              "      <td>0.050000</td>\n",
              "      <td>42.000000</td>\n",
              "      <td>2.350000</td>\n",
              "      <td>3.350000</td>\n",
              "    </tr>\n",
              "    <tr>\n",
              "      <th>75%</th>\n",
              "      <td>0.060000</td>\n",
              "      <td>45.750000</td>\n",
              "      <td>3.200000</td>\n",
              "      <td>5.850000</td>\n",
              "    </tr>\n",
              "    <tr>\n",
              "      <th>max</th>\n",
              "      <td>0.090000</td>\n",
              "      <td>63.000000</td>\n",
              "      <td>4.200000</td>\n",
              "      <td>11.000000</td>\n",
              "    </tr>\n",
              "  </tbody>\n",
              "</table>\n",
              "</div>"
            ],
            "text/plain": [
              "         alcohol    calorie      suger       prin\n",
              "count  34.000000  34.000000  34.000000  34.000000\n",
              "mean    0.053529  40.176471   1.932353   3.975000\n",
              "std     0.012218  10.489448   1.525087   3.122262\n",
              "min     0.030000  19.000000   0.000000   0.000000\n",
              "25%     0.050000  33.250000   0.000000   1.750000\n",
              "50%     0.050000  42.000000   2.350000   3.350000\n",
              "75%     0.060000  45.750000   3.200000   5.850000\n",
              "max     0.090000  63.000000   4.200000  11.000000"
            ]
          },
          "metadata": {
            "tags": []
          },
          "execution_count": 263
        }
      ]
    },
    {
      "cell_type": "code",
      "metadata": {
        "id": "kTwyp43w-ZhL",
        "colab_type": "code",
        "colab": {},
        "outputId": "82faecdf-953f-4518-8226-c77fb4faefd4"
      },
      "source": [
        "beer_kmean1 = kmean1[kmean1[\"K-means\"] == 1]\n",
        "beer_kmean1.iloc[:,[0,5,6,7,8,]].describe()"
      ],
      "execution_count": 0,
      "outputs": [
        {
          "output_type": "execute_result",
          "data": {
            "text/html": [
              "<div>\n",
              "<style scoped>\n",
              "    .dataframe tbody tr th:only-of-type {\n",
              "        vertical-align: middle;\n",
              "    }\n",
              "\n",
              "    .dataframe tbody tr th {\n",
              "        vertical-align: top;\n",
              "    }\n",
              "\n",
              "    .dataframe thead th {\n",
              "        text-align: right;\n",
              "    }\n",
              "</style>\n",
              "<table border=\"1\" class=\"dataframe\">\n",
              "  <thead>\n",
              "    <tr style=\"text-align: right;\">\n",
              "      <th></th>\n",
              "      <th>asahi</th>\n",
              "      <th>alcohol</th>\n",
              "      <th>calorie</th>\n",
              "      <th>suger</th>\n",
              "      <th>prin</th>\n",
              "    </tr>\n",
              "  </thead>\n",
              "  <tbody>\n",
              "    <tr>\n",
              "      <th>count</th>\n",
              "      <td>35.000000</td>\n",
              "      <td>35.000000</td>\n",
              "      <td>35.000000</td>\n",
              "      <td>35.000000</td>\n",
              "      <td>35.000000</td>\n",
              "    </tr>\n",
              "    <tr>\n",
              "      <th>mean</th>\n",
              "      <td>0.285714</td>\n",
              "      <td>0.054571</td>\n",
              "      <td>45.142857</td>\n",
              "      <td>3.205714</td>\n",
              "      <td>8.294286</td>\n",
              "    </tr>\n",
              "    <tr>\n",
              "      <th>std</th>\n",
              "      <td>0.458349</td>\n",
              "      <td>0.007005</td>\n",
              "      <td>6.141196</td>\n",
              "      <td>0.850240</td>\n",
              "      <td>2.012014</td>\n",
              "    </tr>\n",
              "    <tr>\n",
              "      <th>min</th>\n",
              "      <td>0.000000</td>\n",
              "      <td>0.045000</td>\n",
              "      <td>34.000000</td>\n",
              "      <td>1.000000</td>\n",
              "      <td>3.500000</td>\n",
              "    </tr>\n",
              "    <tr>\n",
              "      <th>25%</th>\n",
              "      <td>0.000000</td>\n",
              "      <td>0.050000</td>\n",
              "      <td>42.000000</td>\n",
              "      <td>2.900000</td>\n",
              "      <td>6.750000</td>\n",
              "    </tr>\n",
              "    <tr>\n",
              "      <th>50%</th>\n",
              "      <td>0.000000</td>\n",
              "      <td>0.055000</td>\n",
              "      <td>45.000000</td>\n",
              "      <td>3.100000</td>\n",
              "      <td>8.500000</td>\n",
              "    </tr>\n",
              "    <tr>\n",
              "      <th>75%</th>\n",
              "      <td>1.000000</td>\n",
              "      <td>0.055000</td>\n",
              "      <td>47.000000</td>\n",
              "      <td>3.500000</td>\n",
              "      <td>9.850000</td>\n",
              "    </tr>\n",
              "    <tr>\n",
              "      <th>max</th>\n",
              "      <td>1.000000</td>\n",
              "      <td>0.080000</td>\n",
              "      <td>74.000000</td>\n",
              "      <td>6.500000</td>\n",
              "      <td>11.400000</td>\n",
              "    </tr>\n",
              "  </tbody>\n",
              "</table>\n",
              "</div>"
            ],
            "text/plain": [
              "           asahi    alcohol    calorie      suger       prin\n",
              "count  35.000000  35.000000  35.000000  35.000000  35.000000\n",
              "mean    0.285714   0.054571  45.142857   3.205714   8.294286\n",
              "std     0.458349   0.007005   6.141196   0.850240   2.012014\n",
              "min     0.000000   0.045000  34.000000   1.000000   3.500000\n",
              "25%     0.000000   0.050000  42.000000   2.900000   6.750000\n",
              "50%     0.000000   0.055000  45.000000   3.100000   8.500000\n",
              "75%     1.000000   0.055000  47.000000   3.500000   9.850000\n",
              "max     1.000000   0.080000  74.000000   6.500000  11.400000"
            ]
          },
          "metadata": {
            "tags": []
          },
          "execution_count": 271
        }
      ]
    },
    {
      "cell_type": "code",
      "metadata": {
        "id": "P6xGrK_U-ZhN",
        "colab_type": "code",
        "colab": {}
      },
      "source": [
        "beer_kmean1 = kmean1[kmean1[\"K-means\"] == 1]\n",
        "beer_kmean1.iloc[:,5:9].describe()"
      ],
      "execution_count": 0,
      "outputs": []
    }
  ]
}